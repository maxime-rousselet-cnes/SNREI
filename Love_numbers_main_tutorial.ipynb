{
    "cells": [
        {
            "cell_type": "code",
            "execution_count": 6,
            "metadata": {},
            "outputs": [],
            "source": [
                "from snrei.utils.polar_motion.utils import (\n",
                "    get_polar_motion_time_series,\n",
                "    signal_trend,\n",
                ")\n",
                "from snrei.utils import load_load_signal_hyper_parameters\n"
            ]
        },
        {
            "cell_type": "code",
            "execution_count": 10,
            "metadata": {},
            "outputs": [
                {
                    "name": "stdout",
                    "output_type": "stream",
                    "text": [
                        "0 1 0 -2.7883743665562535\n",
                        "1 1 0 3.1375039922669754\n",
                        "2 1 0 -0.054706392687729234\n",
                        "3 1 0 0.4038360183984546\n",
                        "4 1 0 (0.17456481285536168+1.9849172088176994j)\n",
                        "5 1 0 -1.810352395962333\n",
                        "6 1 0 -3.192210384954707\n",
                        "7 1 0 -2.7336679738685232\n",
                        "8 1 0 -0.9780219705939098\n",
                        "9 1 0 -4.947856388229308\n",
                        "10 1 0 1.7556460032746046\n",
                        "11 1 0 2.2141884143607884\n"
                    ]
                }
            ],
            "source": [
                "from numpy import convolve, hanning, hamming, ones, linspace, concatenate\n",
                "from matplotlib.pyplot import plot, show, xlim\n",
                "\n",
                "load_signal_hyper_parameters = load_load_signal_hyper_parameters()\n",
                "load_signal_hyper_parameters.pole_data = \"pole\"\n",
                "dates, m_1, m_2 = get_polar_motion_time_series(load_signal_hyper_parameters=load_signal_hyper_parameters)\n",
                "dates_dx, dx, dy = get_polar_motion_time_series(i=7)\n",
                "m_1 /= 1000.0\n",
                "m_2 /= 1000.0\n",
                "dt = dates[1] - dates[0]\n",
                "for i_signal, signal in enumerate(\n",
                "    [\n",
                "        m_1 + dx,\n",
                "        m_1 - dx,\n",
                "        m_1 + dy,\n",
                "        m_1 - dy,\n",
                "        m_1 + m_2,\n",
                "        m_1 - m_2,\n",
                "        dx + dy,\n",
                "        dx - dy,\n",
                "        dx + m_2,\n",
                "        dx - m_2,\n",
                "        m_2 + dy,\n",
                "        m_2 - dy,\n",
                "    ]\n",
                "):\n",
                "    for factor in [1]:  # , 2, 4, 8]:\n",
                "        length_kernel = int(435 * factor / 365.25 / dt) + 1\n",
                "        for i_kernel, kernel in enumerate([ones(shape=(length_kernel))]):\n",
                "            \"\"\"\n",
                "            ,\n",
                "                hanning(M=length_kernel),\n",
                "                hamming(M=length_kernel),\n",
                "                concatenate((linspace(start=0, stop=1, num=length_kernel // 2), linspace(start=1, stop=0, num=length_kernel // 2))),\n",
                "            ]\n",
                "            ):\n",
                "            \"\"\"\n",
                "            v = kernel / sum(kernel)\n",
                "            # Gets mean motion correction.\n",
                "            elastic_past_trend, _ = signal_trend(\n",
                "                trend_dates=dates[dates < load_signal_hyper_parameters.pole_secular_term_trend_end_date],\n",
                "                signal=signal[dates < load_signal_hyper_parameters.pole_secular_term_trend_end_date],\n",
                "            )\n",
                "            print(i_signal, factor, i_kernel, elastic_past_trend * 1000)\n",
                "            \"\"\"\n",
                "            plot(convolve(a=dates, v=v, mode=\"valid\"), convolve(a=signal, v=v, mode=\"valid\") / ARC_SECOND_TO_RADIANS)\n",
                "            xlim(1975, 2015)\n",
                "            show()\n",
                "            \"\"\""
            ]
        },
        {
            "cell_type": "code",
            "execution_count": 4,
            "metadata": {},
            "outputs": [
                {
                    "data": {
                        "text/plain": [
                            "1.331512338024363e-09"
                        ]
                    },
                    "execution_count": 4,
                    "metadata": {},
                    "output_type": "execute_result"
                }
            ],
            "source": [
                "(2*3.14159/86164)**2 * 6371000/9.8/15**0.5 * 0.3077 *(2*3.14159/360/60/60)"
            ]
        },
        {
            "cell_type": "markdown",
            "metadata": {},
            "source": [
                "# I - Build an Earth description\n",
                "This class instance is built from 3 model files:\n",
                "- elasticity model\n",
                "- short term anelasticity model\n",
                "- long term anelasticity model\n",
                "and contains all preprocessed data necessary for Love number computations.\n",
                "\n",
                "The user can modify these files or chose other files using the same formalism, whose names are given in class constructor parameters:"
            ]
        },
        {
            "cell_type": "code",
            "execution_count": 5,
            "metadata": {},
            "outputs": [
                {
                    "ename": "ImportError",
                    "evalue": "cannot import name 'AnelasticityDescription' from 'snrei' (/home/maxime/Code/SNREI/snrei/__init__.py)",
                    "output_type": "error",
                    "traceback": [
                        "\u001b[0;31m---------------------------------------------------------------------------\u001b[0m",
                        "\u001b[0;31mImportError\u001b[0m                               Traceback (most recent call last)",
                        "Cell \u001b[0;32mIn[5], line 1\u001b[0m\n\u001b[0;32m----> 1\u001b[0m \u001b[38;5;28;01mfrom\u001b[39;00m \u001b[38;5;21;01msnrei\u001b[39;00m \u001b[38;5;28;01mimport\u001b[39;00m AnelasticityDescription\n\u001b[1;32m      3\u001b[0m Earth_description \u001b[38;5;241m=\u001b[39m AnelasticityDescription(\n\u001b[1;32m      4\u001b[0m     elasticity_name\u001b[38;5;241m=\u001b[39m\u001b[38;5;124m\"\u001b[39m\u001b[38;5;124mPREM\u001b[39m\u001b[38;5;124m\"\u001b[39m, short_term_anelasticity_name\u001b[38;5;241m=\u001b[39m\u001b[38;5;124m\"\u001b[39m\u001b[38;5;124muniform\u001b[39m\u001b[38;5;124m\"\u001b[39m, long_term_anelasticity_name\u001b[38;5;241m=\u001b[39m\u001b[38;5;124m\"\u001b[39m\u001b[38;5;124muniform\u001b[39m\u001b[38;5;124m\"\u001b[39m\n\u001b[1;32m      5\u001b[0m )\n",
                        "\u001b[0;31mImportError\u001b[0m: cannot import name 'AnelasticityDescription' from 'snrei' (/home/maxime/Code/SNREI/snrei/__init__.py)"
                    ]
                }
            ],
            "source": [
                "from snrei import AnelasticityDescription\n",
                "\n",
                "Earth_description = AnelasticityDescription(\n",
                "    elasticity_name=\"PREM\", short_term_anelasticity_name=\"uniform\", long_term_anelasticity_name=\"uniform\"\n",
                ")"
            ]
        },
        {
            "cell_type": "markdown",
            "metadata": {},
            "source": [
                "# II - Elastic Love numbers\n",
                "The frequency independent Love numbers computation only uses the elasticity model of the previously defined instance.\n",
                "\n",
                "The following function integrates the Earth model from the center of mass to the surface to give Love numbers for a given list of degrees.\n",
                "\n",
                "This list of degrees is either given as a parameter or built from 2 parameter files. See the default value.\n",
                "\n",
                "The following result is an array whose:\n",
                "- axis in position 0 corresponds to degrees\n",
                "- axis in position 1 corresponds to frequencies (only infinite for the elastic case)\n",
                "- axis in position 2 corresponds to Love number type: h', l', k', h*, l*, k*, h, l, k"
            ]
        },
        {
            "cell_type": "code",
            "execution_count": null,
            "metadata": {},
            "outputs": [],
            "source": [
                "from snrei import elastic_Love_numbers_computing, load_base_model, parameters_path, generate_degrees_list\n",
                "\n",
                "degrees = generate_degrees_list(\n",
                "    degree_thresholds=load_base_model(name=\"degree_thresholds\", path=parameters_path),\n",
                "    degree_steps=load_base_model(name=\"degree_steps\", path=parameters_path),\n",
                ")\n",
                "elastic_Love_numbers = elastic_Love_numbers_computing(anelasticity_description=Earth_description, degrees=degrees)"
            ]
        },
        {
            "cell_type": "code",
            "execution_count": null,
            "metadata": {},
            "outputs": [],
            "source": [
                "from matplotlib.pyplot import semilogx, figure, legend, grid, xlabel\n",
                "from numpy import array\n",
                "\n",
                "figure(figsize=(6, 2))\n",
                "semilogx(degrees, -elastic_Love_numbers[:, 0, 0].real, label=\"$-h_n'$\")\n",
                "semilogx(degrees, array(object=degrees) * elastic_Love_numbers[:, 0, 1].real, label=\"$nl_n'$\")\n",
                "semilogx(degrees, -array(object=degrees) * elastic_Love_numbers[:, 0, 2].real, label=\"$-nk_n'$\")\n",
                "grid()\n",
                "xlabel(\"$n$\")\n",
                "legend()"
            ]
        },
        {
            "cell_type": "markdown",
            "metadata": {},
            "source": [
                "# III - Anlastic Love numbers\n",
                "The following section uses the previously defined Earth description to compute frequency dependent Love numbers.\n",
                "\n",
                "It uses multiple processes on available cores.\n",
                "\n",
                "See the class LoveNumbersHyperParameters to understand all underlying parameters.\n",
                "\n",
                "The following result is an array whose:\n",
                "- axis in position 0 corresponds to degrees\n",
                "- axis in position 1 corresponds to frequencies\n",
                "- axis in position 2 corresponds to Love number type: h', l', k', h*, l*, k*, h, l, k"
            ]
        },
        {
            "cell_type": "code",
            "execution_count": null,
            "metadata": {},
            "outputs": [],
            "source": [
                "from snrei import (\n",
                "    load_Love_numbers_hyper_parameters,\n",
                "    get_run_folder_name,\n",
                "    results_path,\n",
                "    generate_log_frequency_initial_values,\n",
                ")\n",
                "\n",
                "Love_numbers_hyper_parameters = load_Love_numbers_hyper_parameters()\n",
                "\n",
                "log_frequency_initial_values = generate_log_frequency_initial_values(\n",
                "    frequency_min=Love_numbers_hyper_parameters.frequency_min,\n",
                "    frequency_max=Love_numbers_hyper_parameters.frequency_max,\n",
                "    n_frequency_0=Love_numbers_hyper_parameters.n_frequency_0,\n",
                "    frequency_unit=Earth_description.frequency_unit,\n",
                ")\n",
                "\n",
                "run_id = Love_numbers_hyper_parameters.run_hyper_parameters.run_id()\n",
                "result_subpath = results_path.joinpath(get_run_folder_name(anelasticity_description_id=Earth_description.id, run_id=run_id))"
            ]
        },
        {
            "cell_type": "code",
            "execution_count": null,
            "metadata": {},
            "outputs": [],
            "source": [
                "from snrei import anelastic_Love_numbers_computing\n",
                "\n",
                "log_frequencies, anelastic_Love_numbers = anelastic_Love_numbers_computing(\n",
                "    max_tol=Love_numbers_hyper_parameters.max_tol,\n",
                "    decimals=Love_numbers_hyper_parameters.decimals,\n",
                "    y_system_hyper_parameters=Love_numbers_hyper_parameters.y_system_hyper_parameters,\n",
                "    use_long_term_anelasticity=Love_numbers_hyper_parameters.run_hyper_parameters.use_long_term_anelasticity,\n",
                "    use_short_term_anelasticity=Love_numbers_hyper_parameters.run_hyper_parameters.use_short_term_anelasticity,\n",
                "    use_bounded_attenuation_functions=Love_numbers_hyper_parameters.run_hyper_parameters.use_bounded_attenuation_functions,\n",
                "    degrees=degrees,\n",
                "    log_frequency_initial_values=log_frequency_initial_values,\n",
                "    anelasticity_description=Earth_description,\n",
                "    result_subpath=result_subpath,\n",
                "    save_result_per_degree=Love_numbers_hyper_parameters.save_result_per_degree,\n",
                ")"
            ]
        },
        {
            "cell_type": "code",
            "execution_count": null,
            "metadata": {},
            "outputs": [],
            "source": [
                "from snrei import frequencies_to_periods\n",
                "\n",
                "figure(figsize=(8, 2))\n",
                "semilogx(\n",
                "    frequencies_to_periods(frequencies=Earth_description.frequency_unit * 10.0**log_frequencies),\n",
                "    -anelastic_Love_numbers[2, :, 0].real,\n",
                "    label=\"$-h_{2, real}'$\",\n",
                ")\n",
                "grid()\n",
                "xlabel(\"$T$ (yr)\")\n",
                "legend()"
            ]
        },
        {
            "cell_type": "markdown",
            "metadata": {},
            "source": [
                "# IV - The Result class file\n",
                "The following function performs a frequency dependent Love numbers computation, but directly from model file names and it also saves the results as a Result instance in a (.JSON) file.\n",
                "\n",
                "Below is an example on how to load such a result file."
            ]
        },
        {
            "cell_type": "code",
            "execution_count": null,
            "metadata": {},
            "outputs": [],
            "source": [
                "from snrei import Love_numbers_single_run\n",
                "\n",
                "description_id = Love_numbers_single_run(\n",
                "    elasticity_model_name=\"PREM\",\n",
                "    short_term_anelasticity_model_name=\"uniform\",\n",
                "    long_term_anelasticity_model_name=\"uniform\",\n",
                "    run_hyper_parameters=Love_numbers_hyper_parameters.run_hyper_parameters,\n",
                "    Love_numbers_hyper_parameters=Love_numbers_hyper_parameters,\n",
                ")"
            ]
        },
        {
            "cell_type": "code",
            "execution_count": null,
            "metadata": {},
            "outputs": [],
            "source": [
                "from snrei import Result, Direction, BoundaryCondition\n",
                "\n",
                "Love_numbers = Result()\n",
                "Love_numbers.load(name=\"anelastic_Love_numbers\", path=result_subpath)\n",
                "sum(sum(Love_numbers.values[Direction.radial][BoundaryCondition.load] - anelastic_Love_numbers[:, :, 0]))"
            ]
        },
        {
            "cell_type": "markdown",
            "metadata": {},
            "source": [
                "# V - Loop on Earth Descriptions options\n",
                "This section performs a *Love_numbers_single_run* for a given panel of model names, run otions and eventually variable parameters."
            ]
        },
        {
            "cell_type": "code",
            "execution_count": null,
            "metadata": {},
            "outputs": [],
            "source": [
                "from snrei import Love_numbers_for_options_for_models_for_parameters, ModelPart\n",
                "\n",
                "anelasticity_description_ids = Love_numbers_for_options_for_models_for_parameters(\n",
                "    elasticity_model_names=[\"PREM\"],\n",
                "    long_term_anelasticity_model_names=[\"VM7\"],\n",
                "    short_term_anelasticity_model_names=[\n",
                "        \"Benjamin_Q_Resovsky\",\n",
                "    ],\n",
                "    parameters={ModelPart.long_term_anelasticity: {\"eta_m\": {\"D''\": [[1e17]]}}},\n",
                ")"
            ]
        }
    ],
    "metadata": {
        "kernelspec": {
            "display_name": "Python 3",
            "language": "python",
            "name": "python3"
        },
        "language_info": {
            "codemirror_mode": {
                "name": "ipython",
                "version": 3
            },
            "file_extension": ".py",
            "mimetype": "text/x-python",
            "name": "python",
            "nbconvert_exporter": "python",
            "pygments_lexer": "ipython3",
            "version": "3.12.5"
        }
    },
    "nbformat": 4,
    "nbformat_minor": 2
}
