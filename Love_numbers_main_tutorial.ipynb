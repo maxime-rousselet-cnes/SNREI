{
 "cells": [
  {
   "cell_type": "markdown",
   "metadata": {},
   "source": [
    "# I - Build an Earth description\n",
    "This class instance is built from 3 model files:\n",
    "- elasticity model\n",
    "- short term anelasticity model\n",
    "- long term anelasticity model\n",
    "and contains all preprocessed data necessary for Love number computations.\n",
    "\n",
    "The user can modify these files or chose other files using the same formalism, whose names are given in class constructor parameters:"
   ]
  },
  {
   "cell_type": "code",
   "execution_count": 1,
   "metadata": {},
   "outputs": [],
   "source": [
    "from src import AnelasticityDescription\n",
    "\n",
    "Earth_description = AnelasticityDescription(\n",
    "    elasticity_name=\"PREM\", short_term_anelasticity_name=\"uniform\", long_term_anelasticity_name=\"uniform\"\n",
    ")"
   ]
  },
  {
   "cell_type": "markdown",
   "metadata": {},
   "source": [
    "# II - Elastic Love numbers\n",
    "The frequency independent Love numbers computation only uses the elasticity model of the previously defined instance.\n",
    "\n",
    "The following function integrates the Earth model from the center of mass to the surface to give Love numbers for a given list of degrees.\n",
    "\n",
    "This list of degrees is either given as a parameter or built from 2 parameter files. See the default value.\n",
    "\n",
    "The following result is an array whose:\n",
    "- axis in position 0 corresponds to degrees\n",
    "- axis in position 1 corresponds to frequencies (only infinite for the elastic case)\n",
    "- axis in position 2 corresponds to Love number type: h', l', k', h*, l*, k*, h, l, k"
   ]
  },
  {
   "cell_type": "code",
   "execution_count": 2,
   "metadata": {},
   "outputs": [],
   "source": [
    "from src import elastic_Love_numbers_computing, load_base_model, parameters_path, generate_degrees_list\n",
    "\n",
    "degrees = generate_degrees_list(\n",
    "    degree_thresholds=load_base_model(name=\"degree_thresholds\", path=parameters_path),\n",
    "    degree_steps=load_base_model(name=\"degree_steps\", path=parameters_path),\n",
    ")\n",
    "elastic_Love_numbers = elastic_Love_numbers_computing(anelasticity_description=Earth_description, degrees=degrees)"
   ]
  },
  {
   "cell_type": "code",
   "execution_count": 14,
   "metadata": {},
   "outputs": [
    {
     "data": {
      "text/plain": [
       "<matplotlib.legend.Legend at 0x71a8a92089a0>"
      ]
     },
     "execution_count": 14,
     "metadata": {},
     "output_type": "execute_result"
    },
    {
     "data": {
      "image/png": "[encoded data removed]",
      "text/plain": [
       "<Figure size 600x200 with 1 Axes>"
      ]
     },
     "metadata": {},
     "output_type": "display_data"
    }
   ],
   "source": [
    "from matplotlib.pyplot import semilogx, figure, legend, grid\n",
    "from numpy import array\n",
    "\n",
    "figure(figsize=(6, 2))\n",
    "semilogx(degrees, -elastic_Love_numbers[:, 0, 0].real, label=\"$-h_n'$\")\n",
    "semilogx(degrees, array(degrees) * elastic_Love_numbers[:, 0, 1].real, label=\"$nl_n'$\")\n",
    "semilogx(degrees, -array(degrees) * elastic_Love_numbers[:, 0, 2].real, label=\"$-nk_n'$\")\n",
    "grid()\n",
    "legend()"
   ]
  },
  {
   "cell_type": "markdown",
   "metadata": {},
   "source": [
    "# III - Anlastic Love numbers"
   ]
  },
  {
   "cell_type": "code",
   "execution_count": null,
   "metadata": {},
   "outputs": [],
   "source": [
    "from src import anelastic_Love_numbers_computing"
   ]
  },
  {
   "cell_type": "markdown",
   "metadata": {},
   "source": [
    "# IV - Loop on Earth Descriptions options"
   ]
  },
  {
   "cell_type": "code",
   "execution_count": null,
   "metadata": {},
   "outputs": [],
   "source": [
    "from src import (\n",
    "    Love_numbers_single_run,\n",
    "    Love_numbers_for_options_for_models_for_parameters,\n",
    "    Result,\n",
    ")"
   ]
  },
  {
   "cell_type": "code",
   "execution_count": null,
   "metadata": {},
   "outputs": [],
   "source": [
    "from src import Love_numbers_for_options_for_models_for_asymptotic_mu_ratios\n",
    "\n",
    "anelasticity_description_ids = Love_numbers_for_options_for_models_for_asymptotic_mu_ratios(\n",
    "    asymptotic_mu_ratios=[0.2],\n",
    "    elasticity_model_names=[\"PREM\"],\n",
    "    long_term_anelasticity_model_names=[\n",
    "        \"Burgers_asthenosphere__elastic_lithosphere\",\n",
    "        \"Peltier_upper_mantle__elastic_lithosphere\",\n",
    "    ],\n",
    "    short_term_anelasticity_model_names=[\"Benjamin_Q_PREM\"],\n",
    ")\n",
    "anelasticity_description_ids = Love_numbers_for_options_for_models_for_asymptotic_mu_ratios(\n",
    "    asymptotic_mu_ratios=[0.2],\n",
    "    elasticity_model_names=[\"PREM\"],\n",
    "    long_term_anelasticity_model_names=[\"uniform\"],\n",
    "    short_term_anelasticity_model_names=[\"uniform\"],\n",
    ")"
   ]
  }
 ],
 "metadata": {
  "kernelspec": {
   "display_name": "Python 3",
   "language": "python",
   "name": "python3"
  },
  "language_info": {
   "codemirror_mode": {
    "name": "ipython",
    "version": 3
   },
   "file_extension": ".py",
   "mimetype": "text/x-python",
   "name": "python",
   "nbconvert_exporter": "python",
   "pygments_lexer": "ipython3",
   "version": "3.10.12"
  }
 },
 "nbformat": 4,
 "nbformat_minor": 2
}
