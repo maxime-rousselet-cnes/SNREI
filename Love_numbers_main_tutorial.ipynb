{
    "cells": [
        {
            "cell_type": "markdown",
            "metadata": {},
            "source": [
                "# I - Build an Earth description\n",
                "This class instance is built from 3 model files:\n",
                "- elasticity model\n",
                "- short term anelasticity model\n",
                "- long term anelasticity model\n",
                "and contains all preprocessed data necessary for Love number computations.\n",
                "\n",
                "The user can modify these files or chose other files using the same formalism, whose names are given in class constructor parameters:"
            ]
        },
        {
            "cell_type": "code",
            "execution_count": null,
            "metadata": {},
            "outputs": [],
            "source": [
                "from snrei import AnelasticityDescription\n",
                "\n",
                "Earth_description = AnelasticityDescription(\n",
                "    elasticity_name=\"PREM\", short_term_anelasticity_name=\"uniform\", long_term_anelasticity_name=\"uniform\"\n",
                ")"
            ]
        },
        {
            "cell_type": "markdown",
            "metadata": {},
            "source": [
                "# II - Elastic Love numbers\n",
                "The frequency independent Love numbers computation only uses the elasticity model of the previously defined instance.\n",
                "\n",
                "The following function integrates the Earth model from the center of mass to the surface to give Love numbers for a given list of degrees.\n",
                "\n",
                "This list of degrees is either given as a parameter or built from 2 parameter files. See the default value.\n",
                "\n",
                "The following result is an array whose:\n",
                "- axis in position 0 corresponds to degrees\n",
                "- axis in position 1 corresponds to frequencies (only infinite for the elastic case)\n",
                "- axis in position 2 corresponds to Love number type: h', l', k', h*, l*, k*, h, l, k"
            ]
        },
        {
            "cell_type": "code",
            "execution_count": null,
            "metadata": {},
            "outputs": [],
            "source": [
                "from snrei import elastic_Love_numbers_computing, load_base_model, parameters_path, generate_degrees_list\n",
                "\n",
                "degrees = generate_degrees_list(\n",
                "    degree_thresholds=load_base_model(name=\"degree_thresholds\", path=parameters_path),\n",
                "    degree_steps=load_base_model(name=\"degree_steps\", path=parameters_path),\n",
                ")\n",
                "elastic_Love_numbers = elastic_Love_numbers_computing(anelasticity_description=Earth_description, degrees=degrees)"
            ]
        },
        {
            "cell_type": "code",
            "execution_count": null,
            "metadata": {},
            "outputs": [],
            "source": [
                "from matplotlib.pyplot import semilogx, figure, legend, grid, xlabel\n",
                "from numpy import array\n",
                "\n",
                "figure(figsize=(6, 2))\n",
                "semilogx(degrees, -elastic_Love_numbers[:, 0, 0].real, label=\"$-h_n'$\")\n",
                "semilogx(degrees, array(object=degrees) * elastic_Love_numbers[:, 0, 1].real, label=\"$nl_n'$\")\n",
                "semilogx(degrees, -array(object=degrees) * elastic_Love_numbers[:, 0, 2].real, label=\"$-nk_n'$\")\n",
                "grid()\n",
                "xlabel(\"$n$\")\n",
                "legend()"
            ]
        },
        {
            "cell_type": "markdown",
            "metadata": {},
            "source": [
                "# III - Anlastic Love numbers\n",
                "The following section uses the previously defined Earth description to compute frequency dependent Love numbers.\n",
                "\n",
                "It uses multiple processes on available cores.\n",
                "\n",
                "See the class LoveNumbersHyperParameters to understand all underlying parameters.\n",
                "\n",
                "The following result is an array whose:\n",
                "- axis in position 0 corresponds to degrees\n",
                "- axis in position 1 corresponds to frequencies\n",
                "- axis in position 2 corresponds to Love number type: h', l', k', h*, l*, k*, h, l, k"
            ]
        },
        {
            "cell_type": "code",
            "execution_count": null,
            "metadata": {},
            "outputs": [],
            "source": [
                "from snrei import (\n",
                "    load_Love_numbers_hyper_parameters,\n",
                "    get_run_folder_name,\n",
                "    results_path,\n",
                "    generate_log_frequency_initial_values,\n",
                ")\n",
                "\n",
                "Love_numbers_hyper_parameters = load_Love_numbers_hyper_parameters()\n",
                "\n",
                "log_frequency_initial_values = generate_log_frequency_initial_values(\n",
                "    frequency_min=Love_numbers_hyper_parameters.frequency_min,\n",
                "    frequency_max=Love_numbers_hyper_parameters.frequency_max,\n",
                "    n_frequency_0=Love_numbers_hyper_parameters.n_frequency_0,\n",
                "    frequency_unit=Earth_description.frequency_unit,\n",
                ")\n",
                "\n",
                "run_id = Love_numbers_hyper_parameters.run_hyper_parameters.run_id()\n",
                "result_subpath = results_path.joinpath(get_run_folder_name(anelasticity_description_id=Earth_description.id, run_id=run_id))"
            ]
        },
        {
            "cell_type": "code",
            "execution_count": null,
            "metadata": {},
            "outputs": [],
            "source": [
                "from snrei import anelastic_Love_numbers_computing\n",
                "\n",
                "log_frequencies, anelastic_Love_numbers = anelastic_Love_numbers_computing(\n",
                "    max_tol=Love_numbers_hyper_parameters.max_tol,\n",
                "    decimals=Love_numbers_hyper_parameters.decimals,\n",
                "    y_system_hyper_parameters=Love_numbers_hyper_parameters.y_system_hyper_parameters,\n",
                "    use_long_term_anelasticity=Love_numbers_hyper_parameters.run_hyper_parameters.use_long_term_anelasticity,\n",
                "    use_short_term_anelasticity=Love_numbers_hyper_parameters.run_hyper_parameters.use_short_term_anelasticity,\n",
                "    use_bounded_attenuation_functions=Love_numbers_hyper_parameters.run_hyper_parameters.use_bounded_attenuation_functions,\n",
                "    degrees=degrees,\n",
                "    log_frequency_initial_values=log_frequency_initial_values,\n",
                "    anelasticity_description=Earth_description,\n",
                "    result_subpath=result_subpath,\n",
                "    save_result_per_degree=Love_numbers_hyper_parameters.save_result_per_degree,\n",
                ")"
            ]
        },
        {
            "cell_type": "code",
            "execution_count": null,
            "metadata": {},
            "outputs": [],
            "source": [
                "from snrei import frequencies_to_periods\n",
                "\n",
                "figure(figsize=(8, 2))\n",
                "semilogx(\n",
                "    frequencies_to_periods(frequencies=Earth_description.frequency_unit * 10.0**log_frequencies),\n",
                "    -anelastic_Love_numbers[2, :, 0].real,\n",
                "    label=\"$-h_{2, real}'$\",\n",
                ")\n",
                "grid()\n",
                "xlabel(\"$T$ (yr)\")\n",
                "legend()"
            ]
        },
        {
            "cell_type": "markdown",
            "metadata": {},
            "source": [
                "# IV - The Result class file\n",
                "The following function performs a frequency dependent Love numbers computation, but directly from model file names and it also saves the results as a Result instance in a (.JSON) file.\n",
                "\n",
                "Below is an example on how to load such a result file."
            ]
        },
        {
            "cell_type": "code",
            "execution_count": null,
            "metadata": {},
            "outputs": [],
            "source": [
                "from snrei import Love_numbers_single_run\n",
                "\n",
                "description_id = Love_numbers_single_run(\n",
                "    elasticity_model_name=\"PREM\",\n",
                "    short_term_anelasticity_model_name=\"uniform\",\n",
                "    long_term_anelasticity_model_name=\"uniform\",\n",
                "    run_hyper_parameters=Love_numbers_hyper_parameters.run_hyper_parameters,\n",
                "    Love_numbers_hyper_parameters=Love_numbers_hyper_parameters,\n",
                ")"
            ]
        },
        {
            "cell_type": "code",
            "execution_count": null,
            "metadata": {},
            "outputs": [],
            "source": [
                "from snrei import Result, Direction, BoundaryCondition\n",
                "\n",
                "Love_numbers = Result()\n",
                "Love_numbers.load(name=\"anelastic_Love_numbers\", path=result_subpath)\n",
                "sum(sum(Love_numbers.values[Direction.radial][BoundaryCondition.load] - anelastic_Love_numbers[:, :, 0]))"
            ]
        },
        {
            "cell_type": "markdown",
            "metadata": {},
            "source": [
                "# V - Loop on Earth Descriptions options\n",
                "This section performs a *Love_numbers_single_run* for a given panel of model names, run otions and eventually variable parameters."
            ]
        },
        {
            "cell_type": "code",
            "execution_count": null,
            "metadata": {},
            "outputs": [],
            "source": [
                "from snrei import Love_numbers_for_options_for_models_for_parameters, ModelPart\n",
                "\n",
                "anelasticity_description_ids = Love_numbers_for_options_for_models_for_parameters(\n",
                "    elasticity_model_names=[\"PREM\"],\n",
                "    long_term_anelasticity_model_names=[\"VM7\"],\n",
                "    short_term_anelasticity_model_names=[\n",
                "        \"Benjamin_Q_Resovsky\",\n",
                "    ],\n",
                "    parameters={ModelPart.long_term_anelasticity: {\"eta_m\": {\"D''\": [[1e17]]}}},\n",
                ")"
            ]
        }
    ],
    "metadata": {
        "kernelspec": {
            "display_name": "Python 3",
            "language": "python",
            "name": "python3"
        },
        "language_info": {
            "codemirror_mode": {
                "name": "ipython",
                "version": 3
            },
            "file_extension": ".py",
            "mimetype": "text/x-python",
            "name": "python",
            "nbconvert_exporter": "python",
            "pygments_lexer": "ipython3",
            "version": "3.12.5"
        }
    },
    "nbformat": 4,
    "nbformat_minor": 2
}
