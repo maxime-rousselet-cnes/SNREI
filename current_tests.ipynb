{
 "cells": [
  {
   "cell_type": "code",
   "execution_count": 1,
   "metadata": {},
   "outputs": [],
   "source": [
    "from utils import RealDescription, LoveNumbersHyperParameters, load_base_model, parameters_path, Earth_radius, Integration\n",
    "from numpy import Inf\n",
    "\n",
    "Love_numbers_hyper_parameters: LoveNumbersHyperParameters = load_base_model(\n",
    "    name=\"Love_numbers_hyper_parameters\", path=parameters_path, base_model_type=LoveNumbersHyperParameters\n",
    ")\n",
    "Love_numbers_hyper_parameters.load()\n",
    "real_description = RealDescription(\n",
    "    below_ICB_layers=None,\n",
    "    below_CMB_layers=None,\n",
    "    splines_degree=1,\n",
    "    radius_unit=Earth_radius,\n",
    "    real_crust=False,\n",
    "    n_splines_base=4,\n",
    "    profile_precision=100,\n",
    "    radius=Earth_radius,\n",
    "    load_description=False,\n",
    ")\n",
    "\n",
    "integration = Integration(real_description=real_description, log_omega=Inf, use_attenuation=False, use_anelasticity=False)\n",
    "elastic_Love_numbers = integration.y_system_integration(\n",
    "    n=2, hyper_parameters=Love_numbers_hyper_parameters.y_system_hyper_parameters\n",
    ")"
   ]
  },
  {
   "cell_type": "code",
   "execution_count": 2,
   "metadata": {},
   "outputs": [],
   "source": [
    "from numpy import array\n",
    "\n",
    "elastic = array([[elastic_Love_numbers], [elastic_Love_numbers]])"
   ]
  },
  {
   "cell_type": "code",
   "execution_count": 3,
   "metadata": {},
   "outputs": [
    {
     "data": {
      "text/plain": [
       "{<Direction.radial: 1>: {<BoundaryCondition.load: 1>: array([[-0.9911582+0.j],\n",
       "         [-0.9911582+0.j]]),\n",
       "  <BoundaryCondition.shear: 2>: array([[0.06054103+0.j],\n",
       "         [0.06054103+0.j]]),\n",
       "  <BoundaryCondition.potential: 3>: array([[0.60322341+0.j],\n",
       "         [0.60322341+0.j]])},\n",
       " <Direction.tangential: 2>: {<BoundaryCondition.load: 1>: array([[0.02333265+0.j],\n",
       "         [0.04666529+0.j]]),\n",
       "  <BoundaryCondition.shear: 2>: array([[0.31694241+0.j],\n",
       "         [0.63388481+0.j]]),\n",
       "  <BoundaryCondition.potential: 3>: array([[0.08387368+0.j],\n",
       "         [0.16774735+0.j]])},\n",
       " <Direction.potential: 3>: {<BoundaryCondition.load: 1>: array([[-0.3052411 +0.j],\n",
       "         [-0.61048221+0.j]]),\n",
       "  <BoundaryCondition.shear: 2>: array([[0.08387368+0.j],\n",
       "         [0.16774735+0.j]]),\n",
       "  <BoundaryCondition.potential: 3>: array([[0.2979823+0.j],\n",
       "         [0.5959646+0.j]])}}"
      ]
     },
     "execution_count": 3,
     "metadata": {},
     "output_type": "execute_result"
    }
   ],
   "source": [
    "from utils import Result\n",
    "\n",
    "elastic_result = Result(hyper_parameters=Love_numbers_hyper_parameters)\n",
    "elastic_result.update_values_from_array(result_array=elastic, degrees=[1, 2])\n",
    "elastic_result.values"
   ]
  },
  {
   "cell_type": "code",
   "execution_count": 6,
   "metadata": {},
   "outputs": [],
   "source": [
    "from utils import Result, results_path, load_base_model, frequencies_to_periods\n",
    "\n",
    "use_attenuation = True\n",
    "use_anelasticity = False\n",
    "path = results_path.joinpath(\"4139-2f6f-9dec-1807\")\n",
    "sub_path = path.joinpath(\"runs\").joinpath(\"anelasticity_\" + str(use_anelasticity) + \"__attenuation_\" + str(use_attenuation))\n",
    "anelastic_Love_numbers = Result()\n",
    "anelastic_Love_numbers.load(name=\"anelastic_Love_numbers\", path=sub_path)\n",
    "omega_values = load_base_model(name=\"frequencies\", path=sub_path)\n",
    "T_values = frequencies_to_periods(frequencies=omega_values)\n",
    "degrees = [1, 2, 3, 4, 5, 6, 7, 8, 9, 10]"
   ]
  },
  {
   "cell_type": "code",
   "execution_count": 7,
   "metadata": {},
   "outputs": [],
   "source": [
    "from utils import Direction, BoundaryCondition\n",
    "\n",
    "anelastic_values = anelastic_Love_numbers.values[Direction.potential][BoundaryCondition.potential][1]"
   ]
  },
  {
   "cell_type": "code",
   "execution_count": 8,
   "metadata": {},
   "outputs": [
    {
     "data": {
      "text/plain": [
       "array([0.5959646+0.j])"
      ]
     },
     "execution_count": 8,
     "metadata": {},
     "output_type": "execute_result"
    }
   ],
   "source": [
    "\n",
    "elastic_Love_numbers = Result()\n",
    "elastic_Love_numbers.load(name=\"elastic_Love_numbers\", path=path)\n",
    "elastic_value = elastic_Love_numbers.values[Direction.potential][BoundaryCondition.potential][1]\n",
    "elastic_value"
   ]
  },
  {
   "cell_type": "code",
   "execution_count": 13,
   "metadata": {},
   "outputs": [
    {
     "data": {
      "text/plain": [
       "(0.3604804848722798-0.03202833144134993j)"
      ]
     },
     "execution_count": 13,
     "metadata": {},
     "output_type": "execute_result"
    }
   ],
   "source": [
    "from scipy import interpolate\n",
    "from numpy import pi\n",
    "\n",
    "f = interpolate.interp1d(x=T_values, y=anelastic_values, kind=\"linear\") \n",
    "f(18.6 * (2*pi))/ 2"
   ]
  },
  {
   "cell_type": "code",
   "execution_count": 14,
   "metadata": {},
   "outputs": [
    {
     "name": "stderr",
     "output_type": "stream",
     "text": [
      "/home/mrousselet/.local/lib/python3.10/site-packages/matplotlib/cbook.py:1699: ComplexWarning: Casting complex values to real discards the imaginary part\n",
      "  return math.isfinite(val)\n",
      "/home/mrousselet/.local/lib/python3.10/site-packages/matplotlib/collections.py:194: ComplexWarning: Casting complex values to real discards the imaginary part\n",
      "  offsets = np.asanyarray(offsets, float)\n"
     ]
    },
    {
     "data": {
      "image/png": "[encoded data removed]",
      "text/plain": [
       "<Figure size 640x480 with 1 Axes>"
      ]
     },
     "metadata": {},
     "output_type": "display_data"
    }
   ],
   "source": [
    "import matplotlib.pyplot as plt\n",
    "\n",
    "plt.scatter(T_values, anelastic_values)\n",
    "plt.xscale(\"log\")"
   ]
  }
 ],
 "metadata": {
  "kernelspec": {
   "display_name": "Python 3",
   "language": "python",
   "name": "python3"
  },
  "language_info": {
   "codemirror_mode": {
    "name": "ipython",
    "version": 3
   },
   "file_extension": ".py",
   "mimetype": "text/x-python",
   "name": "python",
   "nbconvert_exporter": "python",
   "pygments_lexer": "ipython3",
   "version": "3.10.12"
  }
 },
 "nbformat": 4,
 "nbformat_minor": 2
}
