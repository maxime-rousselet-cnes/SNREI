{
 "cells": [
  {
   "cell_type": "code",
   "execution_count": 1,
   "metadata": {},
   "outputs": [
    {
     "ename": "SyntaxError",
     "evalue": "invalid syntax (utils.py, line 61)",
     "output_type": "error",
     "traceback": [
      "Traceback \u001b[0;36m(most recent call last)\u001b[0m:\n",
      "\u001b[0m  File \u001b[1;32m~/.local/lib/python3.10/site-packages/IPython/core/interactiveshell.py:3548\u001b[0m in \u001b[1;35mrun_code\u001b[0m\n    exec(code_obj, self.user_global_ns, self.user_ns)\u001b[0m\n",
      "\u001b[0m  Cell \u001b[1;32mIn[1], line 1\u001b[0m\n    from src import plot_anelastic_induced_spatial_load_trend_per_description_per_options\u001b[0m\n",
      "\u001b[0m  File \u001b[1;32m~/Code/SNREI/src/__init__.py:1\u001b[0m\n    from .scripts import (\u001b[0m\n",
      "\u001b[0m  File \u001b[1;32m~/Code/SNREI/src/scripts/__init__.py:7\u001b[0m\n    from .plot import (\u001b[0m\n",
      "\u001b[0m  File \u001b[1;32m~/Code/SNREI/src/scripts/plot/__init__.py:1\u001b[0m\n    from .load_signal import (\u001b[0m\n",
      "\u001b[0m  File \u001b[1;32m~/Code/SNREI/src/scripts/plot/load_signal/__init__.py:1\u001b[0m\n    from .harmonic_trend import (\u001b[0m\n",
      "\u001b[0;36m  File \u001b[0;32m~/Code/SNREI/src/scripts/plot/load_signal/harmonic_trend.py:20\u001b[0;36m\n\u001b[0;31m    from ..utils import plot_harmonics_on_natural_projection\u001b[0;36m\n",
      "\u001b[0;36m  File \u001b[0;32m~/Code/SNREI/src/scripts/plot/utils.py:61\u001b[0;36m\u001b[0m\n\u001b[0;31m    positive_saturated_color: tuple[float, float, float] = ,\u001b[0m\n\u001b[0m                                                           ^\u001b[0m\n\u001b[0;31mSyntaxError\u001b[0m\u001b[0;31m:\u001b[0m invalid syntax\n"
     ]
    }
   ],
   "source": [
    "from src import plot_anelastic_induced_spatial_load_trend_per_description_per_options\n",
    "\n",
    "plot_anelastic_induced_spatial_load_trend_per_description_per_options(\n",
    "    anelasticity_description_ids=[\n",
    "        \"PREM___Peltier_upper_mantle__elastic_lithosphere___Benjamin_Q_PREM\"\n",
    "        + \"/\"\n",
    "        + \"asymptotic_mu_ratio__0.2__0.2__0.2__0.2__1.0\",\n",
    "        \"PREM___Burgers_asthenosphere__elastic_lithosphere___Benjamin_Q_PREM\"\n",
    "        + \"/\"\n",
    "        + \"asymptotic_mu_ratio__0.2__0.2__0.2__0.2__1.0\",\n",
    "    ],\n",
    ")"
   ]
  }
 ],
 "metadata": {
  "kernelspec": {
   "display_name": "Python 3",
   "language": "python",
   "name": "python3"
  },
  "language_info": {
   "codemirror_mode": {
    "name": "ipython",
    "version": 3
   },
   "file_extension": ".py",
   "mimetype": "text/x-python",
   "name": "python",
   "nbconvert_exporter": "python",
   "pygments_lexer": "ipython3",
   "version": "3.10.12"
  }
 },
 "nbformat": 4,
 "nbformat_minor": 2
}
