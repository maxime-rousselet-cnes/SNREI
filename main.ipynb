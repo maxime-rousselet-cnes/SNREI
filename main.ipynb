{
 "cells": [
  {
   "cell_type": "code",
   "execution_count": null,
   "metadata": {},
   "outputs": [],
   "source": [
    "from src import clear_subs\n",
    "\n",
    "clear_subs()"
   ]
  },
  {
   "cell_type": "code",
   "execution_count": 17,
   "metadata": {},
   "outputs": [
    {
     "data": {
      "text/plain": [
       "(2, 11, 11)"
      ]
     },
     "execution_count": 17,
     "metadata": {},
     "output_type": "execute_result"
    }
   ],
   "source": [
    "from pyshtools.expand import MakeGridDH, SHExpandDH\n",
    "from numpy import array\n",
    "\n",
    "n = 10\n",
    "a = array([[[0] * i_sign + [1] * (degree - i_sign + 1) + [0] * (n - degree) for degree in range(n + 1)] for i_sign in range(2)])\n",
    "a.shape"
   ]
  },
  {
   "cell_type": "code",
   "execution_count": 18,
   "metadata": {},
   "outputs": [
    {
     "data": {
      "text/plain": [
       "(22, 44)"
      ]
     },
     "execution_count": 18,
     "metadata": {},
     "output_type": "execute_result"
    }
   ],
   "source": [
    "b = MakeGridDH(a, sampling=2)\n",
    "b.shape"
   ]
  },
  {
   "cell_type": "code",
   "execution_count": 21,
   "metadata": {},
   "outputs": [
    {
     "data": {
      "text/plain": [
       "((2, 11, 11), (22, 44))"
      ]
     },
     "execution_count": 21,
     "metadata": {},
     "output_type": "execute_result"
    }
   ],
   "source": [
    "n_max = 20\n",
    "c = SHExpandDH(\n",
    "    b,\n",
    "    sampling=2,\n",
    "    lmax_calc=min(n_max, (len(b) - 1) // 2),\n",
    ")\n",
    "d = MakeGridDH(\n",
    "    c,\n",
    "    sampling=2,\n",
    ")\n",
    "c.shape, d.shape"
   ]
  },
  {
   "cell_type": "code",
   "execution_count": 2,
   "metadata": {},
   "outputs": [],
   "source": [
    "from os import symlink\n",
    "from typing import Any, Optional\n",
    "from pathlib import Path\n",
    "from json import dump, load, JSONEncoder\n",
    "from numpy import ndarray\n",
    "from pydantic import BaseModel\n",
    "\n",
    "\n",
    "class JSONSerialize(JSONEncoder):\n",
    "    \"\"\"\n",
    "    Handmade JSON encoder that correctly encodes special structures.\n",
    "    \"\"\"\n",
    "\n",
    "    def default(self, obj: Any):\n",
    "        if type(obj) is ndarray:\n",
    "            return obj.tolist()\n",
    "        elif isinstance(obj, BaseModel):\n",
    "            return obj.__dict__\n",
    "        else:\n",
    "            JSONEncoder().default(obj)\n",
    "\n",
    "\n",
    "def save_base_model(obj: Any, name: str, path: Path):\n",
    "    \"\"\"\n",
    "    Saves a JSON serializable type.\n",
    "    \"\"\"\n",
    "    path.mkdir(exist_ok=True, parents=True)\n",
    "    with open(path.joinpath(name + \".json\"), \"w\") as file:\n",
    "        dump(obj, fp=file, cls=JSONSerialize)\n",
    "\n",
    "\n",
    "def load_base_model(\n",
    "    name: str,\n",
    "    path: Path,\n",
    "    base_model_type: Optional[Any] = None,\n",
    ") -> Any:\n",
    "    \"\"\"\n",
    "    Loads a JSON serializable type.\n",
    "    \"\"\"\n",
    "    with open(path.joinpath(name + \".json\"), \"r\") as file:\n",
    "        loaded_content = load(fp=file)\n",
    "        return loaded_content if not base_model_type else base_model_type(**loaded_content)"
   ]
  },
  {
   "cell_type": "code",
   "execution_count": 4,
   "metadata": {},
   "outputs": [],
   "source": [
    "obj = {i: [(j, [k for k in range(10)]) for j in range(10, 20)] for i in range(20, 30)}"
   ]
  },
  {
   "cell_type": "code",
   "execution_count": 11,
   "metadata": {},
   "outputs": [],
   "source": [
    "save_base_model(obj=obj, name=\"true_file\", path=Path(\"true_files/test\"))"
   ]
  },
  {
   "cell_type": "code",
   "execution_count": 4,
   "metadata": {},
   "outputs": [],
   "source": [
    "symlink(src=Path(\"true_file.json\"), dst=Path(\"symlink_file.json\"))"
   ]
  },
  {
   "cell_type": "code",
   "execution_count": 16,
   "metadata": {},
   "outputs": [
    {
     "data": {
      "text/plain": [
       "{'20': [[10, [0, 1, 2, 3, 4, 5, 6, 7, 8, 9]],\n",
       "  [11, [0, 1, 2, 3, 4, 5, 6, 7, 8, 9]],\n",
       "  [12, [0, 1, 2, 3, 4, 5, 6, 7, 8, 9]],\n",
       "  [13, [0, 1, 2, 3, 4, 5, 6, 7, 8, 9]],\n",
       "  [14, [0, 1, 2, 3, 4, 5, 6, 7, 8, 9]],\n",
       "  [15, [0, 1, 2, 3, 4, 5, 6, 7, 8, 9]],\n",
       "  [16, [0, 1, 2, 3, 4, 5, 6, 7, 8, 9]],\n",
       "  [17, [0, 1, 2, 3, 4, 5, 6, 7, 8, 9]],\n",
       "  [18, [0, 1, 2, 3, 4, 5, 6, 7, 8, 9]],\n",
       "  [19, [0, 1, 2, 3, 4, 5, 6, 7, 8, 9]]],\n",
       " '21': [[10, [0, 1, 2, 3, 4, 5, 6, 7, 8, 9]],\n",
       "  [11, [0, 1, 2, 3, 4, 5, 6, 7, 8, 9]],\n",
       "  [12, [0, 1, 2, 3, 4, 5, 6, 7, 8, 9]],\n",
       "  [13, [0, 1, 2, 3, 4, 5, 6, 7, 8, 9]],\n",
       "  [14, [0, 1, 2, 3, 4, 5, 6, 7, 8, 9]],\n",
       "  [15, [0, 1, 2, 3, 4, 5, 6, 7, 8, 9]],\n",
       "  [16, [0, 1, 2, 3, 4, 5, 6, 7, 8, 9]],\n",
       "  [17, [0, 1, 2, 3, 4, 5, 6, 7, 8, 9]],\n",
       "  [18, [0, 1, 2, 3, 4, 5, 6, 7, 8, 9]],\n",
       "  [19, [0, 1, 2, 3, 4, 5, 6, 7, 8, 9]]],\n",
       " '22': [[10, [0, 1, 2, 3, 4, 5, 6, 7, 8, 9]],\n",
       "  [11, [0, 1, 2, 3, 4, 5, 6, 7, 8, 9]],\n",
       "  [12, [0, 1, 2, 3, 4, 5, 6, 7, 8, 9]],\n",
       "  [13, [0, 1, 2, 3, 4, 5, 6, 7, 8, 9]],\n",
       "  [14, [0, 1, 2, 3, 4, 5, 6, 7, 8, 9]],\n",
       "  [15, [0, 1, 2, 3, 4, 5, 6, 7, 8, 9]],\n",
       "  [16, [0, 1, 2, 3, 4, 5, 6, 7, 8, 9]],\n",
       "  [17, [0, 1, 2, 3, 4, 5, 6, 7, 8, 9]],\n",
       "  [18, [0, 1, 2, 3, 4, 5, 6, 7, 8, 9]],\n",
       "  [19, [0, 1, 2, 3, 4, 5, 6, 7, 8, 9]]],\n",
       " '23': [[10, [0, 1, 2, 3, 4, 5, 6, 7, 8, 9]],\n",
       "  [11, [0, 1, 2, 3, 4, 5, 6, 7, 8, 9]],\n",
       "  [12, [0, 1, 2, 3, 4, 5, 6, 7, 8, 9]],\n",
       "  [13, [0, 1, 2, 3, 4, 5, 6, 7, 8, 9]],\n",
       "  [14, [0, 1, 2, 3, 4, 5, 6, 7, 8, 9]],\n",
       "  [15, [0, 1, 2, 3, 4, 5, 6, 7, 8, 9]],\n",
       "  [16, [0, 1, 2, 3, 4, 5, 6, 7, 8, 9]],\n",
       "  [17, [0, 1, 2, 3, 4, 5, 6, 7, 8, 9]],\n",
       "  [18, [0, 1, 2, 3, 4, 5, 6, 7, 8, 9]],\n",
       "  [19, [0, 1, 2, 3, 4, 5, 6, 7, 8, 9]]],\n",
       " '24': [[10, [0, 1, 2, 3, 4, 5, 6, 7, 8, 9]],\n",
       "  [11, [0, 1, 2, 3, 4, 5, 6, 7, 8, 9]],\n",
       "  [12, [0, 1, 2, 3, 4, 5, 6, 7, 8, 9]],\n",
       "  [13, [0, 1, 2, 3, 4, 5, 6, 7, 8, 9]],\n",
       "  [14, [0, 1, 2, 3, 4, 5, 6, 7, 8, 9]],\n",
       "  [15, [0, 1, 2, 3, 4, 5, 6, 7, 8, 9]],\n",
       "  [16, [0, 1, 2, 3, 4, 5, 6, 7, 8, 9]],\n",
       "  [17, [0, 1, 2, 3, 4, 5, 6, 7, 8, 9]],\n",
       "  [18, [0, 1, 2, 3, 4, 5, 6, 7, 8, 9]],\n",
       "  [19, [0, 1, 2, 3, 4, 5, 6, 7, 8, 9]]],\n",
       " '25': [[10, [0, 1, 2, 3, 4, 5, 6, 7, 8, 9]],\n",
       "  [11, [0, 1, 2, 3, 4, 5, 6, 7, 8, 9]],\n",
       "  [12, [0, 1, 2, 3, 4, 5, 6, 7, 8, 9]],\n",
       "  [13, [0, 1, 2, 3, 4, 5, 6, 7, 8, 9]],\n",
       "  [14, [0, 1, 2, 3, 4, 5, 6, 7, 8, 9]],\n",
       "  [15, [0, 1, 2, 3, 4, 5, 6, 7, 8, 9]],\n",
       "  [16, [0, 1, 2, 3, 4, 5, 6, 7, 8, 9]],\n",
       "  [17, [0, 1, 2, 3, 4, 5, 6, 7, 8, 9]],\n",
       "  [18, [0, 1, 2, 3, 4, 5, 6, 7, 8, 9]],\n",
       "  [19, [0, 1, 2, 3, 4, 5, 6, 7, 8, 9]]],\n",
       " '26': [[10, [0, 1, 2, 3, 4, 5, 6, 7, 8, 9]],\n",
       "  [11, [0, 1, 2, 3, 4, 5, 6, 7, 8, 9]],\n",
       "  [12, [0, 1, 2, 3, 4, 5, 6, 7, 8, 9]],\n",
       "  [13, [0, 1, 2, 3, 4, 5, 6, 7, 8, 9]],\n",
       "  [14, [0, 1, 2, 3, 4, 5, 6, 7, 8, 9]],\n",
       "  [15, [0, 1, 2, 3, 4, 5, 6, 7, 8, 9]],\n",
       "  [16, [0, 1, 2, 3, 4, 5, 6, 7, 8, 9]],\n",
       "  [17, [0, 1, 2, 3, 4, 5, 6, 7, 8, 9]],\n",
       "  [18, [0, 1, 2, 3, 4, 5, 6, 7, 8, 9]],\n",
       "  [19, [0, 1, 2, 3, 4, 5, 6, 7, 8, 9]]],\n",
       " '27': [[10, [0, 1, 2, 3, 4, 5, 6, 7, 8, 9]],\n",
       "  [11, [0, 1, 2, 3, 4, 5, 6, 7, 8, 9]],\n",
       "  [12, [0, 1, 2, 3, 4, 5, 6, 7, 8, 9]],\n",
       "  [13, [0, 1, 2, 3, 4, 5, 6, 7, 8, 9]],\n",
       "  [14, [0, 1, 2, 3, 4, 5, 6, 7, 8, 9]],\n",
       "  [15, [0, 1, 2, 3, 4, 5, 6, 7, 8, 9]],\n",
       "  [16, [0, 1, 2, 3, 4, 5, 6, 7, 8, 9]],\n",
       "  [17, [0, 1, 2, 3, 4, 5, 6, 7, 8, 9]],\n",
       "  [18, [0, 1, 2, 3, 4, 5, 6, 7, 8, 9]],\n",
       "  [19, [0, 1, 2, 3, 4, 5, 6, 7, 8, 9]]],\n",
       " '28': [[10, [0, 1, 2, 3, 4, 5, 6, 7, 8, 9]],\n",
       "  [11, [0, 1, 2, 3, 4, 5, 6, 7, 8, 9]],\n",
       "  [12, [0, 1, 2, 3, 4, 5, 6, 7, 8, 9]],\n",
       "  [13, [0, 1, 2, 3, 4, 5, 6, 7, 8, 9]],\n",
       "  [14, [0, 1, 2, 3, 4, 5, 6, 7, 8, 9]],\n",
       "  [15, [0, 1, 2, 3, 4, 5, 6, 7, 8, 9]],\n",
       "  [16, [0, 1, 2, 3, 4, 5, 6, 7, 8, 9]],\n",
       "  [17, [0, 1, 2, 3, 4, 5, 6, 7, 8, 9]],\n",
       "  [18, [0, 1, 2, 3, 4, 5, 6, 7, 8, 9]],\n",
       "  [19, [0, 1, 2, 3, 4, 5, 6, 7, 8, 9]]],\n",
       " '29': [[10, [0, 1, 2, 3, 4, 5, 6, 7, 8, 9]],\n",
       "  [11, [0, 1, 2, 3, 4, 5, 6, 7, 8, 9]],\n",
       "  [12, [0, 1, 2, 3, 4, 5, 6, 7, 8, 9]],\n",
       "  [13, [0, 1, 2, 3, 4, 5, 6, 7, 8, 9]],\n",
       "  [14, [0, 1, 2, 3, 4, 5, 6, 7, 8, 9]],\n",
       "  [15, [0, 1, 2, 3, 4, 5, 6, 7, 8, 9]],\n",
       "  [16, [0, 1, 2, 3, 4, 5, 6, 7, 8, 9]],\n",
       "  [17, [0, 1, 2, 3, 4, 5, 6, 7, 8, 9]],\n",
       "  [18, [0, 1, 2, 3, 4, 5, 6, 7, 8, 9]],\n",
       "  [19, [0, 1, 2, 3, 4, 5, 6, 7, 8, 9]]]}"
      ]
     },
     "execution_count": 16,
     "metadata": {},
     "output_type": "execute_result"
    }
   ],
   "source": [
    "load_base_model(name=\"symlink_file\", path=Path(\"true_files\"))"
   ]
  }
 ],
 "metadata": {
  "kernelspec": {
   "display_name": "Python 3",
   "language": "python",
   "name": "python3"
  },
  "language_info": {
   "codemirror_mode": {
    "name": "ipython",
    "version": 3
   },
   "file_extension": ".py",
   "mimetype": "text/x-python",
   "name": "python",
   "nbconvert_exporter": "python",
   "pygments_lexer": "ipython3",
   "version": "3.10.12"
  }
 },
 "nbformat": 4,
 "nbformat_minor": 2
}
