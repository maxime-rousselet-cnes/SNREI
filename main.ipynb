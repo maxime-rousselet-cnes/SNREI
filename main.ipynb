{
 "cells": [
  {
   "cell_type": "code",
   "execution_count": 1,
   "metadata": {},
   "outputs": [],
   "source": [
    "from src import clear_subs\n",
    "\n",
    "clear_subs()"
   ]
  },
  {
   "cell_type": "code",
   "execution_count": 2,
   "metadata": {},
   "outputs": [
    {
     "name": "stdout",
     "output_type": "stream",
     "text": [
      "([1],)\n"
     ]
    }
   ],
   "source": [
    "from itertools import product\n",
    "for item in product([[1]]):\n",
    "    print(item)"
   ]
  },
  {
   "cell_type": "code",
   "execution_count": 3,
   "metadata": {},
   "outputs": [
    {
     "name": "stdout",
     "output_type": "stream",
     "text": [
      "([[0.2, 0.2, 0.2, 0.2, 1.0], [0.5, 0.5, 0.5, 0.5, 1.0]],)\n"
     ]
    },
    {
     "ename": "TypeError",
     "evalue": "sequence item 0: expected str instance, float found",
     "output_type": "error",
     "traceback": [
      "\u001b[0;31m---------------------------------------------------------------------------\u001b[0m",
      "\u001b[0;31mTypeError\u001b[0m                                 Traceback (most recent call last)",
      "Cell \u001b[0;32mIn[3], line 3\u001b[0m\n\u001b[1;32m      1\u001b[0m \u001b[38;5;28;01mfrom\u001b[39;00m \u001b[38;5;21;01msrc\u001b[39;00m \u001b[38;5;28;01mimport\u001b[39;00m Love_numbers_for_options_for_models_for_asymptotic_mu_ratios\n\u001b[0;32m----> 3\u001b[0m \u001b[43mLove_numbers_for_options_for_models_for_asymptotic_mu_ratios\u001b[49m\u001b[43m(\u001b[49m\n\u001b[1;32m      4\u001b[0m \u001b[43m    \u001b[49m\u001b[43masymptotic_mu_ratios\u001b[49m\u001b[38;5;241;43m=\u001b[39;49m\u001b[43m[\u001b[49m\u001b[38;5;241;43m0.2\u001b[39;49m\u001b[43m,\u001b[49m\u001b[43m \u001b[49m\u001b[38;5;241;43m0.5\u001b[39;49m\u001b[43m]\u001b[49m\u001b[43m,\u001b[49m\n\u001b[1;32m      5\u001b[0m \u001b[43m    \u001b[49m\u001b[43melasticity_model_names\u001b[49m\u001b[38;5;241;43m=\u001b[39;49m\u001b[43m[\u001b[49m\u001b[38;5;124;43m\"\u001b[39;49m\u001b[38;5;124;43mPREM\u001b[39;49m\u001b[38;5;124;43m\"\u001b[39;49m\u001b[43m]\u001b[49m\u001b[43m,\u001b[49m\n\u001b[1;32m      6\u001b[0m \u001b[43m    \u001b[49m\u001b[43mlong_term_anelasticity_model_names\u001b[49m\u001b[38;5;241;43m=\u001b[39;49m\u001b[43m[\u001b[49m\n\u001b[1;32m      7\u001b[0m \u001b[43m        \u001b[49m\u001b[38;5;124;43m\"\u001b[39;49m\u001b[38;5;124;43mBurgers_asthenosphere__elastic_lithosphere\u001b[39;49m\u001b[38;5;124;43m\"\u001b[39;49m\u001b[43m,\u001b[49m\n\u001b[1;32m      8\u001b[0m \u001b[43m        \u001b[49m\u001b[38;5;124;43m\"\u001b[39;49m\u001b[38;5;124;43mPeltier_upper_mantle__elastic_lithosphere\u001b[39;49m\u001b[38;5;124;43m\"\u001b[39;49m\u001b[43m,\u001b[49m\n\u001b[1;32m      9\u001b[0m \u001b[43m    \u001b[49m\u001b[43m]\u001b[49m\u001b[43m,\u001b[49m\n\u001b[1;32m     10\u001b[0m \u001b[43m    \u001b[49m\u001b[43mshort_term_anelasticity_model_names\u001b[49m\u001b[38;5;241;43m=\u001b[39;49m\u001b[43m[\u001b[49m\u001b[38;5;124;43m\"\u001b[39;49m\u001b[38;5;124;43mBenjamin_Q_PREM\u001b[39;49m\u001b[38;5;124;43m\"\u001b[39;49m\u001b[43m]\u001b[49m\n\u001b[1;32m     11\u001b[0m \u001b[43m)\u001b[49m\n",
      "File \u001b[0;32m~/Code/SNREI/src/scripts/computing/Love_numbers.py:90\u001b[0m, in \u001b[0;36mLove_numbers_for_options_for_models_for_asymptotic_mu_ratios\u001b[0;34m(asymptotic_mu_ratios, elasticity_model_names, long_term_anelasticity_model_names, short_term_anelasticity_model_names, options, Love_numbers_hyper_parameters)\u001b[0m\n\u001b[1;32m     88\u001b[0m n_mantle_layers \u001b[38;5;241m=\u001b[39m \u001b[38;5;28mlen\u001b[39m(example_model_layers) \u001b[38;5;241m-\u001b[39m n_crust_layers\n\u001b[1;32m     89\u001b[0m \u001b[38;5;66;03m# Computes.\u001b[39;00m\n\u001b[0;32m---> 90\u001b[0m \u001b[38;5;28;01mreturn\u001b[39;00m \u001b[43mLove_numbers_for_options_for_models_for_parameters\u001b[49m\u001b[43m(\u001b[49m\n\u001b[1;32m     91\u001b[0m \u001b[43m    \u001b[49m\u001b[43melasticity_model_names\u001b[49m\u001b[38;5;241;43m=\u001b[39;49m\u001b[43melasticity_model_names\u001b[49m\u001b[43m,\u001b[49m\n\u001b[1;32m     92\u001b[0m \u001b[43m    \u001b[49m\u001b[43mlong_term_anelasticity_model_names\u001b[49m\u001b[38;5;241;43m=\u001b[39;49m\u001b[43mlong_term_anelasticity_model_names\u001b[49m\u001b[43m,\u001b[49m\n\u001b[1;32m     93\u001b[0m \u001b[43m    \u001b[49m\u001b[43mshort_term_anelasticity_model_names\u001b[49m\u001b[38;5;241;43m=\u001b[39;49m\u001b[43mshort_term_anelasticity_model_names\u001b[49m\u001b[43m,\u001b[49m\n\u001b[1;32m     94\u001b[0m \u001b[43m    \u001b[49m\u001b[43mparameters\u001b[49m\u001b[38;5;241;43m=\u001b[39;49m\u001b[43m{\u001b[49m\n\u001b[1;32m     95\u001b[0m \u001b[43m        \u001b[49m\u001b[43mModelPart\u001b[49m\u001b[38;5;241;43m.\u001b[39;49m\u001b[43mshort_term_anelasticity\u001b[49m\u001b[43m:\u001b[49m\u001b[43m \u001b[49m\u001b[43m{\u001b[49m\n\u001b[1;32m     96\u001b[0m \u001b[43m            \u001b[49m\u001b[38;5;124;43m\"\u001b[39;49m\u001b[38;5;124;43masymptotic_mu_ratio\u001b[39;49m\u001b[38;5;124;43m\"\u001b[39;49m\u001b[43m:\u001b[49m\u001b[43m \u001b[49m\u001b[43m[\u001b[49m\n\u001b[1;32m     97\u001b[0m \u001b[43m                \u001b[49m\u001b[43m[\u001b[49m\u001b[43masymptotic_mu_ratio\u001b[49m\u001b[43m]\u001b[49m\u001b[43m \u001b[49m\u001b[38;5;241;43m*\u001b[39;49m\u001b[43m \u001b[49m\u001b[43mn_mantle_layers\u001b[49m\u001b[43m \u001b[49m\u001b[38;5;241;43m+\u001b[39;49m\u001b[43m \u001b[49m\u001b[43m[\u001b[49m\u001b[38;5;241;43m1.0\u001b[39;49m\u001b[43m]\u001b[49m\u001b[43m \u001b[49m\u001b[38;5;241;43m*\u001b[39;49m\u001b[43m \u001b[49m\u001b[43mn_crust_layers\u001b[49m\n\u001b[1;32m     98\u001b[0m \u001b[43m                \u001b[49m\u001b[38;5;28;43;01mfor\u001b[39;49;00m\u001b[43m \u001b[49m\u001b[43masymptotic_mu_ratio\u001b[49m\u001b[43m \u001b[49m\u001b[38;5;129;43;01min\u001b[39;49;00m\u001b[43m \u001b[49m\u001b[43masymptotic_mu_ratios\u001b[49m\n\u001b[1;32m     99\u001b[0m \u001b[43m            \u001b[49m\u001b[43m]\u001b[49m\n\u001b[1;32m    100\u001b[0m \u001b[43m        \u001b[49m\u001b[43m}\u001b[49m\n\u001b[1;32m    101\u001b[0m \u001b[43m    \u001b[49m\u001b[43m}\u001b[49m\u001b[43m,\u001b[49m\n\u001b[1;32m    102\u001b[0m \u001b[43m    \u001b[49m\u001b[43moptions\u001b[49m\u001b[38;5;241;43m=\u001b[39;49m\u001b[43moptions\u001b[49m\u001b[43m,\u001b[49m\n\u001b[1;32m    103\u001b[0m \u001b[43m    \u001b[49m\u001b[43mLove_numbers_hyper_parameters\u001b[49m\u001b[38;5;241;43m=\u001b[39;49m\u001b[43mLove_numbers_hyper_parameters\u001b[49m\u001b[43m,\u001b[49m\n\u001b[1;32m    104\u001b[0m \u001b[43m\u001b[49m\u001b[43m)\u001b[49m\n",
      "File \u001b[0;32m~/Code/SNREI/src/utils/Love_numbers/fors.py:93\u001b[0m, in \u001b[0;36mLove_numbers_for_options_for_models_for_parameters\u001b[0;34m(forced_anelasticity_description_id, overwrite_descriptions, elasticity_model_names, long_term_anelasticity_model_names, short_term_anelasticity_model_names, parameters, options, Love_numbers_hyper_parameters)\u001b[0m\n\u001b[1;32m     90\u001b[0m         model_filenames[model_part] \u001b[38;5;241m=\u001b[39m model_names\n\u001b[1;32m     91\u001b[0m     \u001b[38;5;28;01melse\u001b[39;00m:\n\u001b[1;32m     92\u001b[0m         model_filenames[model_part] \u001b[38;5;241m=\u001b[39m concatenate(\n\u001b[0;32m---> 93\u001b[0m             [\n\u001b[1;32m     94\u001b[0m                 [\n\u001b[1;32m     95\u001b[0m                     create_model_variation(\n\u001b[1;32m     96\u001b[0m                         model_part\u001b[38;5;241m=\u001b[39mmodel_part,\n\u001b[1;32m     97\u001b[0m                         model_base_name\u001b[38;5;241m=\u001b[39mmodel_name,\n\u001b[1;32m     98\u001b[0m                         parameter_names\u001b[38;5;241m=\u001b[39mparameters[model_part]\u001b[38;5;241m.\u001b[39mkeys(),\n\u001b[1;32m     99\u001b[0m                         parameter_values_per_layer\u001b[38;5;241m=\u001b[39m[\n\u001b[1;32m    100\u001b[0m                             parameter_values\n\u001b[1;32m    101\u001b[0m                             \u001b[38;5;28;01mfor\u001b[39;00m parameter_values \u001b[38;5;129;01min\u001b[39;00m product(\n\u001b[1;32m    102\u001b[0m                                 parameter_values_per_possibility\n\u001b[1;32m    103\u001b[0m                                 \u001b[38;5;28;01mfor\u001b[39;00m _, parameter_values_per_possibility \u001b[38;5;129;01min\u001b[39;00m parameters[model_part]\u001b[38;5;241m.\u001b[39mitems()\n\u001b[1;32m    104\u001b[0m                             )\n\u001b[1;32m    105\u001b[0m                         ],\n\u001b[1;32m    106\u001b[0m                     )\n\u001b[1;32m    107\u001b[0m                 ]\n\u001b[1;32m    108\u001b[0m                 \u001b[38;5;28;01mfor\u001b[39;00m model_name \u001b[38;5;129;01min\u001b[39;00m model_names\n\u001b[1;32m    109\u001b[0m             ]\n\u001b[1;32m    110\u001b[0m         )\n\u001b[1;32m    112\u001b[0m anelasticity_description_ids \u001b[38;5;241m=\u001b[39m []\n\u001b[1;32m    113\u001b[0m \u001b[38;5;66;03m# Loops on all possible triplet of model files to launch runs.\u001b[39;00m\n",
      "File \u001b[0;32m~/Code/SNREI/src/utils/Love_numbers/fors.py:95\u001b[0m, in \u001b[0;36m<listcomp>\u001b[0;34m(.0)\u001b[0m\n\u001b[1;32m     90\u001b[0m         model_filenames[model_part] \u001b[38;5;241m=\u001b[39m model_names\n\u001b[1;32m     91\u001b[0m     \u001b[38;5;28;01melse\u001b[39;00m:\n\u001b[1;32m     92\u001b[0m         model_filenames[model_part] \u001b[38;5;241m=\u001b[39m concatenate(\n\u001b[1;32m     93\u001b[0m             [\n\u001b[1;32m     94\u001b[0m                 [\n\u001b[0;32m---> 95\u001b[0m                     \u001b[43mcreate_model_variation\u001b[49m\u001b[43m(\u001b[49m\n\u001b[1;32m     96\u001b[0m \u001b[43m                        \u001b[49m\u001b[43mmodel_part\u001b[49m\u001b[38;5;241;43m=\u001b[39;49m\u001b[43mmodel_part\u001b[49m\u001b[43m,\u001b[49m\n\u001b[1;32m     97\u001b[0m \u001b[43m                        \u001b[49m\u001b[43mmodel_base_name\u001b[49m\u001b[38;5;241;43m=\u001b[39;49m\u001b[43mmodel_name\u001b[49m\u001b[43m,\u001b[49m\n\u001b[1;32m     98\u001b[0m \u001b[43m                        \u001b[49m\u001b[43mparameter_names\u001b[49m\u001b[38;5;241;43m=\u001b[39;49m\u001b[43mparameters\u001b[49m\u001b[43m[\u001b[49m\u001b[43mmodel_part\u001b[49m\u001b[43m]\u001b[49m\u001b[38;5;241;43m.\u001b[39;49m\u001b[43mkeys\u001b[49m\u001b[43m(\u001b[49m\u001b[43m)\u001b[49m\u001b[43m,\u001b[49m\n\u001b[1;32m     99\u001b[0m \u001b[43m                        \u001b[49m\u001b[43mparameter_values_per_layer\u001b[49m\u001b[38;5;241;43m=\u001b[39;49m\u001b[43m[\u001b[49m\n\u001b[1;32m    100\u001b[0m \u001b[43m                            \u001b[49m\u001b[43mparameter_values\u001b[49m\n\u001b[1;32m    101\u001b[0m \u001b[43m                            \u001b[49m\u001b[38;5;28;43;01mfor\u001b[39;49;00m\u001b[43m \u001b[49m\u001b[43mparameter_values\u001b[49m\u001b[43m \u001b[49m\u001b[38;5;129;43;01min\u001b[39;49;00m\u001b[43m \u001b[49m\u001b[43mproduct\u001b[49m\u001b[43m(\u001b[49m\n\u001b[1;32m    102\u001b[0m \u001b[43m                                \u001b[49m\u001b[43mparameter_values_per_possibility\u001b[49m\n\u001b[1;32m    103\u001b[0m \u001b[43m                                \u001b[49m\u001b[38;5;28;43;01mfor\u001b[39;49;00m\u001b[43m \u001b[49m\u001b[43m_\u001b[49m\u001b[43m,\u001b[49m\u001b[43m \u001b[49m\u001b[43mparameter_values_per_possibility\u001b[49m\u001b[43m \u001b[49m\u001b[38;5;129;43;01min\u001b[39;49;00m\u001b[43m \u001b[49m\u001b[43mparameters\u001b[49m\u001b[43m[\u001b[49m\u001b[43mmodel_part\u001b[49m\u001b[43m]\u001b[49m\u001b[38;5;241;43m.\u001b[39;49m\u001b[43mitems\u001b[49m\u001b[43m(\u001b[49m\u001b[43m)\u001b[49m\n\u001b[1;32m    104\u001b[0m \u001b[43m                            \u001b[49m\u001b[43m)\u001b[49m\n\u001b[1;32m    105\u001b[0m \u001b[43m                        \u001b[49m\u001b[43m]\u001b[49m\u001b[43m,\u001b[49m\n\u001b[1;32m    106\u001b[0m \u001b[43m                    \u001b[49m\u001b[43m)\u001b[49m\n\u001b[1;32m    107\u001b[0m                 ]\n\u001b[1;32m    108\u001b[0m                 \u001b[38;5;28;01mfor\u001b[39;00m model_name \u001b[38;5;129;01min\u001b[39;00m model_names\n\u001b[1;32m    109\u001b[0m             ]\n\u001b[1;32m    110\u001b[0m         )\n\u001b[1;32m    112\u001b[0m anelasticity_description_ids \u001b[38;5;241m=\u001b[39m []\n\u001b[1;32m    113\u001b[0m \u001b[38;5;66;03m# Loops on all possible triplet of model files to launch runs.\u001b[39;00m\n",
      "File \u001b[0;32m~/Code/SNREI/src/utils/Love_numbers/fors.py:39\u001b[0m, in \u001b[0;36mcreate_model_variation\u001b[0;34m(model_part, model_base_name, parameter_names, parameter_values_per_layer)\u001b[0m\n\u001b[1;32m     35\u001b[0m     model\u001b[38;5;241m.\u001b[39mpolynomials[parameter_name] \u001b[38;5;241m=\u001b[39m parameter_values_per_layer\n\u001b[1;32m     36\u001b[0m \u001b[38;5;28mprint\u001b[39m(parameter_values_per_layer)\n\u001b[1;32m     37\u001b[0m save_base_model(\n\u001b[1;32m     38\u001b[0m     obj\u001b[38;5;241m=\u001b[39mmodel,\n\u001b[0;32m---> 39\u001b[0m     name\u001b[38;5;241m=\u001b[39m\u001b[38;5;124;43m\"\u001b[39;49m\u001b[38;5;124;43m___\u001b[39;49m\u001b[38;5;124;43m\"\u001b[39;49m\u001b[38;5;241;43m.\u001b[39;49m\u001b[43mjoin\u001b[49m\u001b[43m(\u001b[49m\n\u001b[1;32m     40\u001b[0m \u001b[43m        \u001b[49m\u001b[43m(\u001b[49m\n\u001b[1;32m     41\u001b[0m \u001b[43m            \u001b[49m\u001b[38;5;124;43m\"\u001b[39;49m\u001b[38;5;124;43m__\u001b[39;49m\u001b[38;5;124;43m\"\u001b[39;49m\u001b[38;5;241;43m.\u001b[39;49m\u001b[43mjoin\u001b[49m\u001b[43m(\u001b[49m\u001b[43m[\u001b[49m\u001b[43mparameter_name\u001b[49m\u001b[43m]\u001b[49m\u001b[43m \u001b[49m\u001b[38;5;241;43m+\u001b[39;49m\u001b[43m \u001b[49m\u001b[43m[\u001b[49m\u001b[38;5;124;43m\"\u001b[39;49m\u001b[38;5;124;43m_\u001b[39;49m\u001b[38;5;124;43m\"\u001b[39;49m\u001b[38;5;241;43m.\u001b[39;49m\u001b[43mjoin\u001b[49m\u001b[43m(\u001b[49m\u001b[43mvalues\u001b[49m\u001b[43m)\u001b[49m\u001b[43m \u001b[49m\u001b[38;5;28;43;01mfor\u001b[39;49;00m\u001b[43m \u001b[49m\u001b[43mvalues\u001b[49m\u001b[43m \u001b[49m\u001b[38;5;129;43;01min\u001b[39;49;00m\u001b[43m \u001b[49m\u001b[43mparameter_values\u001b[49m\u001b[43m]\u001b[49m\u001b[43m)\u001b[49m\n\u001b[1;32m     42\u001b[0m \u001b[43m            \u001b[49m\u001b[38;5;28;43;01mfor\u001b[39;49;00m\u001b[43m \u001b[49m\u001b[43mparameter_name\u001b[49m\u001b[43m,\u001b[49m\u001b[43m \u001b[49m\u001b[43mparameter_values\u001b[49m\u001b[43m \u001b[49m\u001b[38;5;129;43;01min\u001b[39;49;00m\u001b[43m \u001b[49m\u001b[38;5;28;43mzip\u001b[39;49m\u001b[43m(\u001b[49m\u001b[43mparameter_names\u001b[49m\u001b[43m,\u001b[49m\u001b[43m \u001b[49m\u001b[43mparameter_values_per_layer\u001b[49m\u001b[43m)\u001b[49m\n\u001b[1;32m     43\u001b[0m \u001b[43m        \u001b[49m\u001b[43m)\u001b[49m\n\u001b[1;32m     44\u001b[0m \u001b[43m    \u001b[49m\u001b[43m)\u001b[49m,\n\u001b[1;32m     45\u001b[0m     path\u001b[38;5;241m=\u001b[39mmodels_path[model_part]\u001b[38;5;241m.\u001b[39mjoinpath(model_base_name),\n\u001b[1;32m     46\u001b[0m )\n",
      "File \u001b[0;32m~/Code/SNREI/src/utils/Love_numbers/fors.py:41\u001b[0m, in \u001b[0;36m<genexpr>\u001b[0;34m(.0)\u001b[0m\n\u001b[1;32m     35\u001b[0m     model\u001b[38;5;241m.\u001b[39mpolynomials[parameter_name] \u001b[38;5;241m=\u001b[39m parameter_values_per_layer\n\u001b[1;32m     36\u001b[0m \u001b[38;5;28mprint\u001b[39m(parameter_values_per_layer)\n\u001b[1;32m     37\u001b[0m save_base_model(\n\u001b[1;32m     38\u001b[0m     obj\u001b[38;5;241m=\u001b[39mmodel,\n\u001b[1;32m     39\u001b[0m     name\u001b[38;5;241m=\u001b[39m\u001b[38;5;124m\"\u001b[39m\u001b[38;5;124m___\u001b[39m\u001b[38;5;124m\"\u001b[39m\u001b[38;5;241m.\u001b[39mjoin(\n\u001b[1;32m     40\u001b[0m         (\n\u001b[0;32m---> 41\u001b[0m             \u001b[38;5;124m\"\u001b[39m\u001b[38;5;124m__\u001b[39m\u001b[38;5;124m\"\u001b[39m\u001b[38;5;241m.\u001b[39mjoin([parameter_name] \u001b[38;5;241m+\u001b[39m [\u001b[38;5;124m\"\u001b[39m\u001b[38;5;124m_\u001b[39m\u001b[38;5;124m\"\u001b[39m\u001b[38;5;241m.\u001b[39mjoin(values) \u001b[38;5;28;01mfor\u001b[39;00m values \u001b[38;5;129;01min\u001b[39;00m parameter_values])\n\u001b[1;32m     42\u001b[0m             \u001b[38;5;28;01mfor\u001b[39;00m parameter_name, parameter_values \u001b[38;5;129;01min\u001b[39;00m \u001b[38;5;28mzip\u001b[39m(parameter_names, parameter_values_per_layer)\n\u001b[1;32m     43\u001b[0m         )\n\u001b[1;32m     44\u001b[0m     ),\n\u001b[1;32m     45\u001b[0m     path\u001b[38;5;241m=\u001b[39mmodels_path[model_part]\u001b[38;5;241m.\u001b[39mjoinpath(model_base_name),\n\u001b[1;32m     46\u001b[0m )\n",
      "File \u001b[0;32m~/Code/SNREI/src/utils/Love_numbers/fors.py:41\u001b[0m, in \u001b[0;36m<listcomp>\u001b[0;34m(.0)\u001b[0m\n\u001b[1;32m     35\u001b[0m     model\u001b[38;5;241m.\u001b[39mpolynomials[parameter_name] \u001b[38;5;241m=\u001b[39m parameter_values_per_layer\n\u001b[1;32m     36\u001b[0m \u001b[38;5;28mprint\u001b[39m(parameter_values_per_layer)\n\u001b[1;32m     37\u001b[0m save_base_model(\n\u001b[1;32m     38\u001b[0m     obj\u001b[38;5;241m=\u001b[39mmodel,\n\u001b[1;32m     39\u001b[0m     name\u001b[38;5;241m=\u001b[39m\u001b[38;5;124m\"\u001b[39m\u001b[38;5;124m___\u001b[39m\u001b[38;5;124m\"\u001b[39m\u001b[38;5;241m.\u001b[39mjoin(\n\u001b[1;32m     40\u001b[0m         (\n\u001b[0;32m---> 41\u001b[0m             \u001b[38;5;124m\"\u001b[39m\u001b[38;5;124m__\u001b[39m\u001b[38;5;124m\"\u001b[39m\u001b[38;5;241m.\u001b[39mjoin([parameter_name] \u001b[38;5;241m+\u001b[39m [\u001b[38;5;124;43m\"\u001b[39;49m\u001b[38;5;124;43m_\u001b[39;49m\u001b[38;5;124;43m\"\u001b[39;49m\u001b[38;5;241;43m.\u001b[39;49m\u001b[43mjoin\u001b[49m\u001b[43m(\u001b[49m\u001b[43mvalues\u001b[49m\u001b[43m)\u001b[49m \u001b[38;5;28;01mfor\u001b[39;00m values \u001b[38;5;129;01min\u001b[39;00m parameter_values])\n\u001b[1;32m     42\u001b[0m             \u001b[38;5;28;01mfor\u001b[39;00m parameter_name, parameter_values \u001b[38;5;129;01min\u001b[39;00m \u001b[38;5;28mzip\u001b[39m(parameter_names, parameter_values_per_layer)\n\u001b[1;32m     43\u001b[0m         )\n\u001b[1;32m     44\u001b[0m     ),\n\u001b[1;32m     45\u001b[0m     path\u001b[38;5;241m=\u001b[39mmodels_path[model_part]\u001b[38;5;241m.\u001b[39mjoinpath(model_base_name),\n\u001b[1;32m     46\u001b[0m )\n",
      "\u001b[0;31mTypeError\u001b[0m: sequence item 0: expected str instance, float found"
     ]
    }
   ],
   "source": [
    "from src import Love_numbers_for_options_for_models_for_asymptotic_mu_ratios\n",
    "\n",
    "Love_numbers_for_options_for_models_for_asymptotic_mu_ratios(\n",
    "    asymptotic_mu_ratios=[0.2, 0.5],\n",
    "    elasticity_model_names=[\"PREM\"],\n",
    "    long_term_anelasticity_model_names=[\n",
    "        \"Burgers_asthenosphere__elastic_lithosphere\",\n",
    "        \"Peltier_upper_mantle__elastic_lithosphere\",\n",
    "    ],\n",
    "    short_term_anelasticity_model_names=[\"Benjamin_Q_PREM\"]\n",
    ")"
   ]
  }
 ],
 "metadata": {
  "kernelspec": {
   "display_name": "Python 3",
   "language": "python",
   "name": "python3"
  },
  "language_info": {
   "codemirror_mode": {
    "name": "ipython",
    "version": 3
   },
   "file_extension": ".py",
   "mimetype": "text/x-python",
   "name": "python",
   "nbconvert_exporter": "python",
   "pygments_lexer": "ipython3",
   "version": "3.10.12"
  }
 },
 "nbformat": 4,
 "nbformat_minor": 2
}
