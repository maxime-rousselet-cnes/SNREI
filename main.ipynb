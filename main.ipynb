{
 "cells": [
  {
   "cell_type": "code",
   "execution_count": 1,
   "metadata": {},
   "outputs": [
    {
     "name": "stdout",
     "output_type": "stream",
     "text": [
      "Description: PREM___Burgers_asthenosphere__elastic_lithosphere___Benjamin_Q_PREM/asymptotic_mu_ratio__0.2__0.2__0.2__0.2__1.0:\n",
      "----Run: long_term_anelasticity__short_term_anelasticity__bounded_attenuation_functions: Done.\n",
      "----Run: __short_term_anelasticity__bounded_attenuation_functions: Done.\n",
      "----Run: long_term_anelasticity____: Done.\n",
      "----Run: __short_term_anelasticity__: Done.\n",
      "----Run: long_term_anelasticity__short_term_anelasticity__: Done.\n",
      "Description: PREM___Peltier_upper_mantle__elastic_lithosphere___Benjamin_Q_PREM/asymptotic_mu_ratio__0.2__0.2__0.2__0.2__1.0:\n",
      "----Run: long_term_anelasticity__short_term_anelasticity__bounded_attenuation_functions: Done.\n",
      "----Run: long_term_anelasticity____: Done.\n",
      "----Run: long_term_anelasticity__short_term_anelasticity__: Done.\n"
     ]
    }
   ],
   "source": [
    "from src import clear_subs, Love_numbers_for_options_for_models_for_asymptotic_mu_ratios\n",
    "\n",
    "\"\"\"\n",
    "clear_subs()\n",
    "anelasticity_description_ids = Love_numbers_for_options_for_models_for_asymptotic_mu_ratios(\n",
    "    asymptotic_mu_ratios=[0.2],\n",
    "    elasticity_model_names=[\"PREM\"],\n",
    "    long_term_anelasticity_model_names=[\n",
    "        \"Burgers_asthenosphere__elastic_lithosphere\",\n",
    "        \"Peltier_upper_mantle__elastic_lithosphere\",\n",
    "    ],\n",
    "    short_term_anelasticity_model_names=[\"Benjamin_Q_PREM\"],\n",
    ")\n",
    "\"\"\""
   ]
  },
  {
   "cell_type": "code",
   "execution_count": 2,
   "metadata": {},
   "outputs": [
    {
     "data": {
      "text/plain": [
       "(1.336086707571451-0.01700261053809833j)"
      ]
     },
     "execution_count": 2,
     "metadata": {},
     "output_type": "execute_result"
    }
   ],
   "source": [
    "from src import get_single_float_Love_number\n",
    "\n",
    "get_single_float_Love_number(\n",
    "    anelasticity_desciption_id=\"PREM___Burgers_asthenosphere__elastic_lithosphere___Benjamin_Q_PREM\"\n",
    "    + \"/\"\n",
    "    + \"asymptotic_mu_ratio__0.2__0.2__0.2__0.2__1.0\"\n",
    ")[0][0]"
   ]
  },
  {
   "cell_type": "code",
   "execution_count": 1,
   "metadata": {},
   "outputs": [
    {
     "name": "stderr",
     "output_type": "stream",
     "text": [
      "/home/mrousselet/Code/SNREI/src/scripts/plot/Love_numbers.py:143: UserWarning: Attempt to set non-positive xlim on a log-scaled axis will be ignored.\n",
      "  plt.clf()\n"
     ]
    },
    {
     "data": {
      "text/plain": [
       "<Figure size 1000x1000 with 0 Axes>"
      ]
     },
     "metadata": {},
     "output_type": "display_data"
    },
    {
     "data": {
      "text/plain": [
       "<Figure size 1000x1000 with 0 Axes>"
      ]
     },
     "metadata": {},
     "output_type": "display_data"
    },
    {
     "data": {
      "text/plain": [
       "<Figure size 1000x1000 with 0 Axes>"
      ]
     },
     "metadata": {},
     "output_type": "display_data"
    },
    {
     "data": {
      "text/plain": [
       "<Figure size 1000x1000 with 0 Axes>"
      ]
     },
     "metadata": {},
     "output_type": "display_data"
    },
    {
     "data": {
      "text/plain": [
       "<Figure size 1000x1000 with 0 Axes>"
      ]
     },
     "metadata": {},
     "output_type": "display_data"
    },
    {
     "data": {
      "text/plain": [
       "<Figure size 1000x1000 with 0 Axes>"
      ]
     },
     "metadata": {},
     "output_type": "display_data"
    },
    {
     "data": {
      "text/plain": [
       "<Figure size 1000x1000 with 0 Axes>"
      ]
     },
     "metadata": {},
     "output_type": "display_data"
    },
    {
     "data": {
      "text/plain": [
       "<Figure size 1000x1000 with 0 Axes>"
      ]
     },
     "metadata": {},
     "output_type": "display_data"
    },
    {
     "data": {
      "text/plain": [
       "<Figure size 1000x1000 with 0 Axes>"
      ]
     },
     "metadata": {},
     "output_type": "display_data"
    },
    {
     "data": {
      "text/plain": [
       "<Figure size 1000x1000 with 0 Axes>"
      ]
     },
     "metadata": {},
     "output_type": "display_data"
    },
    {
     "data": {
      "text/plain": [
       "<Figure size 1000x1000 with 0 Axes>"
      ]
     },
     "metadata": {},
     "output_type": "display_data"
    },
    {
     "data": {
      "text/plain": [
       "<Figure size 1000x1000 with 0 Axes>"
      ]
     },
     "metadata": {},
     "output_type": "display_data"
    },
    {
     "data": {
      "text/plain": [
       "<Figure size 1000x1000 with 0 Axes>"
      ]
     },
     "metadata": {},
     "output_type": "display_data"
    },
    {
     "data": {
      "text/plain": [
       "<Figure size 1000x1000 with 0 Axes>"
      ]
     },
     "metadata": {},
     "output_type": "display_data"
    },
    {
     "data": {
      "text/plain": [
       "<Figure size 1000x1000 with 0 Axes>"
      ]
     },
     "metadata": {},
     "output_type": "display_data"
    },
    {
     "data": {
      "text/plain": [
       "<Figure size 1000x1000 with 0 Axes>"
      ]
     },
     "metadata": {},
     "output_type": "display_data"
    },
    {
     "data": {
      "text/plain": [
       "<Figure size 1000x1000 with 0 Axes>"
      ]
     },
     "metadata": {},
     "output_type": "display_data"
    },
    {
     "data": {
      "text/plain": [
       "<Figure size 1000x1000 with 0 Axes>"
      ]
     },
     "metadata": {},
     "output_type": "display_data"
    }
   ],
   "source": [
    "from src import BoundaryCondition, plot_Love_numbers_for_options_for_descriptions_per_type\n",
    "\n",
    "plot_Love_numbers_for_options_for_descriptions_per_type(\n",
    "    anelasticity_description_ids=[\n",
    "        \"PREM___Peltier_upper_mantle__elastic_lithosphere___Benjamin_Q_PREM\"\n",
    "        + \"/\"\n",
    "        + \"asymptotic_mu_ratio__0.2__0.2__0.2__0.2__1.0\",\n",
    "        \"PREM___Burgers_asthenosphere__elastic_lithosphere___Benjamin_Q_PREM\"\n",
    "        + \"/\"\n",
    "        + \"asymptotic_mu_ratio__0.2__0.2__0.2__0.2__1.0\",\n",
    "    ],\n",
    "    boundary_conditions=[BoundaryCondition.load, BoundaryCondition.shear, BoundaryCondition.potential],\n",
    ")"
   ]
  }
 ],
 "metadata": {
  "kernelspec": {
   "display_name": "Python 3",
   "language": "python",
   "name": "python3"
  },
  "language_info": {
   "codemirror_mode": {
    "name": "ipython",
    "version": 3
   },
   "file_extension": ".py",
   "mimetype": "text/x-python",
   "name": "python",
   "nbconvert_exporter": "python",
   "pygments_lexer": "ipython3",
   "version": "3.10.12"
  }
 },
 "nbformat": 4,
 "nbformat_minor": 2
}
