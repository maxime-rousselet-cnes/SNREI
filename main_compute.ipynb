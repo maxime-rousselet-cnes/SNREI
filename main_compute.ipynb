{
 "cells": [
  {
   "cell_type": "code",
   "execution_count": 1,
   "metadata": {},
   "outputs": [
    {
     "name": "stdout",
     "output_type": "stream",
     "text": [
      "Description: PREM___Burgers_asthenosphere__elastic_lithosphere___Benjamin_Q_PREM/asymptotic_mu_ratio__0.2__0.2__0.2__0.2__1.0:\n",
      "----Run: long_term_anelasticity__short_term_anelasticity__bounded_attenuation_functions: Done.\n",
      "----Run: __short_term_anelasticity__bounded_attenuation_functions: Done.\n",
      "----Run: long_term_anelasticity____: Done.\n",
      "----Run: __short_term_anelasticity__: Done.\n",
      "----Run: long_term_anelasticity__short_term_anelasticity__: Done.\n",
      "Description: PREM___Peltier_upper_mantle__elastic_lithosphere___Benjamin_Q_PREM/asymptotic_mu_ratio__0.2__0.2__0.2__0.2__1.0:\n",
      "----Run: long_term_anelasticity__short_term_anelasticity__bounded_attenuation_functions: Done.\n",
      "----Run: long_term_anelasticity____: Done.\n",
      "----Run: long_term_anelasticity__short_term_anelasticity__: Done.\n",
      "Description: PREM___uniform___uniform/asymptotic_mu_ratio__0.2:\n",
      "----Run: long_term_anelasticity__short_term_anelasticity__bounded_attenuation_functions: Done.\n",
      "----Run: __short_term_anelasticity__bounded_attenuation_functions: Done.\n",
      "----Run: long_term_anelasticity____: Done.\n",
      "----Run: __short_term_anelasticity__: Done.\n",
      "----Run: long_term_anelasticity__short_term_anelasticity__: Done.\n"
     ]
    }
   ],
   "source": [
    "from src import Love_numbers_for_options_for_models_for_asymptotic_mu_ratios\n",
    "\n",
    "anelasticity_description_ids = Love_numbers_for_options_for_models_for_asymptotic_mu_ratios(\n",
    "    asymptotic_mu_ratios=[0.2],\n",
    "    elasticity_model_names=[\"PREM\"],\n",
    "    long_term_anelasticity_model_names=[\n",
    "        \"Burgers_asthenosphere__elastic_lithosphere\",\n",
    "        \"Peltier_upper_mantle__elastic_lithosphere\",\n",
    "    ],\n",
    "    short_term_anelasticity_model_names=[\"Benjamin_Q_PREM\"],\n",
    ")\n",
    "anelasticity_description_ids = Love_numbers_for_options_for_models_for_asymptotic_mu_ratios(\n",
    "    asymptotic_mu_ratios=[0.2],\n",
    "    elasticity_model_names=[\"PREM\"],\n",
    "    long_term_anelasticity_model_names=[\"uniform\"],\n",
    "    short_term_anelasticity_model_names=[\"uniform\"],\n",
    ")"
   ]
  },
  {
   "cell_type": "code",
   "execution_count": 1,
   "metadata": {},
   "outputs": [
    {
     "name": "stdout",
     "output_type": "stream",
     "text": [
      "Description: PREM___Peltier_upper_mantle__elastic_lithosphere___Benjamin_Q_PREM/asymptotic_mu_ratio__0.2__0.2__0.2__0.2__1.0:\n"
     ]
    },
    {
     "name": "stderr",
     "output_type": "stream",
     "text": [
      "----C: 100%|██████████| 90/90 [02:47<00:00,  1.86s/it]\n",
      "----S: 100%|██████████| 89/89 [02:44<00:00,  1.85s/it]\n"
     ]
    },
    {
     "name": "stdout",
     "output_type": "stream",
     "text": [
      "----Run: long_term_anelasticity__short_term_anelasticity__bounded_attenuation_functions: Done.\n"
     ]
    },
    {
     "name": "stderr",
     "output_type": "stream",
     "text": [
      "----C: 100%|██████████| 90/90 [02:46<00:00,  1.85s/it]\n",
      "----S: 100%|██████████| 89/89 [02:49<00:00,  1.91s/it]\n"
     ]
    },
    {
     "name": "stdout",
     "output_type": "stream",
     "text": [
      "----Run: __short_term_anelasticity__bounded_attenuation_functions: Done.\n"
     ]
    },
    {
     "name": "stderr",
     "output_type": "stream",
     "text": [
      "----C: 100%|██████████| 90/90 [02:50<00:00,  1.90s/it]\n",
      "----S:  64%|██████▍   | 57/89 [01:06<01:10,  2.21s/it]"
     ]
    }
   ],
   "source": [
    "from src import compute_anelastic_induced_harmonic_load_per_description_per_options\n",
    "\n",
    "compute_anelastic_induced_harmonic_load_per_description_per_options(\n",
    "    anelasticity_description_ids=[\n",
    "        \"PREM___Peltier_upper_mantle__elastic_lithosphere___Benjamin_Q_PREM/asymptotic_mu_ratio__0.2__0.2__0.2__0.2__1.0\",\n",
    "        \"PREM___Burgers_asthenosphere__elastic_lithosphere___Benjamin_Q_PREM/asymptotic_mu_ratio__0.2__0.2__0.2__0.2__1.0\",\n",
    "        \"PREM___uniform___uniform/asymptotic_mu_ratio__0.2\",\n",
    "    ],\n",
    ")"
   ]
  }
 ],
 "metadata": {
  "kernelspec": {
   "display_name": "Python 3",
   "language": "python",
   "name": "python3"
  },
  "language_info": {
   "codemirror_mode": {
    "name": "ipython",
    "version": 3
   },
   "file_extension": ".py",
   "mimetype": "text/x-python",
   "name": "python",
   "nbconvert_exporter": "python",
   "pygments_lexer": "ipython3",
   "version": "3.10.12"
  }
 },
 "nbformat": 4,
 "nbformat_minor": 2
}
