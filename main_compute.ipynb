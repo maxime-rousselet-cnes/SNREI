{
 "cells": [
  {
   "cell_type": "code",
   "execution_count": null,
   "metadata": {},
   "outputs": [],
   "source": [
    "from src import Love_numbers_for_options_for_models_for_asymptotic_mu_ratios\n",
    "\n",
    "anelasticity_description_ids = Love_numbers_for_options_for_models_for_asymptotic_mu_ratios(\n",
    "    asymptotic_mu_ratios=[0.2],\n",
    "    elasticity_model_names=[\"PREM\"],\n",
    "    long_term_anelasticity_model_names=[\n",
    "        \"Burgers_asthenosphere__elastic_lithosphere\",\n",
    "        \"Peltier_upper_mantle__elastic_lithosphere\",\n",
    "    ],\n",
    "    short_term_anelasticity_model_names=[\"Benjamin_Q_PREM\"],\n",
    ")\n",
    "anelasticity_description_ids = Love_numbers_for_options_for_models_for_asymptotic_mu_ratios(\n",
    "    asymptotic_mu_ratios=[0.2],\n",
    "    elasticity_model_names=[\"PREM\"],\n",
    "    long_term_anelasticity_model_names=[\"uniform\"],\n",
    "    short_term_anelasticity_model_names=[\"uniform\"],\n",
    ")"
   ]
  },
  {
   "cell_type": "code",
   "execution_count": 1,
   "metadata": {},
   "outputs": [
    {
     "name": "stdout",
     "output_type": "stream",
     "text": [
      "Description: PREM___Peltier_upper_mantle__elastic_lithosphere___Benjamin_Q_PREM/asymptotic_mu_ratio__0.2__0.2__0.2__0.2__1.0:\n"
     ]
    },
    {
     "name": "stderr",
     "output_type": "stream",
     "text": [
      "----C: 100%|██████████| 90/90 [01:53<00:00,  1.26s/it]\n",
      "----S: 100%|██████████| 89/89 [01:52<00:00,  1.26s/it]\n"
     ]
    },
    {
     "name": "stdout",
     "output_type": "stream",
     "text": [
      "----Run: long_term_anelasticity__short_term_anelasticity__bounded_attenuation_functions: Done.\n"
     ]
    },
    {
     "name": "stderr",
     "output_type": "stream",
     "text": [
      "----C: 100%|██████████| 90/90 [01:54<00:00,  1.27s/it]\n",
      "----S: 100%|██████████| 89/89 [01:51<00:00,  1.26s/it]\n"
     ]
    },
    {
     "name": "stdout",
     "output_type": "stream",
     "text": [
      "----Run: __short_term_anelasticity__bounded_attenuation_functions: Done.\n"
     ]
    },
    {
     "name": "stderr",
     "output_type": "stream",
     "text": [
      "----C: 100%|██████████| 90/90 [01:53<00:00,  1.26s/it]\n",
      "----S: 100%|██████████| 89/89 [01:49<00:00,  1.23s/it]\n"
     ]
    },
    {
     "name": "stdout",
     "output_type": "stream",
     "text": [
      "----Run: long_term_anelasticity____: Done.\n"
     ]
    },
    {
     "name": "stderr",
     "output_type": "stream",
     "text": [
      "----C: 100%|██████████| 90/90 [01:57<00:00,  1.30s/it]\n",
      "----S: 100%|██████████| 89/89 [01:52<00:00,  1.27s/it]\n"
     ]
    },
    {
     "name": "stdout",
     "output_type": "stream",
     "text": [
      "----Run: __short_term_anelasticity__: Done.\n"
     ]
    },
    {
     "name": "stderr",
     "output_type": "stream",
     "text": [
      "----C: 100%|██████████| 90/90 [01:57<00:00,  1.31s/it]\n",
      "----S: 100%|██████████| 89/89 [01:52<00:00,  1.27s/it]\n"
     ]
    },
    {
     "name": "stdout",
     "output_type": "stream",
     "text": [
      "----Run: long_term_anelasticity__short_term_anelasticity__: Done.\n",
      "Description: PREM___Burgers_asthenosphere__elastic_lithosphere___Benjamin_Q_PREM/asymptotic_mu_ratio__0.2__0.2__0.2__0.2__1.0:\n"
     ]
    },
    {
     "name": "stderr",
     "output_type": "stream",
     "text": [
      "----C: 100%|██████████| 90/90 [01:58<00:00,  1.32s/it]\n",
      "----S: 100%|██████████| 89/89 [01:57<00:00,  1.32s/it]\n"
     ]
    },
    {
     "name": "stdout",
     "output_type": "stream",
     "text": [
      "----Run: long_term_anelasticity__short_term_anelasticity__bounded_attenuation_functions: Done.\n"
     ]
    },
    {
     "name": "stderr",
     "output_type": "stream",
     "text": [
      "----C: 100%|██████████| 90/90 [01:58<00:00,  1.31s/it]\n",
      "----S: 100%|██████████| 89/89 [01:52<00:00,  1.26s/it]\n"
     ]
    },
    {
     "name": "stdout",
     "output_type": "stream",
     "text": [
      "----Run: __short_term_anelasticity__bounded_attenuation_functions: Done.\n"
     ]
    },
    {
     "name": "stderr",
     "output_type": "stream",
     "text": [
      "----C: 100%|██████████| 90/90 [01:58<00:00,  1.32s/it]\n",
      "----S: 100%|██████████| 89/89 [01:56<00:00,  1.31s/it]\n"
     ]
    },
    {
     "name": "stdout",
     "output_type": "stream",
     "text": [
      "----Run: long_term_anelasticity____: Done.\n"
     ]
    },
    {
     "name": "stderr",
     "output_type": "stream",
     "text": [
      "----C: 100%|██████████| 90/90 [01:56<00:00,  1.29s/it]\n",
      "----S: 100%|██████████| 89/89 [01:54<00:00,  1.29s/it]\n"
     ]
    },
    {
     "name": "stdout",
     "output_type": "stream",
     "text": [
      "----Run: __short_term_anelasticity__: Done.\n"
     ]
    },
    {
     "name": "stderr",
     "output_type": "stream",
     "text": [
      "----C: 100%|██████████| 90/90 [02:00<00:00,  1.34s/it]\n",
      "----S: 100%|██████████| 89/89 [01:53<00:00,  1.27s/it]\n"
     ]
    },
    {
     "name": "stdout",
     "output_type": "stream",
     "text": [
      "----Run: long_term_anelasticity__short_term_anelasticity__: Done.\n",
      "Description: PREM___uniform___uniform/asymptotic_mu_ratio__0.2:\n"
     ]
    },
    {
     "name": "stderr",
     "output_type": "stream",
     "text": [
      "----C: 100%|██████████| 90/90 [01:58<00:00,  1.32s/it]\n",
      "----S:  93%|█████████▎| 83/89 [01:41<00:07,  1.23s/it]\n"
     ]
    },
    {
     "ename": "KeyboardInterrupt",
     "evalue": "",
     "output_type": "error",
     "traceback": [
      "\u001b[0;31m---------------------------------------------------------------------------\u001b[0m",
      "\u001b[0;31mKeyboardInterrupt\u001b[0m                         Traceback (most recent call last)",
      "Cell \u001b[0;32mIn[1], line 3\u001b[0m\n\u001b[1;32m      1\u001b[0m \u001b[38;5;28;01mfrom\u001b[39;00m \u001b[38;5;21;01msrc\u001b[39;00m \u001b[38;5;28;01mimport\u001b[39;00m compute_anelastic_induced_harmonic_load_per_description_per_options\n\u001b[0;32m----> 3\u001b[0m \u001b[43mcompute_anelastic_induced_harmonic_load_per_description_per_options\u001b[49m\u001b[43m(\u001b[49m\n\u001b[1;32m      4\u001b[0m \u001b[43m    \u001b[49m\u001b[43manelasticity_description_ids\u001b[49m\u001b[38;5;241;43m=\u001b[39;49m\u001b[43m[\u001b[49m\n\u001b[1;32m      5\u001b[0m \u001b[43m        \u001b[49m\u001b[38;5;124;43m\"\u001b[39;49m\u001b[38;5;124;43mPREM___Peltier_upper_mantle__elastic_lithosphere___Benjamin_Q_PREM/asymptotic_mu_ratio__0.2__0.2__0.2__0.2__1.0\u001b[39;49m\u001b[38;5;124;43m\"\u001b[39;49m\u001b[43m,\u001b[49m\n\u001b[1;32m      6\u001b[0m \u001b[43m        \u001b[49m\u001b[38;5;124;43m\"\u001b[39;49m\u001b[38;5;124;43mPREM___Burgers_asthenosphere__elastic_lithosphere___Benjamin_Q_PREM/asymptotic_mu_ratio__0.2__0.2__0.2__0.2__1.0\u001b[39;49m\u001b[38;5;124;43m\"\u001b[39;49m\u001b[43m,\u001b[49m\n\u001b[1;32m      7\u001b[0m \u001b[43m        \u001b[49m\u001b[38;5;124;43m\"\u001b[39;49m\u001b[38;5;124;43mPREM___uniform___uniform/asymptotic_mu_ratio__0.2\u001b[39;49m\u001b[38;5;124;43m\"\u001b[39;49m\u001b[43m,\u001b[49m\n\u001b[1;32m      8\u001b[0m \u001b[43m    \u001b[49m\u001b[43m]\u001b[49m\u001b[43m,\u001b[49m\n\u001b[1;32m      9\u001b[0m \u001b[43m)\u001b[49m\n",
      "File \u001b[0;32m~/Code/SNREI/src/scripts/computing/load_signal/harmonic.py:37\u001b[0m, in \u001b[0;36mcompute_anelastic_induced_harmonic_load_per_description_per_options\u001b[0;34m(anelasticity_description_ids, load_signal_hyper_parameters, options)\u001b[0m\n\u001b[1;32m     35\u001b[0m load_signal_hyper_parameters\u001b[38;5;241m.\u001b[39mrun_hyper_parameters \u001b[38;5;241m=\u001b[39m run_hyper_parameters\n\u001b[1;32m     36\u001b[0m \u001b[38;5;66;03m# Computes anelastic induced harmonic load signal.\u001b[39;00m\n\u001b[0;32m---> 37\u001b[0m \u001b[43manelastic_harmonic_induced_load_signal\u001b[49m\u001b[43m(\u001b[49m\n\u001b[1;32m     38\u001b[0m \u001b[43m    \u001b[49m\u001b[43mharmonic_weights\u001b[49m\u001b[38;5;241;43m=\u001b[39;49m\u001b[43mharmonic_weights\u001b[49m\u001b[43m,\u001b[49m\n\u001b[1;32m     39\u001b[0m \u001b[43m    \u001b[49m\u001b[43manelasticity_description_id\u001b[49m\u001b[38;5;241;43m=\u001b[39;49m\u001b[43manelasticity_description_id\u001b[49m\u001b[43m,\u001b[49m\n\u001b[1;32m     40\u001b[0m \u001b[43m    \u001b[49m\u001b[43mload_signal_hyper_parameters\u001b[49m\u001b[38;5;241;43m=\u001b[39;49m\u001b[43mload_signal_hyper_parameters\u001b[49m\u001b[43m,\u001b[49m\n\u001b[1;32m     41\u001b[0m \u001b[43m    \u001b[49m\u001b[43msignal_dates\u001b[49m\u001b[38;5;241;43m=\u001b[39;49m\u001b[43msignal_dates\u001b[49m\u001b[43m,\u001b[49m\n\u001b[1;32m     42\u001b[0m \u001b[43m    \u001b[49m\u001b[43mfrequencies\u001b[49m\u001b[38;5;241;43m=\u001b[39;49m\u001b[43mfrequencies\u001b[49m\u001b[43m,\u001b[49m\n\u001b[1;32m     43\u001b[0m \u001b[43m    \u001b[49m\u001b[43mfrequencial_elastic_normalized_load_signal\u001b[49m\u001b[38;5;241;43m=\u001b[39;49m\u001b[43mfrequencial_elastic_normalized_load_signal\u001b[49m\u001b[43m,\u001b[49m\n\u001b[1;32m     44\u001b[0m \u001b[43m    \u001b[49m\u001b[43melastic_load_signal_trend\u001b[49m\u001b[38;5;241;43m=\u001b[39;49m\u001b[43melastic_load_signal_trend\u001b[49m\u001b[43m,\u001b[49m\n\u001b[1;32m     45\u001b[0m \u001b[43m\u001b[49m\u001b[43m)\u001b[49m\n\u001b[1;32m     46\u001b[0m \u001b[38;5;66;03m# Load bar.\u001b[39;00m\n\u001b[1;32m     47\u001b[0m \u001b[38;5;28mprint\u001b[39m(\u001b[38;5;124m\"\u001b[39m\u001b[38;5;124m----Run: \u001b[39m\u001b[38;5;124m\"\u001b[39m \u001b[38;5;241m+\u001b[39m run_hyper_parameters\u001b[38;5;241m.\u001b[39mrun_id() \u001b[38;5;241m+\u001b[39m \u001b[38;5;124m\"\u001b[39m\u001b[38;5;124m: Done.\u001b[39m\u001b[38;5;124m\"\u001b[39m)\n",
      "File \u001b[0;32m~/Code/SNREI/src/utils/load_signal/harmonic.py:93\u001b[0m, in \u001b[0;36manelastic_harmonic_induced_load_signal\u001b[0;34m(harmonic_weights, anelasticity_description_id, load_signal_hyper_parameters, signal_dates, frequencies, frequencial_elastic_normalized_load_signal, elastic_load_signal_trend)\u001b[0m\n\u001b[1;32m     87\u001b[0m                 \u001b[38;5;66;03m# Saves results in (.JSON) files.\u001b[39;00m\n\u001b[1;32m     88\u001b[0m                 save_base_model(\n\u001b[1;32m     89\u001b[0m                     obj\u001b[38;5;241m=\u001b[39m{\u001b[38;5;124m\"\u001b[39m\u001b[38;5;124mreal\u001b[39m\u001b[38;5;124m\"\u001b[39m: complex_anelastic_result\u001b[38;5;241m.\u001b[39mreal, \u001b[38;5;124m\"\u001b[39m\u001b[38;5;124mimag\u001b[39m\u001b[38;5;124m\"\u001b[39m: complex_anelastic_result\u001b[38;5;241m.\u001b[39mimag},\n\u001b[1;32m     90\u001b[0m                     name\u001b[38;5;241m=\u001b[39mname,\n\u001b[1;32m     91\u001b[0m                     path\u001b[38;5;241m=\u001b[39manelastic_subpath,\n\u001b[1;32m     92\u001b[0m                 )\n\u001b[0;32m---> 93\u001b[0m                 \u001b[43msave_base_model\u001b[49m\u001b[43m(\u001b[49m\n\u001b[1;32m     94\u001b[0m \u001b[43m                    \u001b[49m\u001b[43mobj\u001b[49m\u001b[38;5;241;43m=\u001b[39;49m\u001b[43m{\u001b[49m\u001b[38;5;124;43m\"\u001b[39;49m\u001b[38;5;124;43mreal\u001b[39;49m\u001b[38;5;124;43m\"\u001b[39;49m\u001b[43m:\u001b[49m\u001b[43m \u001b[49m\u001b[43mcomplex_elastic_result\u001b[49m\u001b[38;5;241;43m.\u001b[39;49m\u001b[43mreal\u001b[49m\u001b[43m,\u001b[49m\u001b[43m \u001b[49m\u001b[38;5;124;43m\"\u001b[39;49m\u001b[38;5;124;43mimag\u001b[39;49m\u001b[38;5;124;43m\"\u001b[39;49m\u001b[43m:\u001b[49m\u001b[43m \u001b[49m\u001b[43mcomplex_elastic_result\u001b[49m\u001b[38;5;241;43m.\u001b[39;49m\u001b[43mimag\u001b[49m\u001b[43m}\u001b[49m\u001b[43m,\u001b[49m\n\u001b[1;32m     95\u001b[0m \u001b[43m                    \u001b[49m\u001b[43mname\u001b[49m\u001b[38;5;241;43m=\u001b[39;49m\u001b[43mname\u001b[49m\u001b[43m,\u001b[49m\n\u001b[1;32m     96\u001b[0m \u001b[43m                    \u001b[49m\u001b[43mpath\u001b[49m\u001b[38;5;241;43m=\u001b[39;49m\u001b[43melastic_subpath\u001b[49m\u001b[43m,\u001b[49m\n\u001b[1;32m     97\u001b[0m \u001b[43m                \u001b[49m\u001b[43m)\u001b[49m\n\u001b[1;32m     99\u001b[0m     \u001b[38;5;28;01mreturn\u001b[39;00m anelastic_subpath\n\u001b[1;32m    100\u001b[0m \u001b[38;5;28;01melse\u001b[39;00m:  \u001b[38;5;66;03m# TODO: manage GRACE's full data.\u001b[39;00m\n",
      "File \u001b[0;32m~/Code/SNREI/src/utils/database.py:48\u001b[0m, in \u001b[0;36msave_base_model\u001b[0;34m(obj, name, path)\u001b[0m\n\u001b[1;32m     46\u001b[0m \u001b[38;5;66;03m# Saves the object.\u001b[39;00m\n\u001b[1;32m     47\u001b[0m \u001b[38;5;28;01mwith\u001b[39;00m \u001b[38;5;28mopen\u001b[39m(path\u001b[38;5;241m.\u001b[39mjoinpath(name \u001b[38;5;241m+\u001b[39m \u001b[38;5;124m\"\u001b[39m\u001b[38;5;124m.json\u001b[39m\u001b[38;5;124m\"\u001b[39m), \u001b[38;5;124m\"\u001b[39m\u001b[38;5;124mw\u001b[39m\u001b[38;5;124m\"\u001b[39m) \u001b[38;5;28;01mas\u001b[39;00m file:\n\u001b[0;32m---> 48\u001b[0m     \u001b[43mdump\u001b[49m\u001b[43m(\u001b[49m\u001b[43mobj\u001b[49m\u001b[43m,\u001b[49m\u001b[43m \u001b[49m\u001b[43mfp\u001b[49m\u001b[38;5;241;43m=\u001b[39;49m\u001b[43mfile\u001b[49m\u001b[43m,\u001b[49m\u001b[43m \u001b[49m\u001b[38;5;28;43mcls\u001b[39;49m\u001b[38;5;241;43m=\u001b[39;49m\u001b[43mJSONSerialize\u001b[49m\u001b[43m)\u001b[49m\n",
      "File \u001b[0;32m/usr/lib/python3.10/json/__init__.py:179\u001b[0m, in \u001b[0;36mdump\u001b[0;34m(obj, fp, skipkeys, ensure_ascii, check_circular, allow_nan, cls, indent, separators, default, sort_keys, **kw)\u001b[0m\n\u001b[1;32m    173\u001b[0m     iterable \u001b[38;5;241m=\u001b[39m \u001b[38;5;28mcls\u001b[39m(skipkeys\u001b[38;5;241m=\u001b[39mskipkeys, ensure_ascii\u001b[38;5;241m=\u001b[39mensure_ascii,\n\u001b[1;32m    174\u001b[0m         check_circular\u001b[38;5;241m=\u001b[39mcheck_circular, allow_nan\u001b[38;5;241m=\u001b[39mallow_nan, indent\u001b[38;5;241m=\u001b[39mindent,\n\u001b[1;32m    175\u001b[0m         separators\u001b[38;5;241m=\u001b[39mseparators,\n\u001b[1;32m    176\u001b[0m         default\u001b[38;5;241m=\u001b[39mdefault, sort_keys\u001b[38;5;241m=\u001b[39msort_keys, \u001b[38;5;241m*\u001b[39m\u001b[38;5;241m*\u001b[39mkw)\u001b[38;5;241m.\u001b[39miterencode(obj)\n\u001b[1;32m    177\u001b[0m \u001b[38;5;66;03m# could accelerate with writelines in some versions of Python, at\u001b[39;00m\n\u001b[1;32m    178\u001b[0m \u001b[38;5;66;03m# a debuggability cost\u001b[39;00m\n\u001b[0;32m--> 179\u001b[0m \u001b[38;5;28;01mfor\u001b[39;00m chunk \u001b[38;5;129;01min\u001b[39;00m iterable:\n\u001b[1;32m    180\u001b[0m     fp\u001b[38;5;241m.\u001b[39mwrite(chunk)\n",
      "File \u001b[0;32m/usr/lib/python3.10/json/encoder.py:431\u001b[0m, in \u001b[0;36m_make_iterencode.<locals>._iterencode\u001b[0;34m(o, _current_indent_level)\u001b[0m\n\u001b[1;32m    429\u001b[0m     \u001b[38;5;28;01myield from\u001b[39;00m _iterencode_list(o, _current_indent_level)\n\u001b[1;32m    430\u001b[0m \u001b[38;5;28;01melif\u001b[39;00m \u001b[38;5;28misinstance\u001b[39m(o, \u001b[38;5;28mdict\u001b[39m):\n\u001b[0;32m--> 431\u001b[0m     \u001b[38;5;28;01myield from\u001b[39;00m _iterencode_dict(o, _current_indent_level)\n\u001b[1;32m    432\u001b[0m \u001b[38;5;28;01melse\u001b[39;00m:\n\u001b[1;32m    433\u001b[0m     \u001b[38;5;28;01mif\u001b[39;00m markers \u001b[38;5;129;01mis\u001b[39;00m \u001b[38;5;129;01mnot\u001b[39;00m \u001b[38;5;28;01mNone\u001b[39;00m:\n",
      "File \u001b[0;32m/usr/lib/python3.10/json/encoder.py:405\u001b[0m, in \u001b[0;36m_make_iterencode.<locals>._iterencode_dict\u001b[0;34m(dct, _current_indent_level)\u001b[0m\n\u001b[1;32m    403\u001b[0m         \u001b[38;5;28;01melse\u001b[39;00m:\n\u001b[1;32m    404\u001b[0m             chunks \u001b[38;5;241m=\u001b[39m _iterencode(value, _current_indent_level)\n\u001b[0;32m--> 405\u001b[0m         \u001b[38;5;28;01myield from\u001b[39;00m chunks\n\u001b[1;32m    406\u001b[0m \u001b[38;5;28;01mif\u001b[39;00m newline_indent \u001b[38;5;129;01mis\u001b[39;00m \u001b[38;5;129;01mnot\u001b[39;00m \u001b[38;5;28;01mNone\u001b[39;00m:\n\u001b[1;32m    407\u001b[0m     _current_indent_level \u001b[38;5;241m-\u001b[39m\u001b[38;5;241m=\u001b[39m \u001b[38;5;241m1\u001b[39m\n",
      "File \u001b[0;32m/usr/lib/python3.10/json/encoder.py:439\u001b[0m, in \u001b[0;36m_make_iterencode.<locals>._iterencode\u001b[0;34m(o, _current_indent_level)\u001b[0m\n\u001b[1;32m    437\u001b[0m     markers[markerid] \u001b[38;5;241m=\u001b[39m o\n\u001b[1;32m    438\u001b[0m o \u001b[38;5;241m=\u001b[39m _default(o)\n\u001b[0;32m--> 439\u001b[0m \u001b[38;5;28;01myield from\u001b[39;00m _iterencode(o, _current_indent_level)\n\u001b[1;32m    440\u001b[0m \u001b[38;5;28;01mif\u001b[39;00m markers \u001b[38;5;129;01mis\u001b[39;00m \u001b[38;5;129;01mnot\u001b[39;00m \u001b[38;5;28;01mNone\u001b[39;00m:\n\u001b[1;32m    441\u001b[0m     \u001b[38;5;28;01mdel\u001b[39;00m markers[markerid]\n",
      "File \u001b[0;32m/usr/lib/python3.10/json/encoder.py:429\u001b[0m, in \u001b[0;36m_make_iterencode.<locals>._iterencode\u001b[0;34m(o, _current_indent_level)\u001b[0m\n\u001b[1;32m    427\u001b[0m     \u001b[38;5;28;01myield\u001b[39;00m _floatstr(o)\n\u001b[1;32m    428\u001b[0m \u001b[38;5;28;01melif\u001b[39;00m \u001b[38;5;28misinstance\u001b[39m(o, (\u001b[38;5;28mlist\u001b[39m, \u001b[38;5;28mtuple\u001b[39m)):\n\u001b[0;32m--> 429\u001b[0m     \u001b[38;5;28;01myield from\u001b[39;00m _iterencode_list(o, _current_indent_level)\n\u001b[1;32m    430\u001b[0m \u001b[38;5;28;01melif\u001b[39;00m \u001b[38;5;28misinstance\u001b[39m(o, \u001b[38;5;28mdict\u001b[39m):\n\u001b[1;32m    431\u001b[0m     \u001b[38;5;28;01myield from\u001b[39;00m _iterencode_dict(o, _current_indent_level)\n",
      "File \u001b[0;32m/usr/lib/python3.10/json/encoder.py:316\u001b[0m, in \u001b[0;36m_make_iterencode.<locals>._iterencode_list\u001b[0;34m(lst, _current_indent_level)\u001b[0m\n\u001b[1;32m    313\u001b[0m     \u001b[38;5;28;01myield\u001b[39;00m buf \u001b[38;5;241m+\u001b[39m _intstr(value)\n\u001b[1;32m    314\u001b[0m \u001b[38;5;28;01melif\u001b[39;00m \u001b[38;5;28misinstance\u001b[39m(value, \u001b[38;5;28mfloat\u001b[39m):\n\u001b[1;32m    315\u001b[0m     \u001b[38;5;66;03m# see comment above for int\u001b[39;00m\n\u001b[0;32m--> 316\u001b[0m     \u001b[38;5;28;01myield\u001b[39;00m buf \u001b[38;5;241m+\u001b[39m _floatstr(value)\n\u001b[1;32m    317\u001b[0m \u001b[38;5;28;01melse\u001b[39;00m:\n\u001b[1;32m    318\u001b[0m     \u001b[38;5;28;01myield\u001b[39;00m buf\n",
      "\u001b[0;31mKeyboardInterrupt\u001b[0m: "
     ]
    }
   ],
   "source": [
    "from src import compute_anelastic_induced_harmonic_load_per_description_per_options\n",
    "\n",
    "compute_anelastic_induced_harmonic_load_per_description_per_options(\n",
    "    anelasticity_description_ids=[\n",
    "        \"PREM___Peltier_upper_mantle__elastic_lithosphere___Benjamin_Q_PREM/asymptotic_mu_ratio__0.2__0.2__0.2__0.2__1.0\",\n",
    "        \"PREM___Burgers_asthenosphere__elastic_lithosphere___Benjamin_Q_PREM/asymptotic_mu_ratio__0.2__0.2__0.2__0.2__1.0\",\n",
    "        \"PREM___uniform___uniform/asymptotic_mu_ratio__0.2\",\n",
    "    ],\n",
    ")"
   ]
  }
 ],
 "metadata": {
  "kernelspec": {
   "display_name": "Python 3",
   "language": "python",
   "name": "python3"
  },
  "language_info": {
   "codemirror_mode": {
    "name": "ipython",
    "version": 3
   },
   "file_extension": ".py",
   "mimetype": "text/x-python",
   "name": "python",
   "nbconvert_exporter": "python",
   "pygments_lexer": "ipython3",
   "version": "3.10.12"
  }
 },
 "nbformat": 4,
 "nbformat_minor": 2
}
