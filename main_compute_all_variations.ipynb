{
 "cells": [
  {
   "cell_type": "code",
   "execution_count": null,
   "metadata": {},
   "outputs": [],
   "source": [
    "from src import Love_numbers_for_options_for_models_for_parameters, ModelPart\n",
    "\n",
    "anelasticity_description_ids, model_filenames = Love_numbers_for_options_for_models_for_parameters(\n",
    "    elasticity_model_names=[\"PREM\"],\n",
    "    long_term_anelasticity_model_names=[\"Caron\", \"Lambeck_2017\", \"Lau_2016\", \"VM5a\", \"VM7\"],\n",
    "    short_term_anelasticity_model_names=[\n",
    "        \"Benjamin_Q_PAR3P\",\n",
    "        \"Benjamin_Q_PREM\",\n",
    "        \"Benjamin_Q_QL6\",\n",
    "        \"Benjamin_Q_QM1\",\n",
    "        \"Benjamin_Q_Resovsky\",\n",
    "    ],\n",
    "    parameters={ModelPart.long_term_anelasticity: {\"eta_m\": {\"D''\": [[1e17]], \"ASTHENOSPHERE\": [[3e19]]}}},\n",
    ")"
   ]
  },
  {
   "cell_type": "code",
   "execution_count": null,
   "metadata": {},
   "outputs": [],
   "source": [
    "from src import load_signal_for_options_for_models_for_parameters_for_elastic_load_signals\n",
    "from pathlib import Path\n",
    "\n",
    "load_result_folders: list[Path] = load_signal_for_options_for_models_for_parameters_for_elastic_load_signals(\n",
    "    anelasticity_description_ids=anelasticity_description_ids,\n",
    "    model_filenames=model_filenames,\n",
    "    load_signal_hyper_parameter_variations={\n",
    "        \"case\": [\"mean\", \"lower\", \"upper\", \"best\", \"worst\"],\n",
    "        \"little_isostatic_adjustment\": [False, True],\n",
    "        \"opposite_load_on_continents\": [False, True],\n",
    "    },\n",
    ")"
   ]
  }
 ],
 "metadata": {
  "kernelspec": {
   "display_name": "Python 3",
   "language": "python",
   "name": "python3"
  },
  "language_info": {
   "codemirror_mode": {
    "name": "ipython",
    "version": 3
   },
   "file_extension": ".py",
   "mimetype": "text/x-python",
   "name": "python",
   "nbconvert_exporter": "python",
   "pygments_lexer": "ipython3",
   "version": "3.10.12"
  }
 },
 "nbformat": 4,
 "nbformat_minor": 2
}
