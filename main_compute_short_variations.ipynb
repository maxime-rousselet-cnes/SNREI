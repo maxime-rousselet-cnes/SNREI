{
 "cells": [
  {
   "cell_type": "code",
   "execution_count": 1,
   "metadata": {},
   "outputs": [],
   "source": [
    "from src import clear_subs\n",
    "\n",
    "clear_subs()"
   ]
  },
  {
   "cell_type": "code",
   "execution_count": 2,
   "metadata": {},
   "outputs": [
    {
     "name": "stdout",
     "output_type": "stream",
     "text": [
      "Description: PREM____VM7____eta_m__ASTHENOSPHERE__4.5e+20____Benjamin_Q_Resovsky:\n",
      "----Run: long_term_anelasticity__short_term_anelasticity__bounded_attenuation_functions: Done.\n",
      "----Run: __short_term_anelasticity__bounded_attenuation_functions: Done.\n"
     ]
    }
   ],
   "source": [
    "from src import Love_numbers_for_options_for_models_for_parameters, ModelPart\n",
    "\n",
    "anelasticity_description_ids, model_filenames = Love_numbers_for_options_for_models_for_parameters(\n",
    "    elasticity_model_names=[\"PREM\"],\n",
    "    long_term_anelasticity_model_names=[\"VM7\"],\n",
    "    short_term_anelasticity_model_names=[\n",
    "        \"Benjamin_Q_Resovsky\",\n",
    "    ],\n",
    "    parameters={ModelPart.long_term_anelasticity: {\"eta_m\": {\"ASTHENOSPHERE\": [[3e19]]}}},\n",
    ")"
   ]
  },
  {
   "cell_type": "code",
   "execution_count": null,
   "metadata": {},
   "outputs": [],
   "source": [
    "from src import load_signal_for_options_for_models_for_parameters_for_elastic_load_signals\n",
    "from pathlib import Path\n",
    "\n",
    "load_result_folders: list[Path]\n",
    "means_per_path: dict[Path, dict[str, float]]\n",
    "load_result_folders, means_per_path = load_signal_for_options_for_models_for_parameters_for_elastic_load_signals(\n",
    "    anelasticity_description_ids=anelasticity_description_ids,\n",
    "    model_filenames=model_filenames,\n",
    "    load_signal_hyper_parameter_variations={\n",
    "        \"case\": [\"mean\", \"worst\"],\n",
    "        \"little_isostatic_adjustment\": [False, True],\n",
    "        \"opposite_load_on_continents\": [False, True],\n",
    "    },\n",
    ")"
   ]
  }
 ],
 "metadata": {
  "kernelspec": {
   "display_name": "Python 3",
   "language": "python",
   "name": "python3"
  },
  "language_info": {
   "codemirror_mode": {
    "name": "ipython",
    "version": 3
   },
   "file_extension": ".py",
   "mimetype": "text/x-python",
   "name": "python",
   "nbconvert_exporter": "python",
   "pygments_lexer": "ipython3",
   "version": "3.10.12"
  }
 },
 "nbformat": 4,
 "nbformat_minor": 2
}
