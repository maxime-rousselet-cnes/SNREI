{
 "cells": [
  {
   "cell_type": "code",
   "execution_count": 1,
   "metadata": {},
   "outputs": [
    {
     "name": "stdout",
     "output_type": "stream",
     "text": [
      "use_long_term_anelasticity=True use_short_term_anelasticity=True use_bounded_attenuation_functions=True\n",
      "----period (y): 1.0\n",
      "--------mu_0: 65600179334.55867\n",
      "--------mu/mu_0: (0.5968284393415026+0.20576150945732632j)\n",
      "----period (y): 3.0\n",
      "--------mu_0: 65600179334.55867\n",
      "--------mu/mu_0: (0.412081248735102+0.22951322838047494j)\n",
      "----period (y): 10.0\n",
      "--------mu_0: 65600179334.55867\n",
      "--------mu/mu_0: (0.23222238032787879+0.16108454697823563j)\n",
      "----period (y): 30.0\n",
      "--------mu_0: 65600179334.55867\n",
      "--------mu/mu_0: (0.15214018556064257+0.09026170245975396j)\n",
      "----period (y): 100.0\n",
      "--------mu_0: 65600179334.55867\n",
      "--------mu/mu_0: (0.12317617447098853+0.04662579123306922j)\n",
      "----period (y): 300.0\n",
      "--------mu_0: 65600179334.55867\n",
      "--------mu/mu_0: (0.10433075234849119+0.05338834103319389j)\n",
      "----period (y): 1000.0\n",
      "--------mu_0: 65600179334.55867\n",
      "--------mu/mu_0: (0.041793761986109054+0.06090355932950369j)\n",
      "use_long_term_anelasticity=False use_short_term_anelasticity=True use_bounded_attenuation_functions=True\n",
      "----period (y): 1.0\n",
      "--------mu_0: 65600179334.55867\n",
      "--------mu/mu_0: (0.6283036708474412+0.16781077500984076j)\n",
      "----period (y): 3.0\n",
      "--------mu_0: 65600179334.55867\n",
      "--------mu/mu_0: (0.49147634414816455+0.1965131812308795j)\n",
      "----period (y): 10.0\n",
      "--------mu_0: 65600179334.55867\n",
      "--------mu/mu_0: (0.3123379280856488+0.18643853145669748j)\n",
      "----period (y): 30.0\n",
      "--------mu_0: 65600179334.55867\n",
      "--------mu/mu_0: (0.1901189300862914+0.10970297017839299j)\n",
      "----period (y): 100.0\n",
      "--------mu_0: 65600179334.55867\n",
      "--------mu/mu_0: (0.1543877642615941+0.03789083990568987j)\n",
      "----period (y): 300.0\n",
      "--------mu_0: 65600179334.55867\n",
      "--------mu/mu_0: (0.15049752439237085+0.012817771640956942j)\n",
      "----period (y): 1000.0\n",
      "--------mu_0: 65600179334.55867\n",
      "--------mu/mu_0: (0.15004488253774623+0.003851901233320274j)\n",
      "use_long_term_anelasticity=True use_short_term_anelasticity=False use_bounded_attenuation_functions=False\n",
      "----period (y): 1.0\n",
      "--------mu_0: 65600179334.55867\n",
      "--------mu/mu_0: (0.9746300816349165+0.11509696366530402j)\n",
      "----period (y): 3.0\n",
      "--------mu_0: 65600179334.55867\n",
      "--------mu/mu_0: (0.8352742283807139+0.2511796937626659j)\n",
      "----period (y): 10.0\n",
      "--------mu_0: 65600179334.55867\n",
      "--------mu/mu_0: (0.5600851900408226+0.22003141258723086j)\n",
      "----period (y): 30.0\n",
      "--------mu_0: 65600179334.55867\n",
      "--------mu/mu_0: (0.4743304922115594+0.15039409754806501j)\n",
      "----period (y): 100.0\n",
      "--------mu_0: 65600179334.55867\n",
      "--------mu/mu_0: (0.37022725481759344+0.22092892061251912j)\n",
      "----period (y): 300.0\n",
      "--------mu_0: 65600179334.55867\n",
      "--------mu/mu_0: (0.1328048116639919+0.22089784480864394j)\n",
      "----period (y): 1000.0\n",
      "--------mu_0: 65600179334.55867\n",
      "--------mu/mu_0: (0.0160225708662674+0.08806188013389295j)\n",
      "use_long_term_anelasticity=False use_short_term_anelasticity=False use_bounded_attenuation_functions=False\n",
      "----period (y): 1.0\n",
      "--------mu_0: 65600179334.55867\n",
      "--------mu/mu_0: (0.9999999999999997+0j)\n",
      "----period (y): 3.0\n",
      "--------mu_0: 65600179334.55867\n",
      "--------mu/mu_0: (0.9999999999999997+0j)\n",
      "----period (y): 10.0\n",
      "--------mu_0: 65600179334.55867\n",
      "--------mu/mu_0: (0.9999999999999997+0j)\n",
      "----period (y): 30.0\n",
      "--------mu_0: 65600179334.55867\n",
      "--------mu/mu_0: (0.9999999999999997+0j)\n",
      "----period (y): 100.0\n",
      "--------mu_0: 65600179334.55867\n",
      "--------mu/mu_0: (0.9999999999999997+0j)\n",
      "----period (y): 300.0\n",
      "--------mu_0: 65600179334.55867\n",
      "--------mu/mu_0: (0.9999999999999997+0j)\n",
      "----period (y): 1000.0\n",
      "--------mu_0: 65600179334.55867\n",
      "--------mu/mu_0: (0.9999999999999997+0j)\n"
     ]
    },
    {
     "name": "stderr",
     "output_type": "stream",
     "text": [
      "/home/mrousselet/Code/SNREI/src/scripts/plot/mu/to_frequencies.py:117: UserWarning: Attempt to set non-positive xlim on a log-scaled axis will be ignored.\n",
      "  plt.clf()\n"
     ]
    },
    {
     "data": {
      "text/plain": [
       "'\\n    options=[\\n        RunHyperParameters(\\n            use_long_term_anelasticity=False, use_short_term_anelasticity=True, use_bounded_attenuation_functions=True\\n        )\\n    ],\\n)\\n'"
      ]
     },
     "execution_count": 1,
     "metadata": {},
     "output_type": "execute_result"
    },
    {
     "data": {
      "text/plain": [
       "<Figure size 1000x1000 with 0 Axes>"
      ]
     },
     "metadata": {},
     "output_type": "display_data"
    }
   ],
   "source": [
    "from src import plot_mu_profiles_for_options_to_periods, RunHyperParameters\n",
    "\n",
    "plot_mu_profiles_for_options_to_periods(\n",
    "    elasticity_model_name=\"PREM\",\n",
    "    long_term_anelasticity_model_name=\"Burgers_asthenosphere__elastic_lithosphere\",\n",
    "    short_term_anelasticity_model_name=\"Benjamin_Q_PREM\",\n",
    ")\n",
    "\"\"\"\n",
    "    options=[\n",
    "        RunHyperParameters(\n",
    "            use_long_term_anelasticity=False, use_short_term_anelasticity=True, use_bounded_attenuation_functions=True\n",
    "        )\n",
    "    ],\n",
    ")\n",
    "\"\"\""
   ]
  }
 ],
 "metadata": {
  "kernelspec": {
   "display_name": "Python 3",
   "language": "python",
   "name": "python3"
  },
  "language_info": {
   "codemirror_mode": {
    "name": "ipython",
    "version": 3
   },
   "file_extension": ".py",
   "mimetype": "text/x-python",
   "name": "python",
   "nbconvert_exporter": "python",
   "pygments_lexer": "ipython3",
   "version": "3.10.12"
  }
 },
 "nbformat": 4,
 "nbformat_minor": 2
}
