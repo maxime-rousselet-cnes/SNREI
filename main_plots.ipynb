{
 "cells": [
  {
   "cell_type": "code",
   "execution_count": 1,
   "metadata": {},
   "outputs": [],
   "source": [
    "from src import plot_temporal_load_signal\n",
    "\n",
    "plot_temporal_load_signal(names=[\"mean\", \"upper\", \"lower\", \"best\", \"worst\"], figsize=(5, 5))"
   ]
  },
  {
   "cell_type": "code",
   "execution_count": 2,
   "metadata": {},
   "outputs": [],
   "source": [
    "from src import plot_mu_profiles_for_options_for_periods_to_depth_per_description\n",
    "\n",
    "plot_mu_profiles_for_options_for_periods_to_depth_per_description(\n",
    "    anelasticity_description_ids=[\n",
    "        \"PREM___Peltier_upper_mantle__elastic_lithosphere___Benjamin_Q_PREM/asymptotic_mu_ratio__0.2__0.2__0.2__0.2__1.0\",\n",
    "        \"PREM___Burgers_asthenosphere__elastic_lithosphere___Benjamin_Q_PREM/asymptotic_mu_ratio__0.2__0.2__0.2__0.2__1.0\",\n",
    "        \"PREM___uniform___uniform/asymptotic_mu_ratio__0.2\",\n",
    "    ],\n",
    "    period_values=[100, 1000],\n",
    "    figsize=(6, 6),\n",
    "    legend=False\n",
    ")"
   ]
  },
  {
   "cell_type": "code",
   "execution_count": 3,
   "metadata": {},
   "outputs": [
    {
     "name": "stdout",
     "output_type": "stream",
     "text": [
      "use_long_term_anelasticity=True use_short_term_anelasticity=True use_bounded_attenuation_functions=True\n",
      "----period (y): 1.0\n",
      "--------mu_0: 65600179334.55867\n",
      "--------mu/mu_0: (0.600771515683967+0.2066385785724088j)\n",
      "----period (y): 3.0\n",
      "--------mu_0: 65600179334.55867\n",
      "--------mu/mu_0: (0.41993351884966146+0.24681950355198498j)\n",
      "----period (y): 10.0\n",
      "--------mu_0: 65600179334.55867\n",
      "--------mu/mu_0: (0.20301527175787906+0.2041614292506205j)\n",
      "----period (y): 30.0\n",
      "--------mu_0: 65600179334.55867\n",
      "--------mu/mu_0: (0.09403902315584704+0.12481165497149647j)\n",
      "----period (y): 100.0\n",
      "--------mu_0: 65600179334.55867\n",
      "--------mu/mu_0: (0.0259428335943701+0.06849176861479923j)\n",
      "----period (y): 300.0\n",
      "--------mu_0: 65600179334.55867\n",
      "--------mu/mu_0: (0.003673489990625914+0.026907852842677684j)\n",
      "----period (y): 1000.0\n",
      "--------mu_0: 65600179334.55867\n",
      "--------mu/mu_0: (0.00034147049781286447+0.008258403638489287j)\n",
      "use_long_term_anelasticity=False use_short_term_anelasticity=True use_bounded_attenuation_functions=True\n",
      "----period (y): 1.0\n",
      "--------mu_0: 65600179334.55867\n",
      "--------mu/mu_0: (0.6284463221208575+0.16514945760308716j)\n",
      "----period (y): 3.0\n",
      "--------mu_0: 65600179334.55867\n",
      "--------mu/mu_0: (0.49273110194894393+0.1887087670122163j)\n",
      "----period (y): 10.0\n",
      "--------mu_0: 65600179334.55867\n",
      "--------mu/mu_0: (0.3234296665365622+0.16570778384328003j)\n",
      "----period (y): 30.0\n",
      "--------mu_0: 65600179334.55867\n",
      "--------mu/mu_0: (0.22601258740199365+0.08724805877112925j)\n",
      "----period (y): 100.0\n",
      "--------mu_0: 65600179334.55867\n",
      "--------mu/mu_0: (0.20267284309854755+0.028810023470273657j)\n",
      "----period (y): 300.0\n",
      "--------mu_0: 65600179334.55867\n",
      "--------mu/mu_0: (0.20030088680110122+0.009694864249424229j)\n",
      "----period (y): 1000.0\n",
      "--------mu_0: 65600179334.55867\n",
      "--------mu/mu_0: (0.20002712053617083+0.0029116361250358207j)\n",
      "use_long_term_anelasticity=True use_short_term_anelasticity=False use_bounded_attenuation_functions=False\n",
      "----period (y): 1.0\n",
      "--------mu_0: 65600179334.55867\n",
      "--------mu/mu_0: (0.9856150473457185+0.11907151544939401j)\n",
      "----period (y): 3.0\n",
      "--------mu_0: 65600179334.55867\n",
      "--------mu/mu_0: (0.8838965653903437+0.32034891459391174j)\n",
      "----period (y): 10.0\n",
      "--------mu_0: 65600179334.55867\n",
      "--------mu/mu_0: (0.4065883644618087+0.49119676947846475j)\n",
      "----period (y): 30.0\n",
      "--------mu_0: 65600179334.55867\n",
      "--------mu/mu_0: (0.07074432406659462+0.2563972790006852j)\n",
      "----period (y): 100.0\n",
      "--------mu_0: 65600179334.55867\n",
      "--------mu/mu_0: (0.006805082223309653+0.08221175754868426j)\n",
      "----period (y): 300.0\n",
      "--------mu_0: 65600179334.55867\n",
      "--------mu/mu_0: (0.0007607218244248786+0.027570693258072376j)\n",
      "----period (y): 1000.0\n",
      "--------mu_0: 65600179334.55867\n",
      "--------mu/mu_0: (6.851239237187946e-05+0.008276937744356916j)\n",
      "use_long_term_anelasticity=False use_short_term_anelasticity=False use_bounded_attenuation_functions=False\n",
      "----period (y): 1.0\n",
      "--------mu_0: 65600179334.55867\n",
      "--------mu/mu_0: (0.9999999999999997+0j)\n",
      "----period (y): 3.0\n",
      "--------mu_0: 65600179334.55867\n",
      "--------mu/mu_0: (0.9999999999999997+0j)\n",
      "----period (y): 10.0\n",
      "--------mu_0: 65600179334.55867\n",
      "--------mu/mu_0: (0.9999999999999997+0j)\n",
      "----period (y): 30.0\n",
      "--------mu_0: 65600179334.55867\n",
      "--------mu/mu_0: (0.9999999999999997+0j)\n",
      "----period (y): 100.0\n",
      "--------mu_0: 65600179334.55867\n",
      "--------mu/mu_0: (0.9999999999999997+0j)\n",
      "----period (y): 300.0\n",
      "--------mu_0: 65600179334.55867\n",
      "--------mu/mu_0: (0.9999999999999997+0j)\n",
      "----period (y): 1000.0\n",
      "--------mu_0: 65600179334.55867\n",
      "--------mu/mu_0: (0.9999999999999997+0j)\n"
     ]
    },
    {
     "name": "stderr",
     "output_type": "stream",
     "text": [
      "/home/mrousselet/Code/SNREI/src/scripts/plot/mu/to_frequencies.py:117: UserWarning: Attempt to set non-positive xlim on a log-scaled axis will be ignored.\n",
      "  plt.clf()\n"
     ]
    },
    {
     "name": "stdout",
     "output_type": "stream",
     "text": [
      "use_long_term_anelasticity=True use_short_term_anelasticity=True use_bounded_attenuation_functions=True\n",
      "----period (y): 1.0\n",
      "--------mu_0: 65600179334.55867\n",
      "--------mu/mu_0: (0.6282181120776541+0.16555302714133885j)\n",
      "----period (y): 3.0\n",
      "--------mu_0: 65600179334.55867\n",
      "--------mu/mu_0: (0.4921176587537776+0.18938994110210075j)\n",
      "----period (y): 10.0\n",
      "--------mu_0: 65600179334.55867\n",
      "--------mu/mu_0: (0.3222515930433837+0.16654935497873843j)\n",
      "----period (y): 30.0\n",
      "--------mu_0: 65600179334.55867\n",
      "--------mu/mu_0: (0.22470636583814108+0.08866648648270564j)\n",
      "----period (y): 100.0\n",
      "--------mu_0: 65600179334.55867\n",
      "--------mu/mu_0: (0.20129724050410697+0.03318567275577778j)\n",
      "----period (y): 300.0\n",
      "--------mu_0: 65600179334.55867\n",
      "--------mu/mu_0: (0.1981697511770353+0.022700594315186583j)\n",
      "----period (y): 1000.0\n",
      "--------mu_0: 65600179334.55867\n",
      "--------mu/mu_0: (0.18965913457354633+0.04443446241344783j)\n",
      "use_long_term_anelasticity=False use_short_term_anelasticity=True use_bounded_attenuation_functions=True\n",
      "----period (y): 1.0\n",
      "--------mu_0: 65600179334.55867\n",
      "--------mu/mu_0: (0.6284463221208577+0.16514945760308725j)\n",
      "----period (y): 3.0\n",
      "--------mu_0: 65600179334.55867\n",
      "--------mu/mu_0: (0.49273110194894415+0.18870876701221637j)\n",
      "----period (y): 10.0\n",
      "--------mu_0: 65600179334.55867\n",
      "--------mu/mu_0: (0.32342966653656235+0.1657077838432801j)\n",
      "----period (y): 30.0\n",
      "--------mu_0: 65600179334.55867\n",
      "--------mu/mu_0: (0.2260125874019938+0.08724805877112927j)\n",
      "----period (y): 100.0\n",
      "--------mu_0: 65600179334.55867\n",
      "--------mu/mu_0: (0.20267284309854766+0.028810023470273678j)\n",
      "----period (y): 300.0\n",
      "--------mu_0: 65600179334.55867\n",
      "--------mu/mu_0: (0.2003008868011013+0.00969486424942423j)\n",
      "----period (y): 1000.0\n",
      "--------mu_0: 65600179334.55867\n",
      "--------mu/mu_0: (0.2000271205361709+0.0029116361250358215j)\n",
      "use_long_term_anelasticity=True use_short_term_anelasticity=False use_bounded_attenuation_functions=False\n",
      "----period (y): 1.0\n",
      "--------mu_0: 65600179334.55867\n",
      "--------mu/mu_0: (0.9999987938114062+0.0010982655140273883j)\n",
      "----period (y): 3.0\n",
      "--------mu_0: 65600179334.55867\n",
      "--------mu/mu_0: (0.9999891444074037+0.0032947647492208793j)\n",
      "----period (y): 10.0\n",
      "--------mu_0: 65600179334.55867\n",
      "--------mu/mu_0: (0.9998793955422814+0.010981343828678053j)\n",
      "----period (y): 30.0\n",
      "--------mu_0: 65600179334.55867\n",
      "--------mu/mu_0: (0.9989156061423956+0.03291227654791134j)\n",
      "----period (y): 100.0\n",
      "--------mu_0: 65600179334.55867\n",
      "--------mu/mu_0: (0.9880818549883122+0.10851775352986398j)\n",
      "----period (y): 300.0\n",
      "--------mu_0: 65600179334.55867\n",
      "--------mu/mu_0: (0.9020735116079439+0.29721522717259413j)\n",
      "----period (y): 1000.0\n",
      "--------mu_0: 65600179334.55867\n",
      "--------mu/mu_0: (0.4532701071761879+0.49781152770569237j)\n",
      "use_long_term_anelasticity=False use_short_term_anelasticity=False use_bounded_attenuation_functions=False\n",
      "----period (y): 1.0\n",
      "--------mu_0: 65600179334.55867\n",
      "--------mu/mu_0: (1.0000000000000002+0j)\n",
      "----period (y): 3.0\n",
      "--------mu_0: 65600179334.55867\n",
      "--------mu/mu_0: (1.0000000000000002+0j)\n",
      "----period (y): 10.0\n",
      "--------mu_0: 65600179334.55867\n",
      "--------mu/mu_0: (1.0000000000000002+0j)\n",
      "----period (y): 30.0\n",
      "--------mu_0: 65600179334.55867\n",
      "--------mu/mu_0: (1.0000000000000002+0j)\n",
      "----period (y): 100.0\n",
      "--------mu_0: 65600179334.55867\n",
      "--------mu/mu_0: (1.0000000000000002+0j)\n",
      "----period (y): 300.0\n",
      "--------mu_0: 65600179334.55867\n",
      "--------mu/mu_0: (1.0000000000000002+0j)\n",
      "----period (y): 1000.0\n",
      "--------mu_0: 65600179334.55867\n",
      "--------mu/mu_0: (1.0000000000000002+0j)\n"
     ]
    },
    {
     "data": {
      "text/plain": [
       "<Figure size 1000x1000 with 0 Axes>"
      ]
     },
     "metadata": {},
     "output_type": "display_data"
    },
    {
     "data": {
      "text/plain": [
       "<Figure size 1000x1000 with 0 Axes>"
      ]
     },
     "metadata": {},
     "output_type": "display_data"
    }
   ],
   "source": [
    "from src import plot_mu_profiles_for_options_to_periods_per_description\n",
    "\n",
    "plot_mu_profiles_for_options_to_periods_per_description(\n",
    "    anelasticity_description_ids=[\n",
    "        \"PREM___Burgers_asthenosphere__elastic_lithosphere___Benjamin_Q_PREM/asymptotic_mu_ratio__0.2__0.2__0.2__0.2__1.0\",\n",
    "    ],\n",
    ")\n",
    "plot_mu_profiles_for_options_to_periods_per_description(\n",
    "    anelasticity_description_ids=[\n",
    "        \"PREM___Peltier_upper_mantle__elastic_lithosphere___Benjamin_Q_PREM/asymptotic_mu_ratio__0.2__0.2__0.2__0.2__1.0\"\n",
    "    ],\n",
    "    layer_name=\"LVZ__UPPER MANTLE__LVZ\",\n",
    ")"
   ]
  },
  {
   "cell_type": "code",
   "execution_count": 4,
   "metadata": {},
   "outputs": [],
   "source": [
    "from src import plot_Love_numbers_for_options_for_descriptions_per_type\n",
    "\n",
    "plot_Love_numbers_for_options_for_descriptions_per_type(\n",
    "    anelasticity_description_ids=[\n",
    "        \"PREM___uniform___uniform/asymptotic_mu_ratio__0.2\",\n",
    "        \"PREM___Peltier_upper_mantle__elastic_lithosphere___Benjamin_Q_PREM/asymptotic_mu_ratio__0.2__0.2__0.2__0.2__1.0\",\n",
    "        \"PREM___Burgers_asthenosphere__elastic_lithosphere___Benjamin_Q_PREM/asymptotic_mu_ratio__0.2__0.2__0.2__0.2__1.0\",\n",
    "    ],\n",
    "    figsize=(6, 5),\n",
    "    legend=False,\n",
    "    title_fontsize=15,\n",
    ")"
   ]
  },
  {
   "cell_type": "code",
   "execution_count": 2,
   "metadata": {},
   "outputs": [
    {
     "ename": "FileNotFoundError",
     "evalue": "[Errno 2] No such file or directory: 'data/results/PREM___Peltier_upper_mantle__elastic_lithosphere___Benjamin_Q_PREM/asymptotic_mu_ratio__0.2__0.2__0.2__0.2__1.0/runs/long_term_anelasticity____/load/ocean_load/Frederikse/mean/signal_dates.json'",
     "output_type": "error",
     "traceback": [
      "\u001b[0;31m---------------------------------------------------------------------------\u001b[0m",
      "\u001b[0;31mFileNotFoundError\u001b[0m                         Traceback (most recent call last)",
      "Cell \u001b[0;32mIn[2], line 3\u001b[0m\n\u001b[1;32m      1\u001b[0m \u001b[38;5;28;01mfrom\u001b[39;00m \u001b[38;5;21;01msrc\u001b[39;00m \u001b[38;5;28;01mimport\u001b[39;00m plot_anelastic_induced_load_per_degree_per_description_per_options\n\u001b[0;32m----> 3\u001b[0m \u001b[43mplot_anelastic_induced_load_per_degree_per_description_per_options\u001b[49m\u001b[43m(\u001b[49m\n\u001b[1;32m      4\u001b[0m \u001b[43m    \u001b[49m\u001b[43manelasticity_description_ids\u001b[49m\u001b[38;5;241;43m=\u001b[39;49m\u001b[43m[\u001b[49m\n\u001b[1;32m      5\u001b[0m \u001b[43m        \u001b[49m\u001b[38;5;124;43m\"\u001b[39;49m\u001b[38;5;124;43mPREM___Peltier_upper_mantle__elastic_lithosphere___Benjamin_Q_PREM/asymptotic_mu_ratio__0.2__0.2__0.2__0.2__1.0\u001b[39;49m\u001b[38;5;124;43m\"\u001b[39;49m\u001b[43m,\u001b[49m\n\u001b[1;32m      6\u001b[0m \u001b[43m        \u001b[49m\u001b[38;5;124;43m\"\u001b[39;49m\u001b[38;5;124;43mPREM___Burgers_asthenosphere__elastic_lithosphere___Benjamin_Q_PREM/asymptotic_mu_ratio__0.2__0.2__0.2__0.2__1.0\u001b[39;49m\u001b[38;5;124;43m\"\u001b[39;49m\u001b[43m,\u001b[49m\n\u001b[1;32m      7\u001b[0m \u001b[43m    \u001b[49m\u001b[43m]\u001b[49m\u001b[43m,\u001b[49m\u001b[43mfigsize\u001b[49m\u001b[38;5;241;43m=\u001b[39;49m\u001b[43m(\u001b[49m\u001b[38;5;241;43m10\u001b[39;49m\u001b[43m,\u001b[49m\u001b[43m \u001b[49m\u001b[38;5;241;43m5\u001b[39;49m\u001b[43m)\u001b[49m\n\u001b[1;32m      8\u001b[0m \u001b[43m)\u001b[49m\n",
      "File \u001b[0;32m~/Code/SNREI/src/scripts/plot/load_signal/temporal.py:45\u001b[0m, in \u001b[0;36mplot_anelastic_induced_load_per_degree_per_description_per_options\u001b[0;34m(anelasticity_description_ids, load_signal_hyper_parameters, options, degrees_to_plot, figsize)\u001b[0m\n\u001b[1;32m     39\u001b[0m run_folder_name \u001b[38;5;241m=\u001b[39m get_run_folder_name(\n\u001b[1;32m     40\u001b[0m     anelasticity_description_id\u001b[38;5;241m=\u001b[39manelasticity_description_id, run_id\u001b[38;5;241m=\u001b[39mrun_hyper_parameters\u001b[38;5;241m.\u001b[39mrun_id()\n\u001b[1;32m     41\u001b[0m )\n\u001b[1;32m     42\u001b[0m result_subpath \u001b[38;5;241m=\u001b[39m load_subpath(\n\u001b[1;32m     43\u001b[0m     path\u001b[38;5;241m=\u001b[39mresults_path\u001b[38;5;241m.\u001b[39mjoinpath(run_folder_name), load_signal_hyper_parameters\u001b[38;5;241m=\u001b[39mload_signal_hyper_parameters\n\u001b[1;32m     44\u001b[0m )\n\u001b[0;32m---> 45\u001b[0m signal_dates \u001b[38;5;241m=\u001b[39m \u001b[43mload_base_model\u001b[49m\u001b[43m(\u001b[49m\u001b[43mname\u001b[49m\u001b[38;5;241;43m=\u001b[39;49m\u001b[38;5;124;43m\"\u001b[39;49m\u001b[38;5;124;43msignal_dates\u001b[39;49m\u001b[38;5;124;43m\"\u001b[39;49m\u001b[43m,\u001b[49m\u001b[43m \u001b[49m\u001b[43mpath\u001b[49m\u001b[38;5;241;43m=\u001b[39;49m\u001b[43mresult_subpath\u001b[49m\u001b[43m)\u001b[49m\n\u001b[1;32m     46\u001b[0m elastic_load_signal_trend \u001b[38;5;241m=\u001b[39m load_base_model(name\u001b[38;5;241m=\u001b[39m\u001b[38;5;124m\"\u001b[39m\u001b[38;5;124melastic_load_signal_trend\u001b[39m\u001b[38;5;124m\"\u001b[39m, path\u001b[38;5;241m=\u001b[39mresult_subpath)\n\u001b[1;32m     47\u001b[0m frequencial_elastic_normalized_load_signal \u001b[38;5;241m=\u001b[39m load_base_model(\n\u001b[1;32m     48\u001b[0m     name\u001b[38;5;241m=\u001b[39m\u001b[38;5;124m\"\u001b[39m\u001b[38;5;124mfrequencial_elastic_normalized_load_signal\u001b[39m\u001b[38;5;124m\"\u001b[39m, path\u001b[38;5;241m=\u001b[39mresult_subpath\n\u001b[1;32m     49\u001b[0m )\n",
      "File \u001b[0;32m~/Code/SNREI/src/utils/database.py:70\u001b[0m, in \u001b[0;36mload_base_model\u001b[0;34m(name, path, base_model_type)\u001b[0m\n\u001b[1;32m     62\u001b[0m \u001b[38;5;28;01mdef\u001b[39;00m \u001b[38;5;21mload_base_model\u001b[39m(\n\u001b[1;32m     63\u001b[0m     name: \u001b[38;5;28mstr\u001b[39m,\n\u001b[1;32m     64\u001b[0m     path: Path,\n\u001b[1;32m     65\u001b[0m     base_model_type: Optional[Any] \u001b[38;5;241m=\u001b[39m \u001b[38;5;28;01mNone\u001b[39;00m,\n\u001b[1;32m     66\u001b[0m ) \u001b[38;5;241m-\u001b[39m\u001b[38;5;241m>\u001b[39m Any:\n\u001b[1;32m     67\u001b[0m \u001b[38;5;250m    \u001b[39m\u001b[38;5;124;03m\"\"\"\u001b[39;00m\n\u001b[1;32m     68\u001b[0m \u001b[38;5;124;03m    Loads a JSON serializable type.\u001b[39;00m\n\u001b[1;32m     69\u001b[0m \u001b[38;5;124;03m    \"\"\"\u001b[39;00m\n\u001b[0;32m---> 70\u001b[0m     \u001b[38;5;28;01mwith\u001b[39;00m \u001b[38;5;28;43mopen\u001b[39;49m\u001b[43m(\u001b[49m\u001b[43mpath\u001b[49m\u001b[38;5;241;43m.\u001b[39;49m\u001b[43mjoinpath\u001b[49m\u001b[43m(\u001b[49m\u001b[43mname\u001b[49m\u001b[43m \u001b[49m\u001b[38;5;241;43m+\u001b[39;49m\u001b[43m \u001b[49m\u001b[38;5;124;43m\"\u001b[39;49m\u001b[38;5;124;43m.json\u001b[39;49m\u001b[38;5;124;43m\"\u001b[39;49m\u001b[43m)\u001b[49m\u001b[43m,\u001b[49m\u001b[43m \u001b[49m\u001b[38;5;124;43m\"\u001b[39;49m\u001b[38;5;124;43mr\u001b[39;49m\u001b[38;5;124;43m\"\u001b[39;49m\u001b[43m)\u001b[49m \u001b[38;5;28;01mas\u001b[39;00m file:\n\u001b[1;32m     71\u001b[0m         loaded_content \u001b[38;5;241m=\u001b[39m load(fp\u001b[38;5;241m=\u001b[39mfile)\n\u001b[1;32m     72\u001b[0m         \u001b[38;5;28;01mreturn\u001b[39;00m loaded_content \u001b[38;5;28;01mif\u001b[39;00m \u001b[38;5;129;01mnot\u001b[39;00m base_model_type \u001b[38;5;28;01melse\u001b[39;00m base_model_type(\u001b[38;5;241m*\u001b[39m\u001b[38;5;241m*\u001b[39mloaded_content)\n",
      "\u001b[0;31mFileNotFoundError\u001b[0m: [Errno 2] No such file or directory: 'data/results/PREM___Peltier_upper_mantle__elastic_lithosphere___Benjamin_Q_PREM/asymptotic_mu_ratio__0.2__0.2__0.2__0.2__1.0/runs/long_term_anelasticity____/load/ocean_load/Frederikse/mean/signal_dates.json'"
     ]
    },
    {
     "data": {
      "text/plain": [
       "<Figure size 1000x500 with 0 Axes>"
      ]
     },
     "metadata": {},
     "output_type": "display_data"
    },
    {
     "data": {
      "text/plain": [
       "<Figure size 1000x500 with 0 Axes>"
      ]
     },
     "metadata": {},
     "output_type": "display_data"
    },
    {
     "data": {
      "text/plain": [
       "<Figure size 1000x500 with 0 Axes>"
      ]
     },
     "metadata": {},
     "output_type": "display_data"
    },
    {
     "data": {
      "text/plain": [
       "<Figure size 1000x500 with 0 Axes>"
      ]
     },
     "metadata": {},
     "output_type": "display_data"
    }
   ],
   "source": [
    "from src import plot_anelastic_induced_load_per_degree_per_description_per_options\n",
    "\n",
    "plot_anelastic_induced_load_per_degree_per_description_per_options(\n",
    "    anelasticity_description_ids=[\n",
    "        \"PREM___Peltier_upper_mantle__elastic_lithosphere___Benjamin_Q_PREM/asymptotic_mu_ratio__0.2__0.2__0.2__0.2__1.0\",\n",
    "        \"PREM___Burgers_asthenosphere__elastic_lithosphere___Benjamin_Q_PREM/asymptotic_mu_ratio__0.2__0.2__0.2__0.2__1.0\",\n",
    "    ],figsize=(10, 5)\n",
    ")"
   ]
  },
  {
   "cell_type": "code",
   "execution_count": 1,
   "metadata": {},
   "outputs": [
    {
     "name": "stdout",
     "output_type": "stream",
     "text": [
      "Description: PREM___Peltier_upper_mantle__elastic_lithosphere___Benjamin_Q_PREM/asymptotic_mu_ratio__0.2__0.2__0.2__0.2__1.0:\n"
     ]
    }
   ],
   "source": [
    "from src import plot_anelastic_induced_spatial_load_trend_per_description_per_options\n",
    "\n",
    "plot_anelastic_induced_spatial_load_trend_per_description_per_options(\n",
    "    anelasticity_description_ids=[\n",
    "        \"PREM___Peltier_upper_mantle__elastic_lithosphere___Benjamin_Q_PREM/asymptotic_mu_ratio__0.2__0.2__0.2__0.2__1.0\",\n",
    "        \"PREM___Burgers_asthenosphere__elastic_lithosphere___Benjamin_Q_PREM/asymptotic_mu_ratio__0.2__0.2__0.2__0.2__1.0\",\n",
    "    ],\n",
    "    figsize=(10, 10),\n",
    "    exp_scale_factor=1.2,\n",
    "    continents=False,\n",
    ")"
   ]
  }
 ],
 "metadata": {
  "kernelspec": {
   "display_name": "Python 3",
   "language": "python",
   "name": "python3"
  },
  "language_info": {
   "codemirror_mode": {
    "name": "ipython",
    "version": 3
   },
   "file_extension": ".py",
   "mimetype": "text/x-python",
   "name": "python",
   "nbconvert_exporter": "python",
   "pygments_lexer": "ipython3",
   "version": "3.10.12"
  }
 },
 "nbformat": 4,
 "nbformat_minor": 2
}
