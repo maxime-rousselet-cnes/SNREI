{
    "cells": [
        {
            "cell_type": "code",
            "execution_count": 4,
            "metadata": {},
            "outputs": [],
            "source": [
                "from src import plot_load_signal\n",
                "\n",
                "plot_load_signal(figsize=(20, 6))"
            ]
        },
        {
            "cell_type": "code",
            "execution_count": 1,
            "metadata": {},
            "outputs": [],
            "source": [
                "from src import plot_viscosity_profiles_for_descriptions_to_depth\n",
                "\n",
                "plot_viscosity_profiles_for_descriptions_to_depth(figsize=(10, 6))"
            ]
        },
        {
            "cell_type": "code",
            "execution_count": null,
            "metadata": {},
            "outputs": [],
            "source": [
                "from src import plot_mu_profiles_for_options_for_periods_to_depth_per_description\n",
                "\n",
                "plot_mu_profiles_for_options_for_periods_to_depth_per_description(\n",
                "    anelasticity_description_ids=[\n",
                "        \"PREM_____VM7____eta_m__ASTHENOSPHERE__3e+19_____Benjamin_Q_Resovsky____asymptotic_mu_ratio__MANTLE__0.2\"\n",
                "    ],\n",
                "    period_values=[ 100, 1000],\n",
                "    figsize=(8, 6),\n",
                "    legend=True,\n",
                "    inverse=True,\n",
                ")"
            ]
        },
        {
            "cell_type": "code",
            "execution_count": null,
            "metadata": {},
            "outputs": [],
            "source": [
                "from src import plot_mu_profiles_for_options_to_periods_per_description\n",
                "\n",
                "plot_mu_profiles_for_options_to_periods_per_description(\n",
                "    anelasticity_description_ids=[\n",
                "        \"PREM_____VM7____eta_m__ASTHENOSPHERE__3e+19_____Benjamin_Q_Resovsky____asymptotic_mu_ratio__MANTLE__0.2\"\n",
                "    ],\n",
                "    layer_name=\"MANTLE_LVZ__MANTLE_ASTHENOSPHERE__MANTLE_LVZ\",\n",
                ")"
            ]
        },
        {
            "cell_type": "code",
            "execution_count": null,
            "metadata": {},
            "outputs": [],
            "source": [
                "from src import plot_Love_numbers_for_options_for_descriptions_per_type\n",
                "\n",
                "plot_Love_numbers_for_options_for_descriptions_per_type(\n",
                "    anelasticity_description_ids=[\n",
                "        \"PREM___uniform___uniform/asymptotic_mu_ratio__0.2\",\n",
                "        \"PREM___Peltier_upper_mantle__elastic_lithosphere___Benjamin_Q_PREM/asymptotic_mu_ratio__0.2__0.2__0.2__0.2__1.0\",\n",
                "        \"PREM___Burgers_asthenosphere__elastic_lithosphere___Benjamin_Q_PREM/asymptotic_mu_ratio__0.2__0.2__0.2__0.2__1.0\",\n",
                "    ],\n",
                "    figsize=(6, 5),\n",
                "    legend=False,\n",
                "    title_fontsize=15,\n",
                ")"
            ]
        },
        {
            "cell_type": "code",
            "execution_count": null,
            "metadata": {},
            "outputs": [],
            "source": [
                "from src import plot_anelastic_load_per_degree_per_description_per_options\n",
                "\n",
                "plot_anelastic_load_per_degree_per_description_per_options(\n",
                "    anelasticity_description_ids=[\n",
                "        \"PREM_____VM7____eta_m__ASTHENOSPHERE__3e+19_____Benjamin_Q_Resovsky____asymptotic_mu_ratio__MANTLE__0.1\",\n",
                "    ],figsize=(10, 5)\n",
                ")"
            ]
        },
        {
            "cell_type": "code",
            "execution_count": 2,
            "metadata": {},
            "outputs": [],
            "source": [
                "from src import RunHyperParameters\n",
                "\n",
                "\n",
                "options = [\n",
                "    RunHyperParameters(\n",
                "        use_long_term_anelasticity=True, use_short_term_anelasticity=True, use_bounded_attenuation_functions=True\n",
                "    ),\n",
                "    RunHyperParameters(\n",
                "        use_long_term_anelasticity=False, use_short_term_anelasticity=True, use_bounded_attenuation_functions=True\n",
                "    ),\n",
                "    RunHyperParameters(\n",
                "        use_long_term_anelasticity=True, use_short_term_anelasticity=False, use_bounded_attenuation_functions=False\n",
                "    ),\n",
                "]"
            ]
        },
        {
            "cell_type": "code",
            "execution_count": 5,
            "metadata": {},
            "outputs": [
                {
                    "name": "stdout",
                    "output_type": "stream",
                    "text": [
                        "case= mean LIA= False continents= False\n",
                        "long_term= True short_term= True bounded= True\n"
                    ]
                },
                {
                    "name": "stderr",
                    "output_type": "stream",
                    "text": [
                        "0it [00:00, ?it/s]\n"
                    ]
                },
                {
                    "name": "stdout",
                    "output_type": "stream",
                    "text": [
                        "long_term= False short_term= True bounded= True\n"
                    ]
                },
                {
                    "name": "stderr",
                    "output_type": "stream",
                    "text": [
                        "0it [00:00, ?it/s]\n"
                    ]
                },
                {
                    "name": "stdout",
                    "output_type": "stream",
                    "text": [
                        "long_term= True short_term= False bounded= False\n"
                    ]
                },
                {
                    "name": "stderr",
                    "output_type": "stream",
                    "text": [
                        "0it [00:00, ?it/s]\n"
                    ]
                }
            ],
            "source": [
                "from src import load_signal_for_options_for_models_for_parameters_for_elastic_load_signals\n",
                "\n",
                "load_result_folders = load_signal_for_options_for_models_for_parameters_for_elastic_load_signals(\n",
                "    anelasticity_description_ids=[\n",
                "        \"PREM_____VM5a____eta_m__ASTHENOSPHERE__3e+19_____Benjamin_Q_PREM____asymptotic_mu_ratio__MANTLE__0.15\",\n",
                "    ],\n",
                "    load_signal_hyper_parameter_variations={\n",
                "        \"case\": [\"mean\"],\n",
                "        \"little_isostatic_adjustment\": [False],\n",
                "        \"opposite_load_on_continents\": [False],\n",
                "    },\n",
                "    options=options,\n",
                "    remove=False,\n",
                ")"
            ]
        },
        {
            "cell_type": "code",
            "execution_count": 6,
            "metadata": {},
            "outputs": [
                {
                    "name": "stdout",
                    "output_type": "stream",
                    "text": [
                        "Description: PREM_____VM5a____eta_m__ASTHENOSPHERE__3e+19_____Benjamin_Q_PREM____asymptotic_mu_ratio__MANTLE__0.15:\n",
                        "----Run: long_term_anelasticity__short_term_anelasticity__bounded_attenuation_functions: Done.\n",
                        "----Run: __short_term_anelasticity__bounded_attenuation_functions: Done.\n",
                        "----Run: long_term_anelasticity____: Done.\n"
                    ]
                }
            ],
            "source": [
                "from src import plot_anelastic_spatial_load_trend_per_description_per_options\n",
                "\n",
                "plot_anelastic_spatial_load_trend_per_description_per_options(\n",
                "    anelasticity_description_ids=[\n",
                "        \"PREM_____VM5a____eta_m__ASTHENOSPHERE__3e+19_____Benjamin_Q_PREM____asymptotic_mu_ratio__MANTLE__0.15\",\n",
                "    ],\n",
                "    figsize=(10, 10),\n",
                "    exp_scale_factor=1.2,\n",
                "    continents=True,\n",
                "    options=options,\n",
                ")"
            ]
        }
    ],
    "metadata": {
        "kernelspec": {
            "display_name": "Python 3",
            "language": "python",
            "name": "python3"
        },
        "language_info": {
            "codemirror_mode": {
                "name": "ipython",
                "version": 3
            },
            "file_extension": ".py",
            "mimetype": "text/x-python",
            "name": "python",
            "nbconvert_exporter": "python",
            "pygments_lexer": "ipython3",
            "version": "3.10.12"
        }
    },
    "nbformat": 4,
    "nbformat_minor": 2
}