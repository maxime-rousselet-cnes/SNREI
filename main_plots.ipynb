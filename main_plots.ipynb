{
    "cells": [
        {
            "cell_type": "code",
            "execution_count": 1,
            "metadata": {},
            "outputs": [],
            "source": [
                "from src import plot_load_signal\n",
                "\n",
                "plot_load_signal(figsize=(12, 6))"
            ]
        },
        {
            "cell_type": "code",
            "execution_count": 2,
            "metadata": {},
            "outputs": [],
            "source": [
                "from src import plot_viscosity_profiles_for_descriptions_to_depth\n",
                "\n",
                "plot_viscosity_profiles_for_descriptions_to_depth(figsize=(10, 6))"
            ]
        },
        {
            "cell_type": "code",
            "execution_count": 1,
            "metadata": {},
            "outputs": [],
            "source": [
                "from src import plot_mu_profiles_for_options_for_periods_to_depth_per_description\n",
                "\n",
                "plot_mu_profiles_for_options_for_periods_to_depth_per_description(\n",
                "    anelasticity_description_ids=[\n",
                "        \"PREM_____VM7____eta_m__ASTHENOSPHERE__3e+19_____Benjamin_Q_Resovsky____asymptotic_mu_ratio__MANTLE__0.2\"\n",
                "    ],\n",
                "    period_values=[ 100, 1000],\n",
                "    figsize=(8, 6),\n",
                "    legend=True,\n",
                "    inverse=True,\n",
                ")"
            ]
        },
        {
            "cell_type": "code",
            "execution_count": 3,
            "metadata": {},
            "outputs": [
                {
                    "name": "stdout",
                    "output_type": "stream",
                    "text": [
                        "use_long_term_anelasticity=True use_short_term_anelasticity=True use_bounded_attenuation_functions=True\n",
                        "----period (y): 1.0\n",
                        "--------mu_0: 65600301810.90239\n",
                        "--------mu/mu_0: (0.5206688657211028+0.19349131015938054j)\n",
                        "----period (y): 3.0\n",
                        "--------mu_0: 65600301810.90239\n",
                        "--------mu/mu_0: (0.3598671437366469+0.18553077246514219j)\n",
                        "----period (y): 10.0\n",
                        "--------mu_0: 65600301810.90239\n",
                        "--------mu/mu_0: (0.23014518938356598+0.10664945795647077j)\n",
                        "----period (y): 30.0\n",
                        "--------mu_0: 65600301810.90239\n",
                        "--------mu/mu_0: (0.19871098420312489+0.05124346222089922j)\n",
                        "----period (y): 100.0\n",
                        "--------mu_0: 65600301810.90239\n",
                        "--------mu/mu_0: (0.18654973965086888+0.05213428761088554j)\n",
                        "----period (y): 300.0\n",
                        "--------mu_0: 65600301810.90239\n",
                        "--------mu/mu_0: (0.13697836204256159+0.09300378634918408j)\n",
                        "----period (y): 1000.0\n",
                        "--------mu_0: 65600301810.90239\n",
                        "--------mu/mu_0: (0.03418299986792133+0.07528948663618362j)\n",
                        "use_long_term_anelasticity=False use_short_term_anelasticity=True use_bounded_attenuation_functions=True\n",
                        "----period (y): 1.0\n",
                        "--------mu_0: 65600301810.90239\n",
                        "--------mu/mu_0: (0.5228716688506243+0.19090703793045655j)\n",
                        "----period (y): 3.0\n",
                        "--------mu_0: 65600301810.90239\n",
                        "--------mu/mu_0: (0.36425562502675174+0.18232635944243078j)\n",
                        "----period (y): 10.0\n",
                        "--------mu_0: 65600301810.90239\n",
                        "--------mu/mu_0: (0.23547875486063471+0.10189091233310091j)\n",
                        "----period (y): 30.0\n",
                        "--------mu_0: 65600301810.90239\n",
                        "--------mu/mu_0: (0.20468700386798222+0.03849220385363927j)\n",
                        "----period (y): 100.0\n",
                        "--------mu_0: 65600301810.90239\n",
                        "--------mu/mu_0: (0.20043162885130614+0.011741805697538093j)\n",
                        "----period (y): 300.0\n",
                        "--------mu_0: 65600301810.90239\n",
                        "--------mu/mu_0: (0.20004805759773323+0.003919793291207358j)\n",
                        "----period (y): 1000.0\n",
                        "--------mu_0: 65600301810.90239\n",
                        "--------mu/mu_0: (0.20000432619861924+0.0011761384303849878j)\n",
                        "use_long_term_anelasticity=True use_short_term_anelasticity=False use_bounded_attenuation_functions=False\n",
                        "----period (y): 1.0\n",
                        "--------mu_0: 65600301810.90239\n",
                        "--------mu/mu_0: (0.9998793950919947+0.010981364326037033j)\n",
                        "----period (y): 3.0\n",
                        "--------mu_0: 65600301810.90239\n",
                        "--------mu/mu_0: (0.9989156020976292+0.03291233786227027j)\n",
                        "----period (y): 10.0\n",
                        "--------mu_0: 65600301810.90239\n",
                        "--------mu/mu_0: (0.9880818110160144+0.1085179513045073j)\n",
                        "----period (y): 30.0\n",
                        "--------mu_0: 65600301810.90239\n",
                        "--------mu/mu_0: (0.902073181755626+0.2972156733971264j)\n",
                        "----period (y): 100.0\n",
                        "--------mu_0: 65600301810.90239\n",
                        "--------mu/mu_0: (0.45326918182497333+0.4978114408415022j)\n",
                        "----period (y): 300.0\n",
                        "--------mu_0: 65600301810.90239\n",
                        "--------mu/mu_0: (0.08434725070684289+0.277907884028215j)\n",
                        "----period (y): 1000.0\n",
                        "--------mu_0: 65600301810.90239\n",
                        "--------mu/mu_0: (0.00822236867864712+0.09030371715471863j)\n",
                        "use_long_term_anelasticity=False use_short_term_anelasticity=False use_bounded_attenuation_functions=False\n",
                        "----period (y): 1.0\n",
                        "--------mu_0: 65600301810.90239\n",
                        "--------mu/mu_0: (1+0j)\n",
                        "----period (y): 3.0\n",
                        "--------mu_0: 65600301810.90239\n",
                        "--------mu/mu_0: (1+0j)\n",
                        "----period (y): 10.0\n",
                        "--------mu_0: 65600301810.90239\n",
                        "--------mu/mu_0: (1+0j)\n",
                        "----period (y): 30.0\n",
                        "--------mu_0: 65600301810.90239\n",
                        "--------mu/mu_0: (1+0j)\n",
                        "----period (y): 100.0\n",
                        "--------mu_0: 65600301810.90239\n",
                        "--------mu/mu_0: (1+0j)\n",
                        "----period (y): 300.0\n",
                        "--------mu_0: 65600301810.90239\n",
                        "--------mu/mu_0: (1+0j)\n",
                        "----period (y): 1000.0\n",
                        "--------mu_0: 65600301810.90239\n",
                        "--------mu/mu_0: (1+0j)\n"
                    ]
                },
                {
                    "name": "stderr",
                    "output_type": "stream",
                    "text": [
                        "/home/mrousselet/Code/SNREI/src/scripts/plot/mu/to_frequencies.py:117: UserWarning: Attempt to set non-positive xlim on a log-scaled axis will be ignored.\n",
                        "  plt.clf()\n"
                    ]
                },
                {
                    "data": {
                        "text/plain": [
                            "<Figure size 1000x1000 with 0 Axes>"
                        ]
                    },
                    "metadata": {},
                    "output_type": "display_data"
                }
            ],
            "source": [
                "from src import plot_mu_profiles_for_options_to_periods_per_description\n",
                "\n",
                "plot_mu_profiles_for_options_to_periods_per_description(\n",
                "    anelasticity_description_ids=[\n",
                "        \"PREM_____VM7____eta_m__ASTHENOSPHERE__3e+19_____Benjamin_Q_Resovsky____asymptotic_mu_ratio__MANTLE__0.2\"\n",
                "    ],\n",
                "    layer_name=\"MANTLE_LVZ__MANTLE_ASTHENOSPHERE__MANTLE_LVZ\",\n",
                ")"
            ]
        },
        {
            "cell_type": "code",
            "execution_count": 4,
            "metadata": {},
            "outputs": [],
            "source": [
                "from src import plot_Love_numbers_for_options_for_descriptions_per_type\n",
                "\n",
                "plot_Love_numbers_for_options_for_descriptions_per_type(\n",
                "    anelasticity_description_ids=[\n",
                "        \"PREM___uniform___uniform/asymptotic_mu_ratio__0.2\",\n",
                "        \"PREM___Peltier_upper_mantle__elastic_lithosphere___Benjamin_Q_PREM/asymptotic_mu_ratio__0.2__0.2__0.2__0.2__1.0\",\n",
                "        \"PREM___Burgers_asthenosphere__elastic_lithosphere___Benjamin_Q_PREM/asymptotic_mu_ratio__0.2__0.2__0.2__0.2__1.0\",\n",
                "    ],\n",
                "    figsize=(6, 5),\n",
                "    legend=False,\n",
                "    title_fontsize=15,\n",
                ")"
            ]
        },
        {
            "cell_type": "code",
            "execution_count": 5,
            "metadata": {},
            "outputs": [
                {
                    "ename": "FileNotFoundError",
                    "evalue": "[Errno 2] No such file or directory: 'data/results/PREM_____VM7____eta_m__ASTHENOSPHERE__3e+19_____Benjamin_Q_Resovsky____asymptotic_mu_ratio__MANTLE__0.1/runs/long_term_anelasticity__short_term_anelasticity__bounded_attenuation_functions/load/ocean_load/Frederikse/mean/with_LIA/without_opposite_load_on_continents/signal_dates.json'",
                    "output_type": "error",
                    "traceback": [
                        "\u001b[0;31m---------------------------------------------------------------------------\u001b[0m",
                        "\u001b[0;31mFileNotFoundError\u001b[0m                         Traceback (most recent call last)",
                        "Cell \u001b[0;32mIn[5], line 3\u001b[0m\n\u001b[1;32m      1\u001b[0m \u001b[38;5;28;01mfrom\u001b[39;00m \u001b[38;5;21;01msrc\u001b[39;00m \u001b[38;5;28;01mimport\u001b[39;00m plot_anelastic_induced_load_per_degree_per_description_per_options\n\u001b[0;32m----> 3\u001b[0m \u001b[43mplot_anelastic_induced_load_per_degree_per_description_per_options\u001b[49m\u001b[43m(\u001b[49m\n\u001b[1;32m      4\u001b[0m \u001b[43m    \u001b[49m\u001b[43manelasticity_description_ids\u001b[49m\u001b[38;5;241;43m=\u001b[39;49m\u001b[43m[\u001b[49m\n\u001b[1;32m      5\u001b[0m \u001b[43m        \u001b[49m\u001b[38;5;124;43m\"\u001b[39;49m\u001b[38;5;124;43mPREM_____VM7____eta_m__ASTHENOSPHERE__3e+19_____Benjamin_Q_Resovsky____asymptotic_mu_ratio__MANTLE__0.1\u001b[39;49m\u001b[38;5;124;43m\"\u001b[39;49m\u001b[43m,\u001b[49m\n\u001b[1;32m      6\u001b[0m \u001b[43m    \u001b[49m\u001b[43m]\u001b[49m\u001b[43m,\u001b[49m\u001b[43mfigsize\u001b[49m\u001b[38;5;241;43m=\u001b[39;49m\u001b[43m(\u001b[49m\u001b[38;5;241;43m10\u001b[39;49m\u001b[43m,\u001b[49m\u001b[43m \u001b[49m\u001b[38;5;241;43m5\u001b[39;49m\u001b[43m)\u001b[49m\n\u001b[1;32m      7\u001b[0m \u001b[43m)\u001b[49m\n",
                        "File \u001b[0;32m~/Code/SNREI/src/scripts/plot/load_signal/temporal.py:45\u001b[0m, in \u001b[0;36mplot_anelastic_induced_load_per_degree_per_description_per_options\u001b[0;34m(anelasticity_description_ids, load_signal_hyper_parameters, options, degrees_to_plot, figsize)\u001b[0m\n\u001b[1;32m     39\u001b[0m run_folder_name \u001b[38;5;241m=\u001b[39m get_run_folder_name(\n\u001b[1;32m     40\u001b[0m     anelasticity_description_id\u001b[38;5;241m=\u001b[39manelasticity_description_id, run_id\u001b[38;5;241m=\u001b[39mrun_hyper_parameters\u001b[38;5;241m.\u001b[39mrun_id()\n\u001b[1;32m     41\u001b[0m )\n\u001b[1;32m     42\u001b[0m result_subpath \u001b[38;5;241m=\u001b[39m load_subpath(\n\u001b[1;32m     43\u001b[0m     path\u001b[38;5;241m=\u001b[39mresults_path\u001b[38;5;241m.\u001b[39mjoinpath(run_folder_name), load_signal_hyper_parameters\u001b[38;5;241m=\u001b[39mload_signal_hyper_parameters\n\u001b[1;32m     44\u001b[0m )\n\u001b[0;32m---> 45\u001b[0m signal_dates \u001b[38;5;241m=\u001b[39m \u001b[43mload_base_model\u001b[49m\u001b[43m(\u001b[49m\u001b[43mname\u001b[49m\u001b[38;5;241;43m=\u001b[39;49m\u001b[38;5;124;43m\"\u001b[39;49m\u001b[38;5;124;43msignal_dates\u001b[39;49m\u001b[38;5;124;43m\"\u001b[39;49m\u001b[43m,\u001b[49m\u001b[43m \u001b[49m\u001b[43mpath\u001b[49m\u001b[38;5;241;43m=\u001b[39;49m\u001b[43mresult_subpath\u001b[49m\u001b[43m)\u001b[49m\n\u001b[1;32m     46\u001b[0m elastic_load_signal_trend \u001b[38;5;241m=\u001b[39m load_base_model(name\u001b[38;5;241m=\u001b[39m\u001b[38;5;124m\"\u001b[39m\u001b[38;5;124melastic_load_signal_trend\u001b[39m\u001b[38;5;124m\"\u001b[39m, path\u001b[38;5;241m=\u001b[39mresult_subpath)\n\u001b[1;32m     47\u001b[0m frequencial_elastic_normalized_load_signal \u001b[38;5;241m=\u001b[39m load_base_model(\n\u001b[1;32m     48\u001b[0m     name\u001b[38;5;241m=\u001b[39m\u001b[38;5;124m\"\u001b[39m\u001b[38;5;124mfrequencial_elastic_normalized_load_signal\u001b[39m\u001b[38;5;124m\"\u001b[39m, path\u001b[38;5;241m=\u001b[39mresult_subpath\n\u001b[1;32m     49\u001b[0m )\n",
                        "File \u001b[0;32m~/Code/SNREI/src/utils/database.py:70\u001b[0m, in \u001b[0;36mload_base_model\u001b[0;34m(name, path, base_model_type)\u001b[0m\n\u001b[1;32m     62\u001b[0m \u001b[38;5;28;01mdef\u001b[39;00m \u001b[38;5;21mload_base_model\u001b[39m(\n\u001b[1;32m     63\u001b[0m     name: \u001b[38;5;28mstr\u001b[39m,\n\u001b[1;32m     64\u001b[0m     path: Path,\n\u001b[1;32m     65\u001b[0m     base_model_type: Optional[Any] \u001b[38;5;241m=\u001b[39m \u001b[38;5;28;01mNone\u001b[39;00m,\n\u001b[1;32m     66\u001b[0m ) \u001b[38;5;241m-\u001b[39m\u001b[38;5;241m>\u001b[39m Any:\n\u001b[1;32m     67\u001b[0m \u001b[38;5;250m    \u001b[39m\u001b[38;5;124;03m\"\"\"\u001b[39;00m\n\u001b[1;32m     68\u001b[0m \u001b[38;5;124;03m    Loads a JSON serializable type.\u001b[39;00m\n\u001b[1;32m     69\u001b[0m \u001b[38;5;124;03m    \"\"\"\u001b[39;00m\n\u001b[0;32m---> 70\u001b[0m     \u001b[38;5;28;01mwith\u001b[39;00m \u001b[38;5;28;43mopen\u001b[39;49m\u001b[43m(\u001b[49m\u001b[43mpath\u001b[49m\u001b[38;5;241;43m.\u001b[39;49m\u001b[43mjoinpath\u001b[49m\u001b[43m(\u001b[49m\u001b[43mname\u001b[49m\u001b[43m \u001b[49m\u001b[38;5;241;43m+\u001b[39;49m\u001b[43m \u001b[49m\u001b[38;5;124;43m\"\u001b[39;49m\u001b[38;5;124;43m.json\u001b[39;49m\u001b[38;5;124;43m\"\u001b[39;49m\u001b[43m)\u001b[49m\u001b[43m,\u001b[49m\u001b[43m \u001b[49m\u001b[38;5;124;43m\"\u001b[39;49m\u001b[38;5;124;43mr\u001b[39;49m\u001b[38;5;124;43m\"\u001b[39;49m\u001b[43m)\u001b[49m \u001b[38;5;28;01mas\u001b[39;00m file:\n\u001b[1;32m     71\u001b[0m         loaded_content \u001b[38;5;241m=\u001b[39m load(fp\u001b[38;5;241m=\u001b[39mfile)\n\u001b[1;32m     72\u001b[0m         \u001b[38;5;28;01mreturn\u001b[39;00m loaded_content \u001b[38;5;28;01mif\u001b[39;00m \u001b[38;5;129;01mnot\u001b[39;00m base_model_type \u001b[38;5;28;01melse\u001b[39;00m base_model_type(\u001b[38;5;241m*\u001b[39m\u001b[38;5;241m*\u001b[39mloaded_content)\n",
                        "\u001b[0;31mFileNotFoundError\u001b[0m: [Errno 2] No such file or directory: 'data/results/PREM_____VM7____eta_m__ASTHENOSPHERE__3e+19_____Benjamin_Q_Resovsky____asymptotic_mu_ratio__MANTLE__0.1/runs/long_term_anelasticity__short_term_anelasticity__bounded_attenuation_functions/load/ocean_load/Frederikse/mean/with_LIA/without_opposite_load_on_continents/signal_dates.json'"
                    ]
                }
            ],
            "source": [
                "from src import plot_anelastic_induced_load_per_degree_per_description_per_options\n",
                "\n",
                "plot_anelastic_induced_load_per_degree_per_description_per_options(\n",
                "    anelasticity_description_ids=[\n",
                "        \"PREM_____VM7____eta_m__ASTHENOSPHERE__3e+19_____Benjamin_Q_Resovsky____asymptotic_mu_ratio__MANTLE__0.1\",\n",
                "    ],figsize=(10, 5)\n",
                ")"
            ]
        },
        {
            "cell_type": "code",
            "execution_count": 1,
            "metadata": {},
            "outputs": [
                {
                    "name": "stdout",
                    "output_type": "stream",
                    "text": [
                        "Description: PREM___Peltier_upper_mantle__elastic_lithosphere___Benjamin_Q_PREM/asymptotic_mu_ratio__0.2__0.2__0.2__0.2__1.0:\n",
                        "----Run: long_term_anelasticity__short_term_anelasticity__bounded_attenuation_functions: Done.\n"
                    ]
                },
                {
                    "ename": "JSONDecodeError",
                    "evalue": "Expecting ',' delimiter: line 1 column 499089 (char 499088)",
                    "output_type": "error",
                    "traceback": [
                        "\u001b[0;31m---------------------------------------------------------------------------\u001b[0m",
                        "\u001b[0;31mJSONDecodeError\u001b[0m                           Traceback (most recent call last)",
                        "Cell \u001b[0;32mIn[1], line 3\u001b[0m\n\u001b[1;32m      1\u001b[0m \u001b[38;5;28;01mfrom\u001b[39;00m \u001b[38;5;21;01msrc\u001b[39;00m \u001b[38;5;28;01mimport\u001b[39;00m plot_anelastic_induced_spatial_load_trend_per_description_per_options\n\u001b[0;32m----> 3\u001b[0m \u001b[43mplot_anelastic_induced_spatial_load_trend_per_description_per_options\u001b[49m\u001b[43m(\u001b[49m\n\u001b[1;32m      4\u001b[0m \u001b[43m    \u001b[49m\u001b[43manelasticity_description_ids\u001b[49m\u001b[38;5;241;43m=\u001b[39;49m\u001b[43m[\u001b[49m\n\u001b[1;32m      5\u001b[0m \u001b[43m        \u001b[49m\u001b[38;5;124;43m\"\u001b[39;49m\u001b[38;5;124;43mPREM___Peltier_upper_mantle__elastic_lithosphere___Benjamin_Q_PREM/asymptotic_mu_ratio__0.2__0.2__0.2__0.2__1.0\u001b[39;49m\u001b[38;5;124;43m\"\u001b[39;49m\u001b[43m,\u001b[49m\n\u001b[1;32m      6\u001b[0m \u001b[43m        \u001b[49m\u001b[38;5;124;43m\"\u001b[39;49m\u001b[38;5;124;43mPREM___Burgers_asthenosphere__elastic_lithosphere___Benjamin_Q_PREM/asymptotic_mu_ratio__0.2__0.2__0.2__0.2__1.0\u001b[39;49m\u001b[38;5;124;43m\"\u001b[39;49m\u001b[43m,\u001b[49m\n\u001b[1;32m      7\u001b[0m \u001b[43m    \u001b[49m\u001b[43m]\u001b[49m\u001b[43m,\u001b[49m\n\u001b[1;32m      8\u001b[0m \u001b[43m    \u001b[49m\u001b[43mfigsize\u001b[49m\u001b[38;5;241;43m=\u001b[39;49m\u001b[43m(\u001b[49m\u001b[38;5;241;43m10\u001b[39;49m\u001b[43m,\u001b[49m\u001b[43m \u001b[49m\u001b[38;5;241;43m10\u001b[39;49m\u001b[43m)\u001b[49m\u001b[43m,\u001b[49m\n\u001b[1;32m      9\u001b[0m \u001b[43m    \u001b[49m\u001b[43mexp_scale_factor\u001b[49m\u001b[38;5;241;43m=\u001b[39;49m\u001b[38;5;241;43m1.2\u001b[39;49m\u001b[43m,\u001b[49m\n\u001b[1;32m     10\u001b[0m \u001b[43m    \u001b[49m\u001b[43mcontinents\u001b[49m\u001b[38;5;241;43m=\u001b[39;49m\u001b[38;5;28;43;01mTrue\u001b[39;49;00m\u001b[43m,\u001b[49m\n\u001b[1;32m     11\u001b[0m \u001b[43m)\u001b[49m\n",
                        "File \u001b[0;32m~/Code/SNREI/src/scripts/plot/load_signal/harmonic_trend.py:73\u001b[0m, in \u001b[0;36mplot_anelastic_induced_spatial_load_trend_per_description_per_options\u001b[0;34m(anelasticity_description_ids, load_signal_hyper_parameters, options, min_saturation, max_saturation, figsize, ndigits, exp_scale_factor, saturation_factor, continents)\u001b[0m\n\u001b[1;32m     71\u001b[0m \u001b[38;5;28;01mfor\u001b[39;00m degree \u001b[38;5;129;01min\u001b[39;00m \u001b[38;5;28mrange\u001b[39m(i_order_sign, n_max \u001b[38;5;241m+\u001b[39m \u001b[38;5;241m1\u001b[39m):\n\u001b[1;32m     72\u001b[0m     \u001b[38;5;28;01mfor\u001b[39;00m order \u001b[38;5;129;01min\u001b[39;00m \u001b[38;5;28mrange\u001b[39m(i_order_sign, degree \u001b[38;5;241m+\u001b[39m \u001b[38;5;241m1\u001b[39m):\n\u001b[0;32m---> 73\u001b[0m         harmonic_frequencial_load_signal \u001b[38;5;241m=\u001b[39m \u001b[43mload_base_model\u001b[49m\u001b[43m(\u001b[49m\n\u001b[1;32m     74\u001b[0m \u001b[43m            \u001b[49m\u001b[43mname\u001b[49m\u001b[38;5;241;43m=\u001b[39;49m\u001b[43mharmonic_name\u001b[49m\u001b[43m(\u001b[49m\u001b[43mcoefficient\u001b[49m\u001b[38;5;241;43m=\u001b[39;49m\u001b[43mcoefficient\u001b[49m\u001b[43m,\u001b[49m\u001b[43m \u001b[49m\u001b[43mdegree\u001b[49m\u001b[38;5;241;43m=\u001b[39;49m\u001b[43mdegree\u001b[49m\u001b[43m,\u001b[49m\u001b[43m \u001b[49m\u001b[43morder\u001b[49m\u001b[38;5;241;43m=\u001b[39;49m\u001b[43morder\u001b[49m\u001b[43m)\u001b[49m\u001b[43m,\u001b[49m\n\u001b[1;32m     75\u001b[0m \u001b[43m            \u001b[49m\u001b[43mpath\u001b[49m\u001b[38;5;241;43m=\u001b[39;49m\u001b[43mresult_subpath\u001b[49m\u001b[38;5;241;43m.\u001b[39;49m\u001b[43mjoinpath\u001b[49m\u001b[43m(\u001b[49m\u001b[43mearth_model\u001b[49m\u001b[43m \u001b[49m\u001b[38;5;241;43m+\u001b[39;49m\u001b[43m \u001b[49m\u001b[38;5;124;43m\"\u001b[39;49m\u001b[38;5;124;43m_harmonic_frequencial_load_signal\u001b[39;49m\u001b[38;5;124;43m\"\u001b[39;49m\u001b[43m)\u001b[49m\u001b[43m,\u001b[49m\n\u001b[1;32m     76\u001b[0m \u001b[43m        \u001b[49m\u001b[43m)\u001b[49m\n\u001b[1;32m     77\u001b[0m         \u001b[38;5;66;03m# Computes harmonic trend.\u001b[39;00m\n\u001b[1;32m     78\u001b[0m         temporal_anelastic_harmonic_signal \u001b[38;5;241m=\u001b[39m real(\n\u001b[1;32m     79\u001b[0m             ifft(\n\u001b[1;32m     80\u001b[0m                 x\u001b[38;5;241m=\u001b[39marray(\u001b[38;5;28mobject\u001b[39m\u001b[38;5;241m=\u001b[39mharmonic_frequencial_load_signal[\u001b[38;5;124m\"\u001b[39m\u001b[38;5;124mreal\u001b[39m\u001b[38;5;124m\"\u001b[39m], dtype\u001b[38;5;241m=\u001b[39m\u001b[38;5;28mfloat\u001b[39m)\n\u001b[1;32m     81\u001b[0m                 \u001b[38;5;241m+\u001b[39m \u001b[38;5;241m1.0\u001b[39mj \u001b[38;5;241m*\u001b[39m array(\u001b[38;5;28mobject\u001b[39m\u001b[38;5;241m=\u001b[39mharmonic_frequencial_load_signal[\u001b[38;5;124m\"\u001b[39m\u001b[38;5;124mimag\u001b[39m\u001b[38;5;124m\"\u001b[39m], dtype\u001b[38;5;241m=\u001b[39m\u001b[38;5;28mfloat\u001b[39m)\n\u001b[1;32m     82\u001b[0m             )\n\u001b[1;32m     83\u001b[0m         )\n",
                        "File \u001b[0;32m~/Code/SNREI/src/utils/database.py:71\u001b[0m, in \u001b[0;36mload_base_model\u001b[0;34m(name, path, base_model_type)\u001b[0m\n\u001b[1;32m     67\u001b[0m \u001b[38;5;250m\u001b[39m\u001b[38;5;124;03m\"\"\"\u001b[39;00m\n\u001b[1;32m     68\u001b[0m \u001b[38;5;124;03mLoads a JSON serializable type.\u001b[39;00m\n\u001b[1;32m     69\u001b[0m \u001b[38;5;124;03m\"\"\"\u001b[39;00m\n\u001b[1;32m     70\u001b[0m \u001b[38;5;28;01mwith\u001b[39;00m \u001b[38;5;28mopen\u001b[39m(path\u001b[38;5;241m.\u001b[39mjoinpath(name \u001b[38;5;241m+\u001b[39m \u001b[38;5;124m\"\u001b[39m\u001b[38;5;124m.json\u001b[39m\u001b[38;5;124m\"\u001b[39m), \u001b[38;5;124m\"\u001b[39m\u001b[38;5;124mr\u001b[39m\u001b[38;5;124m\"\u001b[39m) \u001b[38;5;28;01mas\u001b[39;00m file:\n\u001b[0;32m---> 71\u001b[0m     loaded_content \u001b[38;5;241m=\u001b[39m \u001b[43mload\u001b[49m\u001b[43m(\u001b[49m\u001b[43mfp\u001b[49m\u001b[38;5;241;43m=\u001b[39;49m\u001b[43mfile\u001b[49m\u001b[43m)\u001b[49m\n\u001b[1;32m     72\u001b[0m     \u001b[38;5;28;01mreturn\u001b[39;00m loaded_content \u001b[38;5;28;01mif\u001b[39;00m \u001b[38;5;129;01mnot\u001b[39;00m base_model_type \u001b[38;5;28;01melse\u001b[39;00m base_model_type(\u001b[38;5;241m*\u001b[39m\u001b[38;5;241m*\u001b[39mloaded_content)\n",
                        "File \u001b[0;32m/usr/lib/python3.10/json/__init__.py:293\u001b[0m, in \u001b[0;36mload\u001b[0;34m(fp, cls, object_hook, parse_float, parse_int, parse_constant, object_pairs_hook, **kw)\u001b[0m\n\u001b[1;32m    274\u001b[0m \u001b[38;5;28;01mdef\u001b[39;00m \u001b[38;5;21mload\u001b[39m(fp, \u001b[38;5;241m*\u001b[39m, \u001b[38;5;28mcls\u001b[39m\u001b[38;5;241m=\u001b[39m\u001b[38;5;28;01mNone\u001b[39;00m, object_hook\u001b[38;5;241m=\u001b[39m\u001b[38;5;28;01mNone\u001b[39;00m, parse_float\u001b[38;5;241m=\u001b[39m\u001b[38;5;28;01mNone\u001b[39;00m,\n\u001b[1;32m    275\u001b[0m         parse_int\u001b[38;5;241m=\u001b[39m\u001b[38;5;28;01mNone\u001b[39;00m, parse_constant\u001b[38;5;241m=\u001b[39m\u001b[38;5;28;01mNone\u001b[39;00m, object_pairs_hook\u001b[38;5;241m=\u001b[39m\u001b[38;5;28;01mNone\u001b[39;00m, \u001b[38;5;241m*\u001b[39m\u001b[38;5;241m*\u001b[39mkw):\n\u001b[1;32m    276\u001b[0m \u001b[38;5;250m    \u001b[39m\u001b[38;5;124;03m\"\"\"Deserialize ``fp`` (a ``.read()``-supporting file-like object containing\u001b[39;00m\n\u001b[1;32m    277\u001b[0m \u001b[38;5;124;03m    a JSON document) to a Python object.\u001b[39;00m\n\u001b[1;32m    278\u001b[0m \n\u001b[0;32m   (...)\u001b[0m\n\u001b[1;32m    291\u001b[0m \u001b[38;5;124;03m    kwarg; otherwise ``JSONDecoder`` is used.\u001b[39;00m\n\u001b[1;32m    292\u001b[0m \u001b[38;5;124;03m    \"\"\"\u001b[39;00m\n\u001b[0;32m--> 293\u001b[0m     \u001b[38;5;28;01mreturn\u001b[39;00m \u001b[43mloads\u001b[49m\u001b[43m(\u001b[49m\u001b[43mfp\u001b[49m\u001b[38;5;241;43m.\u001b[39;49m\u001b[43mread\u001b[49m\u001b[43m(\u001b[49m\u001b[43m)\u001b[49m\u001b[43m,\u001b[49m\n\u001b[1;32m    294\u001b[0m \u001b[43m        \u001b[49m\u001b[38;5;28;43mcls\u001b[39;49m\u001b[38;5;241;43m=\u001b[39;49m\u001b[38;5;28;43mcls\u001b[39;49m\u001b[43m,\u001b[49m\u001b[43m \u001b[49m\u001b[43mobject_hook\u001b[49m\u001b[38;5;241;43m=\u001b[39;49m\u001b[43mobject_hook\u001b[49m\u001b[43m,\u001b[49m\n\u001b[1;32m    295\u001b[0m \u001b[43m        \u001b[49m\u001b[43mparse_float\u001b[49m\u001b[38;5;241;43m=\u001b[39;49m\u001b[43mparse_float\u001b[49m\u001b[43m,\u001b[49m\u001b[43m \u001b[49m\u001b[43mparse_int\u001b[49m\u001b[38;5;241;43m=\u001b[39;49m\u001b[43mparse_int\u001b[49m\u001b[43m,\u001b[49m\n\u001b[1;32m    296\u001b[0m \u001b[43m        \u001b[49m\u001b[43mparse_constant\u001b[49m\u001b[38;5;241;43m=\u001b[39;49m\u001b[43mparse_constant\u001b[49m\u001b[43m,\u001b[49m\u001b[43m \u001b[49m\u001b[43mobject_pairs_hook\u001b[49m\u001b[38;5;241;43m=\u001b[39;49m\u001b[43mobject_pairs_hook\u001b[49m\u001b[43m,\u001b[49m\u001b[43m \u001b[49m\u001b[38;5;241;43m*\u001b[39;49m\u001b[38;5;241;43m*\u001b[39;49m\u001b[43mkw\u001b[49m\u001b[43m)\u001b[49m\n",
                        "File \u001b[0;32m/usr/lib/python3.10/json/__init__.py:346\u001b[0m, in \u001b[0;36mloads\u001b[0;34m(s, cls, object_hook, parse_float, parse_int, parse_constant, object_pairs_hook, **kw)\u001b[0m\n\u001b[1;32m    341\u001b[0m     s \u001b[38;5;241m=\u001b[39m s\u001b[38;5;241m.\u001b[39mdecode(detect_encoding(s), \u001b[38;5;124m'\u001b[39m\u001b[38;5;124msurrogatepass\u001b[39m\u001b[38;5;124m'\u001b[39m)\n\u001b[1;32m    343\u001b[0m \u001b[38;5;28;01mif\u001b[39;00m (\u001b[38;5;28mcls\u001b[39m \u001b[38;5;129;01mis\u001b[39;00m \u001b[38;5;28;01mNone\u001b[39;00m \u001b[38;5;129;01mand\u001b[39;00m object_hook \u001b[38;5;129;01mis\u001b[39;00m \u001b[38;5;28;01mNone\u001b[39;00m \u001b[38;5;129;01mand\u001b[39;00m\n\u001b[1;32m    344\u001b[0m         parse_int \u001b[38;5;129;01mis\u001b[39;00m \u001b[38;5;28;01mNone\u001b[39;00m \u001b[38;5;129;01mand\u001b[39;00m parse_float \u001b[38;5;129;01mis\u001b[39;00m \u001b[38;5;28;01mNone\u001b[39;00m \u001b[38;5;129;01mand\u001b[39;00m\n\u001b[1;32m    345\u001b[0m         parse_constant \u001b[38;5;129;01mis\u001b[39;00m \u001b[38;5;28;01mNone\u001b[39;00m \u001b[38;5;129;01mand\u001b[39;00m object_pairs_hook \u001b[38;5;129;01mis\u001b[39;00m \u001b[38;5;28;01mNone\u001b[39;00m \u001b[38;5;129;01mand\u001b[39;00m \u001b[38;5;129;01mnot\u001b[39;00m kw):\n\u001b[0;32m--> 346\u001b[0m     \u001b[38;5;28;01mreturn\u001b[39;00m \u001b[43m_default_decoder\u001b[49m\u001b[38;5;241;43m.\u001b[39;49m\u001b[43mdecode\u001b[49m\u001b[43m(\u001b[49m\u001b[43ms\u001b[49m\u001b[43m)\u001b[49m\n\u001b[1;32m    347\u001b[0m \u001b[38;5;28;01mif\u001b[39;00m \u001b[38;5;28mcls\u001b[39m \u001b[38;5;129;01mis\u001b[39;00m \u001b[38;5;28;01mNone\u001b[39;00m:\n\u001b[1;32m    348\u001b[0m     \u001b[38;5;28mcls\u001b[39m \u001b[38;5;241m=\u001b[39m JSONDecoder\n",
                        "File \u001b[0;32m/usr/lib/python3.10/json/decoder.py:337\u001b[0m, in \u001b[0;36mJSONDecoder.decode\u001b[0;34m(self, s, _w)\u001b[0m\n\u001b[1;32m    332\u001b[0m \u001b[38;5;28;01mdef\u001b[39;00m \u001b[38;5;21mdecode\u001b[39m(\u001b[38;5;28mself\u001b[39m, s, _w\u001b[38;5;241m=\u001b[39mWHITESPACE\u001b[38;5;241m.\u001b[39mmatch):\n\u001b[1;32m    333\u001b[0m \u001b[38;5;250m    \u001b[39m\u001b[38;5;124;03m\"\"\"Return the Python representation of ``s`` (a ``str`` instance\u001b[39;00m\n\u001b[1;32m    334\u001b[0m \u001b[38;5;124;03m    containing a JSON document).\u001b[39;00m\n\u001b[1;32m    335\u001b[0m \n\u001b[1;32m    336\u001b[0m \u001b[38;5;124;03m    \"\"\"\u001b[39;00m\n\u001b[0;32m--> 337\u001b[0m     obj, end \u001b[38;5;241m=\u001b[39m \u001b[38;5;28;43mself\u001b[39;49m\u001b[38;5;241;43m.\u001b[39;49m\u001b[43mraw_decode\u001b[49m\u001b[43m(\u001b[49m\u001b[43ms\u001b[49m\u001b[43m,\u001b[49m\u001b[43m \u001b[49m\u001b[43midx\u001b[49m\u001b[38;5;241;43m=\u001b[39;49m\u001b[43m_w\u001b[49m\u001b[43m(\u001b[49m\u001b[43ms\u001b[49m\u001b[43m,\u001b[49m\u001b[43m \u001b[49m\u001b[38;5;241;43m0\u001b[39;49m\u001b[43m)\u001b[49m\u001b[38;5;241;43m.\u001b[39;49m\u001b[43mend\u001b[49m\u001b[43m(\u001b[49m\u001b[43m)\u001b[49m\u001b[43m)\u001b[49m\n\u001b[1;32m    338\u001b[0m     end \u001b[38;5;241m=\u001b[39m _w(s, end)\u001b[38;5;241m.\u001b[39mend()\n\u001b[1;32m    339\u001b[0m     \u001b[38;5;28;01mif\u001b[39;00m end \u001b[38;5;241m!=\u001b[39m \u001b[38;5;28mlen\u001b[39m(s):\n",
                        "File \u001b[0;32m/usr/lib/python3.10/json/decoder.py:353\u001b[0m, in \u001b[0;36mJSONDecoder.raw_decode\u001b[0;34m(self, s, idx)\u001b[0m\n\u001b[1;32m    344\u001b[0m \u001b[38;5;250m\u001b[39m\u001b[38;5;124;03m\"\"\"Decode a JSON document from ``s`` (a ``str`` beginning with\u001b[39;00m\n\u001b[1;32m    345\u001b[0m \u001b[38;5;124;03ma JSON document) and return a 2-tuple of the Python\u001b[39;00m\n\u001b[1;32m    346\u001b[0m \u001b[38;5;124;03mrepresentation and the index in ``s`` where the document ended.\u001b[39;00m\n\u001b[0;32m   (...)\u001b[0m\n\u001b[1;32m    350\u001b[0m \n\u001b[1;32m    351\u001b[0m \u001b[38;5;124;03m\"\"\"\u001b[39;00m\n\u001b[1;32m    352\u001b[0m \u001b[38;5;28;01mtry\u001b[39;00m:\n\u001b[0;32m--> 353\u001b[0m     obj, end \u001b[38;5;241m=\u001b[39m \u001b[38;5;28;43mself\u001b[39;49m\u001b[38;5;241;43m.\u001b[39;49m\u001b[43mscan_once\u001b[49m\u001b[43m(\u001b[49m\u001b[43ms\u001b[49m\u001b[43m,\u001b[49m\u001b[43m \u001b[49m\u001b[43midx\u001b[49m\u001b[43m)\u001b[49m\n\u001b[1;32m    354\u001b[0m \u001b[38;5;28;01mexcept\u001b[39;00m \u001b[38;5;167;01mStopIteration\u001b[39;00m \u001b[38;5;28;01mas\u001b[39;00m err:\n\u001b[1;32m    355\u001b[0m     \u001b[38;5;28;01mraise\u001b[39;00m JSONDecodeError(\u001b[38;5;124m\"\u001b[39m\u001b[38;5;124mExpecting value\u001b[39m\u001b[38;5;124m\"\u001b[39m, s, err\u001b[38;5;241m.\u001b[39mvalue) \u001b[38;5;28;01mfrom\u001b[39;00m \u001b[38;5;28;01mNone\u001b[39;00m\n",
                        "\u001b[0;31mJSONDecodeError\u001b[0m: Expecting ',' delimiter: line 1 column 499089 (char 499088)"
                    ]
                }
            ],
            "source": [
                "from src import plot_anelastic_induced_spatial_load_trend_per_description_per_options\n",
                "\n",
                "plot_anelastic_induced_spatial_load_trend_per_description_per_options(\n",
                "    anelasticity_description_ids=[\n",
                "        \"PREM___Peltier_upper_mantle__elastic_lithosphere___Benjamin_Q_PREM/asymptotic_mu_ratio__0.2__0.2__0.2__0.2__1.0\",\n",
                "        \"PREM___Burgers_asthenosphere__elastic_lithosphere___Benjamin_Q_PREM/asymptotic_mu_ratio__0.2__0.2__0.2__0.2__1.0\",\n",
                "    ],\n",
                "    figsize=(10, 10),\n",
                "    exp_scale_factor=1.2,\n",
                "    continents=True,\n",
                ")"
            ]
        }
    ],
    "metadata": {
        "kernelspec": {
            "display_name": "Python 3",
            "language": "python",
            "name": "python3"
        },
        "language_info": {
            "codemirror_mode": {
                "name": "ipython",
                "version": 3
            },
            "file_extension": ".py",
            "mimetype": "text/x-python",
            "name": "python",
            "nbconvert_exporter": "python",
            "pygments_lexer": "ipython3",
            "version": "3.10.12"
        }
    },
    "nbformat": 4,
    "nbformat_minor": 2
}
