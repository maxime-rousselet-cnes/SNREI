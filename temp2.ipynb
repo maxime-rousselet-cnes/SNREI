{
 "cells": [
  {
   "cell_type": "code",
   "execution_count": 1,
   "metadata": {},
   "outputs": [],
   "source": [
    "from src.utils import (\n",
    "    load_complex_array_from_binary,\n",
    "    elastic_load_signal_trends_path,\n",
    "    anelastic_load_signal_trends_path,\n",
    ")\n",
    "\n",
    "elastic_load_signal_trends = load_complex_array_from_binary(\n",
    "    name=\"0\", path=elastic_load_signal_trends_path\n",
    ")\n",
    "\n",
    "C_1_0, C_1_1, S_1_1 = (\n",
    "    elastic_load_signal_trends[0, 1, 0],\n",
    "    elastic_load_signal_trends[0, 1, 1],\n",
    "    elastic_load_signal_trends[1, 1, 1],\n",
    ")\n",
    "\n",
    "computed_elastic_load_signal_trends = load_complex_array_from_binary(\n",
    "    name=\"0\", path=anelastic_load_signal_trends_path\n",
    ")\n",
    "\n",
    "computed_C_1_0, computed_C_1_1, computed_S_1_1 = (\n",
    "    computed_elastic_load_signal_trends[0, 1, 0],\n",
    "    computed_elastic_load_signal_trends[0, 1, 1],\n",
    "    computed_elastic_load_signal_trends[1, 1, 1],\n",
    ")"
   ]
  },
  {
   "cell_type": "code",
   "execution_count": 2,
   "metadata": {},
   "outputs": [
    {
     "data": {
      "text/plain": [
       "((-1.3731231054595956+0j),\n",
       " (-0.29009959770008553+0j),\n",
       " (-0.00902938130516669+0j))"
      ]
     },
     "execution_count": 2,
     "metadata": {},
     "output_type": "execute_result"
    }
   ],
   "source": [
    "C_1_0, C_1_1, S_1_1"
   ]
  },
  {
   "cell_type": "code",
   "execution_count": 3,
   "metadata": {},
   "outputs": [
    {
     "data": {
      "text/plain": [
       "((-1.9869443919995613+0j), (-0.4561881021534213+0j), (0.0711501887428222+0j))"
      ]
     },
     "execution_count": 3,
     "metadata": {},
     "output_type": "execute_result"
    }
   ],
   "source": [
    "computed_C_1_0, computed_C_1_1, computed_S_1_1"
   ]
  },
  {
   "cell_type": "code",
   "execution_count": null,
   "metadata": {},
   "outputs": [],
   "source": [
    "from pyshtools import SHCoeffs\n",
    "\n",
    "clm = SHCoeffs.from_array(\n",
    "    coeffs=computed_elastic_load_signal_trends - elastic_load_signal_trends\n",
    ")\n",
    "grid = clm.expand()\n",
    "fig, ax = grid.plot(show=False)"
   ]
  }
 ],
 "metadata": {
  "kernelspec": {
   "display_name": "Python 3",
   "language": "python",
   "name": "python3"
  },
  "language_info": {
   "codemirror_mode": {
    "name": "ipython",
    "version": 3
   },
   "file_extension": ".py",
   "mimetype": "text/x-python",
   "name": "python",
   "nbconvert_exporter": "python",
   "pygments_lexer": "ipython3",
   "version": "3.10.12"
  }
 },
 "nbformat": 4,
 "nbformat_minor": 2
}
