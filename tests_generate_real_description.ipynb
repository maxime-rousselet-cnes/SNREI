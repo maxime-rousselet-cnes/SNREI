{
 "cells": [
  {
   "cell_type": "code",
   "execution_count": 1,
   "metadata": {},
   "outputs": [],
   "source": [
    "from utils import (\n",
    "    LoveNumbersHyperParameters,\n",
    "    load_base_model,\n",
    "    parameters_path,\n",
    "    Earth_radius,\n",
    "    elastic_Love_numbers_computing,\n",
    ")\n",
    "from numpy import ones\n",
    "\n",
    "Love_numbers_hyper_parameters: LoveNumbersHyperParameters = load_base_model(\n",
    "    name=\"Love_numbers_hyper_parameters\", path=parameters_path, base_model_type=LoveNumbersHyperParameters\n",
    ")\n",
    "Love_numbers_hyper_parameters.load()"
   ]
  },
  {
   "cell_type": "code",
   "execution_count": 3,
   "metadata": {},
   "outputs": [],
   "source": [
    "from utils import RealDescription\n",
    "\n",
    "# Generates real description using new elasticity description.\n",
    "real_description = RealDescription(\n",
    "    id=\"test-Asthenosphere\",\n",
    "    below_ICB_layers=Love_numbers_hyper_parameters.real_description_parameters.below_ICB_layers,\n",
    "    below_CMB_layers=Love_numbers_hyper_parameters.real_description_parameters.below_CMB_layers,\n",
    "    splines_degree=Love_numbers_hyper_parameters.real_description_parameters.splines_degree,\n",
    "    radius_unit=(\n",
    "        Love_numbers_hyper_parameters.real_description_parameters.radius_unit\n",
    "        if Love_numbers_hyper_parameters.real_description_parameters.radius_unit\n",
    "        else Earth_radius\n",
    "    ),\n",
    "    real_crust=Love_numbers_hyper_parameters.real_description_parameters.real_crust,\n",
    "    n_splines_base=10,\n",
    "    profile_precision=10,\n",
    "    radius=(\n",
    "        Love_numbers_hyper_parameters.real_description_parameters.radius_unit\n",
    "        if Love_numbers_hyper_parameters.real_description_parameters.radius_unit\n",
    "        else Earth_radius\n",
    "    ),\n",
    "    load_description=False,\n",
    "    anelasticity_model_from_name=\"test-low-viscosity-Asthenosphere\",\n",
    ")"
   ]
  },
  {
   "cell_type": "code",
   "execution_count": 4,
   "metadata": {},
   "outputs": [
    {
     "data": {
      "text/plain": [
       "{<Direction.radial: 0>: {<BoundaryCondition.load: 0>: array([[-0.2859902 +0.j],\n",
       "         [-0.99145273+0.j]]),\n",
       "  <BoundaryCondition.shear: 1>: array([[0.        +0.j],\n",
       "         [0.06051891+0.j]]),\n",
       "  <BoundaryCondition.potential: 2>: array([[0.        +0.j],\n",
       "         [0.60329666+0.j]])},\n",
       " <Direction.tangential: 1>: {<BoundaryCondition.load: 0>: array([[0.10360985+0.j],\n",
       "         [0.04669886+0.j]]),\n",
       "  <BoundaryCondition.shear: 1>: array([[0.       +0.j],\n",
       "         [0.6340226+0.j]]),\n",
       "  <BoundaryCondition.potential: 2>: array([[0.        +0.j],\n",
       "         [0.16773665+0.j]])},\n",
       " <Direction.potential: 2>: {<BoundaryCondition.load: 0>: array([[ 0.       +0.j],\n",
       "         [-0.6106057+0.j]]),\n",
       "  <BoundaryCondition.shear: 1>: array([[0.        +0.j],\n",
       "         [0.16773667+0.j]]),\n",
       "  <BoundaryCondition.potential: 2>: array([[0.        +0.j],\n",
       "         [0.59598762+0.j]])}}"
      ]
     },
     "execution_count": 4,
     "metadata": {},
     "output_type": "execute_result"
    }
   ],
   "source": [
    "from utils import Result\n",
    "\n",
    "# Verifies elastic results.\n",
    "degrees = [1, 2]\n",
    "elastic_Love_numbers = elastic_Love_numbers_computing(\n",
    "    y_system_hyper_parameters=Love_numbers_hyper_parameters.y_system_hyper_parameters,\n",
    "    degrees=degrees,\n",
    "    real_description=real_description,\n",
    ")\n",
    "\n",
    "elastic_result = Result(hyper_parameters=Love_numbers_hyper_parameters)\n",
    "elastic_result.update_values_from_array(result_array=elastic_Love_numbers, degrees=degrees)\n",
    "elastic_result.values"
   ]
  }
 ],
 "metadata": {
  "kernelspec": {
   "display_name": "Python 3",
   "language": "python",
   "name": "python3"
  },
  "language_info": {
   "codemirror_mode": {
    "name": "ipython",
    "version": 3
   },
   "file_extension": ".py",
   "mimetype": "text/x-python",
   "name": "python",
   "nbconvert_exporter": "python",
   "pygments_lexer": "ipython3",
   "version": "3.10.12"
  }
 },
 "nbformat": 4,
 "nbformat_minor": 2
}
