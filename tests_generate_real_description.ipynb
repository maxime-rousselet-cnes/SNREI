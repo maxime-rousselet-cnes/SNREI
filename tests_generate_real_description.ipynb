{
 "cells": [
  {
   "cell_type": "code",
   "execution_count": 1,
   "metadata": {},
   "outputs": [],
   "source": [
    "from utils import load_Love_numbers_hyper_parameters\n",
    "\n",
    "Love_numbers_hyper_parameters = load_Love_numbers_hyper_parameters()"
   ]
  },
  {
   "cell_type": "code",
   "execution_count": 2,
   "metadata": {},
   "outputs": [],
   "source": [
    "from utils import real_description_from_parameters\n",
    "\n",
    "# Generates real description using new elasticity description.\n",
    "real_description = real_description_from_parameters(\n",
    "    Love_numbers_hyper_parameters=Love_numbers_hyper_parameters, real_description_id=\"test\", save=False\n",
    ")"
   ]
  },
  {
   "cell_type": "code",
   "execution_count": 3,
   "metadata": {},
   "outputs": [
    {
     "data": {
      "text/plain": [
       "{<Direction.radial: 0>: {<BoundaryCondition.load: 0>: array([[-0.99145276+0.j]]),\n",
       "  <BoundaryCondition.shear: 1>: array([[0.0605189+0.j]]),\n",
       "  <BoundaryCondition.potential: 2>: array([[0.60329667+0.j]])},\n",
       " <Direction.tangential: 1>: {<BoundaryCondition.load: 0>: array([[0.04669887+0.j]]),\n",
       "  <BoundaryCondition.shear: 1>: array([[0.63402264+0.j]]),\n",
       "  <BoundaryCondition.potential: 2>: array([[0.16773665+0.j]])},\n",
       " <Direction.potential: 2>: {<BoundaryCondition.load: 0>: array([[-0.6106057+0.j]]),\n",
       "  <BoundaryCondition.shear: 1>: array([[0.16773667+0.j]]),\n",
       "  <BoundaryCondition.potential: 2>: array([[0.59598762+0.j]])}}"
      ]
     },
     "execution_count": 3,
     "metadata": {},
     "output_type": "execute_result"
    }
   ],
   "source": [
    "from utils import Result, elastic_Love_numbers_computing\n",
    "\n",
    "# Verifies elastic results.\n",
    "degrees = [2]\n",
    "elastic_Love_numbers = elastic_Love_numbers_computing(\n",
    "    y_system_hyper_parameters=Love_numbers_hyper_parameters.y_system_hyper_parameters,\n",
    "    degrees=degrees,\n",
    "    real_description=real_description,\n",
    ")\n",
    "\n",
    "elastic_result = Result(hyper_parameters=Love_numbers_hyper_parameters)\n",
    "elastic_result.update_values_from_array(result_array=elastic_Love_numbers, degrees=degrees)\n",
    "elastic_result.values"
   ]
  }
 ],
 "metadata": {
  "kernelspec": {
   "display_name": "Python 3",
   "language": "python",
   "name": "python3"
  },
  "language_info": {
   "codemirror_mode": {
    "name": "ipython",
    "version": 3
   },
   "file_extension": ".py",
   "mimetype": "text/x-python",
   "name": "python",
   "nbconvert_exporter": "python",
   "pygments_lexer": "ipython3",
   "version": "3.10.12"
  }
 },
 "nbformat": 4,
 "nbformat_minor": 2
}
