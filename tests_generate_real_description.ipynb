{
 "cells": [
  {
   "cell_type": "code",
   "execution_count": 5,
   "metadata": {},
   "outputs": [
    {
     "data": {
      "text/plain": [
       "(0.9727353219191213+0.16285366256251269j)"
      ]
     },
     "execution_count": 5,
     "metadata": {},
     "output_type": "execute_result"
    }
   ],
   "source": [
    "from numpy import pi\n",
    "\n",
    "1e11 * (1.0 - 1.0 / (1.0 + (2.0*pi/(86400*365.25*100)) / (1e11/3e20) * 1.0j)) / 1e11"
   ]
  },
  {
   "cell_type": "code",
   "execution_count": 1,
   "metadata": {},
   "outputs": [],
   "source": [
    "from utils import (\n",
    "    RealDescription,\n",
    "    ElasticityDescription,\n",
    "    LoveNumbersHyperParameters,\n",
    "    load_base_model,\n",
    "    parameters_path,\n",
    "    Earth_radius,\n",
    "    elastic_Love_numbers_computing,\n",
    "    elasticity_descriptions_path,\n",
    ")\n",
    "from numpy import ones\n",
    "\n",
    "Love_numbers_hyper_parameters: LoveNumbersHyperParameters = load_base_model(\n",
    "    name=\"Love_numbers_hyper_parameters\", path=parameters_path, base_model_type=LoveNumbersHyperParameters\n",
    ")\n",
    "Love_numbers_hyper_parameters.load()\n",
    "\n",
    "# Generates elasticity description.\n",
    "elasticity_description = ElasticityDescription(\n",
    "    radius_unit=(\n",
    "        Love_numbers_hyper_parameters.real_description_parameters.radius_unit\n",
    "        if Love_numbers_hyper_parameters.real_description_parameters.radius_unit\n",
    "        else Earth_radius\n",
    "    ),\n",
    "    below_ICB_layers=Love_numbers_hyper_parameters.real_description_parameters.below_ICB_layers,\n",
    "    real_crust=Love_numbers_hyper_parameters.real_description_parameters.real_crust,\n",
    "    n_splines_base=10,\n",
    "    profile_precision=10,\n",
    "    below_CMB_layers=Love_numbers_hyper_parameters.real_description_parameters.below_CMB_layers,\n",
    "    splines_degree=Love_numbers_hyper_parameters.real_description_parameters.splines_degree,\n",
    "    model_filename=\"PREM\",\n",
    "    id=\"mu11\",\n",
    "    load_description=False,\n",
    ")\n",
    "\n",
    "# Force mu value.\n",
    "forced_mu = 1e11 / (\n",
    "    elasticity_description.density_unit * elasticity_description.radius_unit**2 / elasticity_description.period_unit**2\n",
    ")\n",
    "for i_layer, layer in enumerate(elasticity_description.description_layers):\n",
    "    elasticity_description.description_layers[i_layer].splines[\"mu_0\"] = (\n",
    "        layer.splines[\"mu_0\"][0],\n",
    "        forced_mu * ones(shape=layer.splines[\"mu_0\"][1].shape),\n",
    "        layer.splines[\"mu_0\"][2],\n",
    "    )\n",
    "# Saves new description.\n",
    "elasticity_description.save(path=elasticity_descriptions_path)\n",
    "\n",
    "# Generates real description using new elasticity description.\n",
    "real_description = RealDescription(\n",
    "    id=\"test-mu11\",\n",
    "    below_ICB_layers=Love_numbers_hyper_parameters.real_description_parameters.below_ICB_layers,\n",
    "    below_CMB_layers=Love_numbers_hyper_parameters.real_description_parameters.below_CMB_layers,\n",
    "    splines_degree=Love_numbers_hyper_parameters.real_description_parameters.splines_degree,\n",
    "    radius_unit=(\n",
    "        Love_numbers_hyper_parameters.real_description_parameters.radius_unit\n",
    "        if Love_numbers_hyper_parameters.real_description_parameters.radius_unit\n",
    "        else Earth_radius\n",
    "    ),\n",
    "    real_crust=Love_numbers_hyper_parameters.real_description_parameters.real_crust,\n",
    "    n_splines_base=10,\n",
    "    profile_precision=10,\n",
    "    radius=(\n",
    "        Love_numbers_hyper_parameters.real_description_parameters.radius_unit\n",
    "        if Love_numbers_hyper_parameters.real_description_parameters.radius_unit\n",
    "        else Earth_radius\n",
    "    ),\n",
    "    load_description=False,\n",
    "    elasticity_description_from_id=\"mu11\"\n",
    ")"
   ]
  },
  {
   "cell_type": "code",
   "execution_count": 2,
   "metadata": {},
   "outputs": [
    {
     "data": {
      "text/plain": [
       "{<Direction.radial: 0>: {<BoundaryCondition.load: 0>: array([[-0.30580461+0.j],\n",
       "         [-1.29668031+0.j]]),\n",
       "  <BoundaryCondition.shear: 1>: array([[0.        +0.j],\n",
       "         [0.16984415+0.j]]),\n",
       "  <BoundaryCondition.potential: 2>: array([[0.        +0.j],\n",
       "         [0.90243503+0.j]])},\n",
       " <Direction.tangential: 1>: {<BoundaryCondition.load: 0>: array([[ 0.09162569+0.j],\n",
       "         [-0.05537723+0.j]]),\n",
       "  <BoundaryCondition.shear: 1>: array([[0.        +0.j],\n",
       "         [0.72094023+0.j]]),\n",
       "  <BoundaryCondition.potential: 2>: array([[0.        +0.j],\n",
       "         [0.28431107+0.j]])},\n",
       " <Direction.potential: 2>: {<BoundaryCondition.load: 0>: array([[ 0.        +0.j],\n",
       "         [-0.90881643+0.j]]),\n",
       "  <BoundaryCondition.shear: 1>: array([[0.        +0.j],\n",
       "         [0.28431107+0.j]]),\n",
       "  <BoundaryCondition.potential: 2>: array([[0.        +0.j],\n",
       "         [0.89605362+0.j]])}}"
      ]
     },
     "execution_count": 2,
     "metadata": {},
     "output_type": "execute_result"
    }
   ],
   "source": [
    "from utils import Result\n",
    "\n",
    "# Verifies elastic results.\n",
    "degrees = [1, 2]\n",
    "elastic_Love_numbers = elastic_Love_numbers_computing(\n",
    "    y_system_hyper_parameters=Love_numbers_hyper_parameters.y_system_hyper_parameters,\n",
    "    degrees=degrees,\n",
    "    real_description=real_description,\n",
    ")\n",
    "\n",
    "elastic_result = Result(hyper_parameters=Love_numbers_hyper_parameters)\n",
    "elastic_result.update_values_from_array(result_array=elastic_Love_numbers, degrees=degrees)\n",
    "elastic_result.values"
   ]
  }
 ],
 "metadata": {
  "kernelspec": {
   "display_name": "Python 3",
   "language": "python",
   "name": "python3"
  },
  "language_info": {
   "codemirror_mode": {
    "name": "ipython",
    "version": 3
   },
   "file_extension": ".py",
   "mimetype": "text/x-python",
   "name": "python",
   "nbconvert_exporter": "python",
   "pygments_lexer": "ipython3",
   "version": "3.10.12"
  }
 },
 "nbformat": 4,
 "nbformat_minor": 2
}
