{
 "cells": [
  {
   "cell_type": "code",
   "execution_count": 1,
   "metadata": {},
   "outputs": [],
   "source": [
    "from utils import (\n",
    "    RealDescription,\n",
    "    LoveNumbersHyperParameters,\n",
    "    load_base_model,\n",
    "    parameters_path,\n",
    "    Earth_radius,\n",
    "    elastic_Love_numbers_computing,\n",
    ")\n",
    "\n",
    "Love_numbers_hyper_parameters: LoveNumbersHyperParameters = load_base_model(\n",
    "    name=\"Love_numbers_hyper_parameters\", path=parameters_path, base_model_type=LoveNumbersHyperParameters\n",
    ")\n",
    "Love_numbers_hyper_parameters.load()\n",
    "real_description = RealDescription(\n",
    "    id=\"test-Asthenosphere\",\n",
    "    below_ICB_layers=Love_numbers_hyper_parameters.real_description_parameters.below_ICB_layers,\n",
    "    below_CMB_layers=Love_numbers_hyper_parameters.real_description_parameters.below_CMB_layers,\n",
    "    splines_degree=Love_numbers_hyper_parameters.real_description_parameters.splines_degree,\n",
    "    radius_unit=(\n",
    "        Love_numbers_hyper_parameters.real_description_parameters.radius_unit\n",
    "        if Love_numbers_hyper_parameters.real_description_parameters.radius_unit\n",
    "        else Earth_radius\n",
    "    ),\n",
    "    real_crust=Love_numbers_hyper_parameters.real_description_parameters.real_crust,\n",
    "    n_splines_base=10,\n",
    "    profile_precision=100,\n",
    "    radius=(\n",
    "        Love_numbers_hyper_parameters.real_description_parameters.radius_unit\n",
    "        if Love_numbers_hyper_parameters.real_description_parameters.radius_unit\n",
    "        else Earth_radius\n",
    "    ),\n",
    "    load_description=False,\n",
    "    anelasticity_model_from_name=\"test-low-viscosity-Asthenosphere\",\n",
    ")"
   ]
  },
  {
   "cell_type": "code",
   "execution_count": 2,
   "metadata": {},
   "outputs": [
    {
     "data": {
      "text/plain": [
       "{<Direction.radial: 0>: {<BoundaryCondition.load: 0>: array([[-0.28579981+0.j],\n",
       "         [-0.9911582 +0.j]]),\n",
       "  <BoundaryCondition.shear: 1>: array([[0.        +0.j],\n",
       "         [0.06054103+0.j]]),\n",
       "  <BoundaryCondition.potential: 2>: array([[0.        +0.j],\n",
       "         [0.60322341+0.j]])},\n",
       " <Direction.tangential: 1>: {<BoundaryCondition.load: 0>: array([[0.10364662+0.j],\n",
       "         [0.04666531+0.j]]),\n",
       "  <BoundaryCondition.shear: 1>: array([[0.        +0.j],\n",
       "         [0.63388481+0.j]]),\n",
       "  <BoundaryCondition.potential: 2>: array([[0.        +0.j],\n",
       "         [0.16774736+0.j]])},\n",
       " <Direction.potential: 2>: {<BoundaryCondition.load: 0>: array([[ 0.        +0.j],\n",
       "         [-0.61048221+0.j]]),\n",
       "  <BoundaryCondition.shear: 1>: array([[0.        +0.j],\n",
       "         [0.16774735+0.j]]),\n",
       "  <BoundaryCondition.potential: 2>: array([[0.       +0.j],\n",
       "         [0.5959646+0.j]])}}"
      ]
     },
     "execution_count": 2,
     "metadata": {},
     "output_type": "execute_result"
    }
   ],
   "source": [
    "from utils import Result\n",
    "\n",
    "degrees = [1, 2]\n",
    "elastic_Love_numbers = elastic_Love_numbers_computing(\n",
    "    y_system_hyper_parameters=Love_numbers_hyper_parameters.y_system_hyper_parameters,\n",
    "    degrees=degrees,\n",
    "    real_description=real_description,\n",
    ")\n",
    "\n",
    "elastic_result = Result(hyper_parameters=Love_numbers_hyper_parameters)\n",
    "elastic_result.update_values_from_array(result_array=elastic_Love_numbers, degrees=degrees)\n",
    "elastic_result.values"
   ]
  }
 ],
 "metadata": {
  "kernelspec": {
   "display_name": "Python 3",
   "language": "python",
   "name": "python3"
  },
  "language_info": {
   "codemirror_mode": {
    "name": "ipython",
    "version": 3
   },
   "file_extension": ".py",
   "mimetype": "text/x-python",
   "name": "python",
   "nbconvert_exporter": "python",
   "pygments_lexer": "ipython3",
   "version": "3.10.12"
  }
 },
 "nbformat": 4,
 "nbformat_minor": 2
}
