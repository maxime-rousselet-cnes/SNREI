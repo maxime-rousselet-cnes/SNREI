{
 "cells": [
  {
   "cell_type": "code",
   "execution_count": 11,
   "metadata": {},
   "outputs": [],
   "source": [
    "from netCDF4 import Dataset\n",
    "from netCDF4._netCDF4 import Variable\n",
    "fn = 'data/IMERG_land_sea_mask.nc'\n",
    "ds = Dataset(fn)"
   ]
  },
  {
   "cell_type": "code",
   "execution_count": 27,
   "metadata": {},
   "outputs": [
    {
     "data": {
      "text/plain": [
       "<class 'netCDF4._netCDF4.Dataset'>\n",
       "root group (NETCDF3_CLASSIC data model, file format NETCDF3):\n",
       "    dimensions(sizes): lon(3602), lat(1800)\n",
       "    variables(dimensions): float64 lon(lon), float64 lat(lat), float32 landseamask(lat, lon)\n",
       "    groups: "
      ]
     },
     "execution_count": 27,
     "metadata": {},
     "output_type": "execute_result"
    }
   ],
   "source": [
    "ds"
   ]
  },
  {
   "cell_type": "code",
   "execution_count": 28,
   "metadata": {},
   "outputs": [],
   "source": [
    "lon: Variable = ds.variables[\"lon\"]\n",
    "lat: Variable = ds.variables[\"lat\"]\n",
    "landseamask: Variable = ds.variables[\"landseamask\"]"
   ]
  },
  {
   "cell_type": "code",
   "execution_count": 31,
   "metadata": {},
   "outputs": [
    {
     "data": {
      "text/plain": [
       "masked_array(data=0.,\n",
       "             mask=False,\n",
       "       fill_value=1e+20,\n",
       "            dtype=float32)"
      ]
     },
     "execution_count": 31,
     "metadata": {},
     "output_type": "execute_result"
    }
   ],
   "source": [
    "landseamask[0, 0]"
   ]
  },
  {
   "cell_type": "code",
   "execution_count": 29,
   "metadata": {},
   "outputs": [
    {
     "data": {
      "text/plain": [
       "array(-0.05)"
      ]
     },
     "execution_count": 29,
     "metadata": {},
     "output_type": "execute_result"
    }
   ],
   "source": [
    "lon[0].data"
   ]
  },
  {
   "cell_type": "code",
   "execution_count": 1,
   "metadata": {},
   "outputs": [
    {
     "data": {
      "text/plain": [
       "(0.3352083473596718-0.01651091917391641j)"
      ]
     },
     "execution_count": 1,
     "metadata": {},
     "output_type": "execute_result"
    }
   ],
   "source": [
    "from utils import Result, results_path, load_base_model, frequencies_to_periods\n",
    "from utils import Direction, BoundaryCondition\n",
    "from scipy import interpolate\n",
    "\n",
    "path = results_path.joinpath(\"base-model\")\n",
    "sub_path = path.joinpath(\"runs\").joinpath(\"__attenuation\")\n",
    "anelastic_Love_numbers = Result()\n",
    "anelastic_Love_numbers.load(name=\"anelastic_Love_numbers\", path=sub_path)\n",
    "frequency_values = load_base_model(name=\"frequencies\", path=sub_path)\n",
    "T_values = frequencies_to_periods(frequencies=frequency_values)\n",
    "\n",
    "anelastic_values = anelastic_Love_numbers.values[Direction.potential][BoundaryCondition.potential][1]\n",
    "\n",
    "# Interpolates value for k_2(18.6 y tide)\n",
    "f = interpolate.interp1d(x=T_values, y=anelastic_values, kind=\"linear\")\n",
    "f(18.) / 2.0"
   ]
  }
 ],
 "metadata": {
  "kernelspec": {
   "display_name": "Python 3",
   "language": "python",
   "name": "python3"
  },
  "language_info": {
   "codemirror_mode": {
    "name": "ipython",
    "version": 3
   },
   "file_extension": ".py",
   "mimetype": "text/x-python",
   "name": "python",
   "nbconvert_exporter": "python",
   "pygments_lexer": "ipython3",
   "version": "3.10.12"
  }
 },
 "nbformat": 4,
 "nbformat_minor": 2
}
